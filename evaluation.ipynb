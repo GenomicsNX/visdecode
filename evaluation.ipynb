{
 "cells": [
  {
   "cell_type": "code",
   "execution_count": 39,
   "metadata": {},
   "outputs": [],
   "source": [
    "import pandas as pd\n",
    "import os\n",
    "import json\n",
    "from metrics import *"
   ]
  },
  {
   "cell_type": "code",
   "execution_count": 40,
   "metadata": {},
   "outputs": [
    {
     "data": {
      "text/html": [
       "<div>\n",
       "<style scoped>\n",
       "    .dataframe tbody tr th:only-of-type {\n",
       "        vertical-align: middle;\n",
       "    }\n",
       "\n",
       "    .dataframe tbody tr th {\n",
       "        vertical-align: top;\n",
       "    }\n",
       "\n",
       "    .dataframe thead th {\n",
       "        text-align: right;\n",
       "    }\n",
       "</style>\n",
       "<table border=\"1\" class=\"dataframe\">\n",
       "  <thead>\n",
       "    <tr style=\"text-align: right;\">\n",
       "      <th></th>\n",
       "      <th>pred</th>\n",
       "      <th>gt</th>\n",
       "    </tr>\n",
       "  </thead>\n",
       "  <tbody>\n",
       "    <tr>\n",
       "      <th>0</th>\n",
       "      <td>{'mark_type': 'vbar', 'x_name': 'Year', 'y_nam...</td>\n",
       "      <td>{'mark_type': 'point', 'x_name': 'Year', 'y_na...</td>\n",
       "    </tr>\n",
       "    <tr>\n",
       "      <th>1</th>\n",
       "      <td>{'mark_type': 'vbar', 'x_name': 'Year', 'y_nam...</td>\n",
       "      <td>{'mark_type': 'line', 'x_name': ' ', 'y_name':...</td>\n",
       "    </tr>\n",
       "    <tr>\n",
       "      <th>2</th>\n",
       "      <td>{'mark_type': 'pie', 'x_name': 'Color', 'y_nam...</td>\n",
       "      <td>{'mark_type': 'pie', 'x_name': ' ', 'y_name': ...</td>\n",
       "    </tr>\n",
       "    <tr>\n",
       "      <th>3</th>\n",
       "      <td>{'mark_type': 'pie', 'x_name': 'Orange', 'y_na...</td>\n",
       "      <td>{'mark_type': 'pie', 'x_name': ' ', 'y_name': ...</td>\n",
       "    </tr>\n",
       "    <tr>\n",
       "      <th>4</th>\n",
       "      <td>{'mark_type': 'vbar', 'x_name': 'Year', 'y_nam...</td>\n",
       "      <td>{'mark_type': 'hbar', 'x_name': '% of repeater...</td>\n",
       "    </tr>\n",
       "  </tbody>\n",
       "</table>\n",
       "</div>"
      ],
      "text/plain": [
       "                                                pred  \\\n",
       "0  {'mark_type': 'vbar', 'x_name': 'Year', 'y_nam...   \n",
       "1  {'mark_type': 'vbar', 'x_name': 'Year', 'y_nam...   \n",
       "2  {'mark_type': 'pie', 'x_name': 'Color', 'y_nam...   \n",
       "3  {'mark_type': 'pie', 'x_name': 'Orange', 'y_na...   \n",
       "4  {'mark_type': 'vbar', 'x_name': 'Year', 'y_nam...   \n",
       "\n",
       "                                                  gt  \n",
       "0  {'mark_type': 'point', 'x_name': 'Year', 'y_na...  \n",
       "1  {'mark_type': 'line', 'x_name': ' ', 'y_name':...  \n",
       "2  {'mark_type': 'pie', 'x_name': ' ', 'y_name': ...  \n",
       "3  {'mark_type': 'pie', 'x_name': ' ', 'y_name': ...  \n",
       "4  {'mark_type': 'hbar', 'x_name': '% of repeater...  "
      ]
     },
     "execution_count": 40,
     "metadata": {},
     "output_type": "execute_result"
    }
   ],
   "source": [
    "samples_df = pd.read_csv(\"/home/martin/Desktop/visdecode+/output/llava_samples.csv\")\n",
    "samples_df.head()"
   ]
  },
  {
   "cell_type": "code",
   "execution_count": 41,
   "metadata": {},
   "outputs": [
    {
     "name": "stdout",
     "output_type": "stream",
     "text": [
      "JSON decode error --> {\"mark_type\": \"pie\", \"x_name\": \"Lens\", \"y_name\": \"Source\", \"title\": \"Lens Source\"} {\"mark_type\": \"pie\", \"x_name\": \" \", \"y_name\": \" \", \"title\": nan}\n",
      "JSON decode error --> {\"mark_type\": \"pie\", \"x_name\": \"Bubblegum\", \"y_name\": \"Aquafaba\", \"title\": \"Bubblegum, Aquafaba, Bubblegum, Bubblegum, Bubblegum, Bubblegum, Bubblegum, Bubblegum, Bubblegum, Bubblegum, Bubblegum, Bubblegum, Bubblegum, Bubblegum, Bubblegum, Bubblegum, Bubblegum, Bubblegum, Bubblegum, Bubblegum, Bubblegum, Bubblegum, Bubblegum, Bubblegum, Bubblegum, Bubblegum, Bubblegum, Bubblegum, Bubblegum, Bubblegum, Bubblegum, Bubblegum, Bubblegum, Bubblegum, Bubblegum, Bubblegum, Bubblegum, Bubblegum, Bubblegum, Bubblegum, Bubblegum, Bubblegum, Bubblegum, Bubblegum, Bubblegum, Bubblegum, Bubblegum, Bubblegum, Bubblegum, Bubblegum, Bubblegum, Bubblegum, Bubblegum, Bubblegum, Bubblegum, Bubblegum, Bubblegum, Bubblegum, Bubblegum, Bubblegum, Bubblegum, Bubblegum, Bubblegum, Bubblegum, Bubblegum, Bubblegum, Bubblegum, Bubblegum, Bubblegum, Bubblegum, Bubblegum, Bubblegum, Bubblegum, Bubblegum, Bubblegum, Bubblegum, Bubblegum, Bubblegum, Bubblegum, Bubblegum, Bubblegum, Bubblegum, Bubblegum, Bubblegum, Bubblegum, Bubblegum, Bubblegum, Bubblegum, Bubblegum, Bubblegum, Bubblegum, Bubblegum, Bubblegum, Bubblegum, Bubblegum, Bubblegum {\"mark_type\": \"pie\", \"x_name\": \" \", \"y_name\": \" \", \"title\": \" title\"}\n",
      "JSON decode error --> {\"mark_type\": \"vbar\", \"x_name\": \"Female\", \"y_name\": \"Male\", \"title\": \"Gender Distribution\"} {\"mark_type\": \"pie\", \"x_name\": \" \", \"y_name\": \" \", \"title\": nan}\n",
      "JSON decode error --> {\"mark_type\": \"vbar\", \"x_name\": \"Rather\", \"y_name\": \"Definitely\", \"title\": \"Definitely vs Rather\"} {\"mark_type\": \"pie\", \"x_name\": \" \", \"y_name\": \" \", \"title\": nan}\n",
      "JSON decode error --> {\"mark_type\": \"vbar\", \"x_name\": \"Year\", \"y_name\": \"Portion of the population\", \"title\": \"India\"s Business Executives\" Perspective of the Post-Pandemic Economy\"} {\"mark_type\": \"vbar\", \"x_name\": \"Year\", \"y_name\": \"Rating (1=underdeveloped to 7=well developed) \", \"title\": \"Measure of India\"s business executives perception of the quality of port infrastructure\"}\n",
      "JSON decode error --> {\"mark_type\": \"vbar\", \"x_name\": \"Law\"s Green\", \"y_name\": \"Dark Olive\", \"title\": \"Law\"s Green (Dark Olive)\"} {\"mark_type\": \"hbar\", \"x_name\": \"xaxis_label\", \"y_name\": \"yaxis_label\", \"title\": \"title\"}\n",
      "JSON decode error --> {\"mark_type\": \"vbar\", \"x_name\": \"Number of days\", \"y_name\": \"Number of days\", \"title\": \"Time required to save up to $1000000000000000000000000000000000000000000000000000000000000000000000000000000000000000000000000000000000000000000000000000000000000000000000000000000000000000000000000000000000000000000000000000000000000000000000000000000000000000000000000000000000000000000000000000000000000000000000000000000000000000000000000000000000000000000000000000000000000000000000000000000000000000000000000000000000000000000000000000000000000000000000000000000000000000000000000000000000000000 {\"mark_type\": \"hbar\", \"x_name\": \"Number of days\", \"y_name\": \"Year\", \"title\": \"Time required to obtain an operating license in Afghanistan\"}\n",
      "JSON decode error --> {\"mark_type\": \"vbar\", \"x_name\": \"Year\", \"y_name\": \"Calories\", \"title\": \"Calories needed to lift the undernourished population of Korea (Democratic People\"s Republic)\"} {\"mark_type\": \"hbar\", \"x_name\": \"Calories (kilocalories per person per day)\", \"y_name\": \"Year\", \"title\": \"Calories needed to lift the undernourished population of Korea (Democratic)\"}\n",
      "JSON decode error --> {\"mark_type\": \"vbar\", \"x_name\": \"State\", \"y_name\": \"Total Number\", \"title\": \"The state\"s total number of fatalities\"} {\"mark_type\": \"line\", \"x_name\": \"State\", \"y_name\": \"Special Home - No. of Children\", \"title\": \"The State-wise details of total number of Observation Homes, Special Homes as well as Places of Safety along with the number of children therein, being funded under ICPS as on 31.03.2016 (From: Ministry of Women and Child Development)\"}\n",
      "JSON decode error --> {\"mark_type\": \"vbar\", \"x_name\": \"Value Added\", \"y_name\": \"Agricultural sector\", \"title\": \"Value Added by Agricultural Sector as a Percentage of a Country\"s Constant Local Currency Unit\"} {\"mark_type\": \"hbar\", \"x_name\": \"Value added (constant Local Currency Unit)\", \"y_name\": \"Country\", \"title\": \"Value added by agricultural sector of a country in it\"s constant local currency unit\"}\n",
      "JSON decode error --> {\"mark_type\": \"vbar\", \"x_name\": \"Spirits & Liquor\", \"y_name\": \"Beer\", \"title\": \"Beer Consumption\"} {\"mark_type\": \"pie\", \"x_name\": \" \", \"y_name\": \" \", \"title\": nan}\n",
      "JSON decode error --> {\"mark_type\": \"vbar\", \"x_name\": \"Sun\", \"y_name\": \"Moon\", \"title\": \"Sun and Moon\"};{\"mark_type\": \"vbar\", \"x_name\": \"Aquarius\", \"y_name\": \"Capricorn\", \"title\": \"Aquarius and Capricorn\"};{\"mark_type\": \"vbar\", \"x_name\": \"Gemini\", \"y_name\": \"Cancer\", \"title\": \"Gemini and Cancer\"};{\"mark_type\": \"vbar\", \"x_name\": \"Leo\", \"y_name\": \"Virgo\", \"title\": \"Leo and Virgo\"};{\"mark_type\": \"vbar\", \"x_name\": \"Sagittarius\", \"y_name\": \"Libra\", \"title\": \"Sagittarius and Libra\"};{\"mark_type\": \"vbar\", \"x_name\": \"Pisces\", \"y_name\": \"Aries\", \"title\": \"Pisces and Aries\"};{\"mark_type\": \"vbar\", \"x_name\": \"Taurus\", \"y_name\": \"Scorpio\", \"title\": \"Taurus and Scorpio\"};{\"mark_type\": \"vbar\", \"x_name\": \"Libra\", \"y_name\": \"Sagittarius\", \"title\": \"Libra and Sagittarius\"};{\"mark_type\": \"vbar\", \"x_name\": \"Virgo\", \"y_name\": \"Leo\", \"title\": \"Virgo and Leo\"};{\"mark_type\": \"vbar\", \"x_name\": \"Cancer\", \"y_name\": \"Gemini\", \"title\": \"Cancer and Gemini\"};{\"mark_type\": \"vbar\", \"x_name\": \"Aries\", \"y_name\": \"Pisces\", \"title\": \"Aries and Pisces\"};{\"mark_type\": \"vbar\", \"x_name\": \"Scorpio\", \"y_name\": \"Taurus\", \"title\": \"Scorpio and Taurus\"};{\"mark_type\": \"vbar\", \"x_name\": \"Cap {\"mark_type\": \"vbar\", \"x_name\": \"xaxis_label\", \"y_name\": \"yaxis_label\", \"title\": \"title\"}\n",
      "JSON decode error --> {\"mark_type\": \"vbar\", \"x_name\": \"Year\", \"y_name\": \"Holdings of International Reserves (in millions of US dollars)\", \"title\": \"Net Change in Belgium\"s Holdings of International Reserves\"} {\"mark_type\": \"hbar\", \"x_name\": \"International Reserves (current US$)\", \"y_name\": \"Year\", \"title\": \"Net change in Belgium\"s holdings of international reserves\"}\n",
      "JSON decode error --> {\"mark_type\": \"vbar\", \"x_name\": \"Year\", \"y_name\": \"Norway\"s holding of international reserves\", \"title\": \"Net change in Norway\"s holding of international reserves\"} {\"mark_type\": \"vbar\", \"x_name\": \"Year\", \"y_name\": \"International Reserves (current US$)\", \"title\": \"Net change in Norway\"s holdings of international reserves\"}\n",
      "JSON decode error --> {\"mark_type\": \"vbar\", \"x_name\": \"Year\", \"y_name\": \"Net Change in Kosovo\"s Building of International Reserves\", \"title\": \"Net Change in Kosovo\"s Building of International Reserves (in Million USD) over Time (1990-2015)\"} {\"mark_type\": \"point\", \"x_name\": \"Year\", \"y_name\": \"International Reserves (current US$)\", \"title\": \"Net change in Kosovo\"s holdings of international reserves\"}\n",
      "JSON decode error --> {\"mark_type\": \"vbar\", \"x_name\": \"Color\", \"y_name\": \"Value\", \"title\": \"Pink, Dark Magenta, Hot Pink, Dark Olive, Green, Dark Magenta, Hot Pink, Dark Olive, Green, Dark Magenta, Hot Pink, Dark Olive, Green, Dark Magenta, Hot Pink, Dark Olive, Green, Dark Magenta, Hot Pink, Dark Olive, Green, Dark Magenta, Hot Pink, Dark Olive, Green, Dark Magenta, Hot Pink, Dark Olive, Green, Dark Magenta, Hot Pink, Dark Olive, Green, Dark Magenta, Hot Pink, Dark Olive, Green, Dark Magenta, Hot Pink, Dark Olive, Green, Dark Magenta, Hot Pink, Dark Olive, Green, Dark Magenta, Hot Pink, Dark Olive, Green, Dark Magenta, Hot Pink, Dark Olive, Green, Dark Magenta, Hot Pink, Dark Olive, Green, Dark Magenta, Hot Pink, Dark Olive, Green, Dark Magenta, Hot Pink, Dark Olive, Green, Dark Magenta, Hot Pink, Dark Olive, Green, Dark Magenta, Hot Pink, Dark Olive, Green, Dark Magenta, Hot Pink, Dark Olive, Green, Dark Magenta, Hot Pink, Dark Olive, Green, Dark Magenta, Hot Pink, Dark Olive, Green, Dark Magenta, Hot Pink, Dark Olive, Green, Dark Magenta, Hot Pink, Dark Olive, Green, Dark Magenta, Hot Pink, Dark Olive, Green, Dark Magenta, Hot Pink, Dark Olive, Green, Dark Magenta, Hot Pink, Dark Olive, Green, Dark Magenta, Hot Pink, Dark Olive, Green, Dark Magenta, Hot Pink, Dark Olive, Green, Dark Magenta, Hot Pink, Dark Olive, Green, Dark Magenta, Hot Pink, Dark Olive, Green, Dark Magenta, Hot Pink, Dark Olive, Green, Dark Magenta, Hot Pink, Dark Olive, Green, Dark Magenta, Hot Pink, Dark Olive, Green, Dark Magenta, Hot Pink, Dark Olive, Green, Dark Magenta, {\"mark_type\": \"hbar\", \"x_name\": \"xaxis_label\", \"y_name\": \"yaxis_label\", \"title\": \"title\"}\n",
      "JSON decode error --> {\"mark_type\": \"vbar\", \"x_name\": \"Country\", \"y_name\": \"Value\", \"title\": \"Value of agricultural sector as a percentage of GDP in different countries\"} {\"mark_type\": \"vbar\", \"x_name\": \"Country\", \"y_name\": \"Value added (constant Local Currency Unit)\", \"title\": \"Value added by agricultural sector of a country in it\"s constant local currency unit\"}\n"
     ]
    },
    {
     "data": {
      "text/plain": [
       "({'hbar': 0, 'vbar': 0.58, 'line': 0, 'point': 0.28, 'pie': 0.92},\n",
       " 0.7336,\n",
       " 0.7848999999999999,\n",
       " 0.5972)"
      ]
     },
     "execution_count": 41,
     "metadata": {},
     "output_type": "execute_result"
    }
   ],
   "source": [
    "mark_type_samples, x_name_samples, y_name_samples, title_samples, color_samples, title_samples = [], [], [], [], [], []\n",
    "\n",
    "for idx, row in samples_df.iterrows():\n",
    "\n",
    "    pred = row[\"pred\"]\n",
    "    pred = pred.replace(\"\\n\",\"\")\n",
    "    pred = pred.replace(\"'\",'\"')\n",
    "\n",
    "    gt = row[\"gt\"]\n",
    "    gt = gt.replace(\"\\n\",\"\")\n",
    "    gt = gt.replace(\"'\",'\"')\n",
    "\n",
    "    try:\n",
    "\n",
    "        pred_json = json.loads(pred)\n",
    "        gt_json = json.loads(gt)\n",
    "\n",
    "        mark_type_samples.append((pred_json[\"mark_type\"], gt_json[\"mark_type\"]))\n",
    "\n",
    "        x_name_samples.append((pred_json[\"x_name\"], gt_json[\"x_name\"]))\n",
    "        y_name_samples.append((pred_json[\"y_name\"], gt_json[\"y_name\"]))\n",
    "\n",
    "        title_samples.append((pred_json[\"title\"], gt_json[\"title\"]))\n",
    "        #color_samples.append((pred_json[\"color\"], gt_json[\"color\"]))\n",
    "        title_samples.append((pred_json[\"title\"], gt_json[\"title\"]))\n",
    "\n",
    "    except:\n",
    "        print(\"JSON decode error -->\", pred, gt)\n",
    "\n",
    "mark_type_matrix = multiclass_confusion_matrix(mark_type_samples, MARK_TYPE_CLASSES)\n",
    "mark_type_score = f1_score(mark_type_matrix, MARK_TYPE_CLASSES, average = False)\n",
    "\n",
    "x_name_score = 1 - nld_score(x_name_samples)\n",
    "y_name_score = 1 - nld_score(y_name_samples)\n",
    "\n",
    "title_score = 1 - nld_score(title_samples)\n",
    "\n",
    "mark_type_score, x_name_score, y_name_score, title_score"
   ]
  }
 ],
 "metadata": {
  "kernelspec": {
   "display_name": "pytorch",
   "language": "python",
   "name": "python3"
  },
  "language_info": {
   "codemirror_mode": {
    "name": "ipython",
    "version": 3
   },
   "file_extension": ".py",
   "mimetype": "text/x-python",
   "name": "python",
   "nbconvert_exporter": "python",
   "pygments_lexer": "ipython3",
   "version": "3.11.11"
  }
 },
 "nbformat": 4,
 "nbformat_minor": 2
}
