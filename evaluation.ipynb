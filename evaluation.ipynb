{
 "cells": [
  {
   "cell_type": "code",
   "execution_count": 23,
   "metadata": {},
   "outputs": [],
   "source": [
    "import pandas as pd\n",
    "import os\n",
    "import json\n",
    "from metrics import *"
   ]
  },
  {
   "cell_type": "code",
   "execution_count": 24,
   "metadata": {},
   "outputs": [
    {
     "data": {
      "text/html": [
       "<div>\n",
       "<style scoped>\n",
       "    .dataframe tbody tr th:only-of-type {\n",
       "        vertical-align: middle;\n",
       "    }\n",
       "\n",
       "    .dataframe tbody tr th {\n",
       "        vertical-align: top;\n",
       "    }\n",
       "\n",
       "    .dataframe thead th {\n",
       "        text-align: right;\n",
       "    }\n",
       "</style>\n",
       "<table border=\"1\" class=\"dataframe\">\n",
       "  <thead>\n",
       "    <tr style=\"text-align: right;\">\n",
       "      <th></th>\n",
       "      <th>pred</th>\n",
       "      <th>gt</th>\n",
       "    </tr>\n",
       "  </thead>\n",
       "  <tbody>\n",
       "    <tr>\n",
       "      <th>0</th>\n",
       "      <td>{'mark_type': 'point', 'x_name': 'Year', 'y_na...</td>\n",
       "      <td>{'mark_type': 'point', 'x_name': 'Year', 'y_na...</td>\n",
       "    </tr>\n",
       "    <tr>\n",
       "      <th>1</th>\n",
       "      <td>{'mark_type': 'line', 'x_name': '', 'y_name': ...</td>\n",
       "      <td>{'mark_type': 'line', 'x_name': ' ', 'y_name':...</td>\n",
       "    </tr>\n",
       "    <tr>\n",
       "      <th>2</th>\n",
       "      <td>{'mark_type': 'pie', 'x_name': '', 'y_name': '...</td>\n",
       "      <td>{'mark_type': 'pie', 'x_name': ' ', 'y_name': ...</td>\n",
       "    </tr>\n",
       "    <tr>\n",
       "      <th>3</th>\n",
       "      <td>{'mark_type': 'pie', 'x_name': '', 'y_name': '...</td>\n",
       "      <td>{'mark_type': 'pie', 'x_name': ' ', 'y_name': ...</td>\n",
       "    </tr>\n",
       "    <tr>\n",
       "      <th>4</th>\n",
       "      <td>{'mark_type': 'hbar', 'x_name': '% of repeater...</td>\n",
       "      <td>{'mark_type': 'hbar', 'x_name': '% of repeater...</td>\n",
       "    </tr>\n",
       "  </tbody>\n",
       "</table>\n",
       "</div>"
      ],
      "text/plain": [
       "                                                pred  \\\n",
       "0  {'mark_type': 'point', 'x_name': 'Year', 'y_na...   \n",
       "1  {'mark_type': 'line', 'x_name': '', 'y_name': ...   \n",
       "2  {'mark_type': 'pie', 'x_name': '', 'y_name': '...   \n",
       "3  {'mark_type': 'pie', 'x_name': '', 'y_name': '...   \n",
       "4  {'mark_type': 'hbar', 'x_name': '% of repeater...   \n",
       "\n",
       "                                                  gt  \n",
       "0  {'mark_type': 'point', 'x_name': 'Year', 'y_na...  \n",
       "1  {'mark_type': 'line', 'x_name': ' ', 'y_name':...  \n",
       "2  {'mark_type': 'pie', 'x_name': ' ', 'y_name': ...  \n",
       "3  {'mark_type': 'pie', 'x_name': ' ', 'y_name': ...  \n",
       "4  {'mark_type': 'hbar', 'x_name': '% of repeater...  "
      ]
     },
     "execution_count": 24,
     "metadata": {},
     "output_type": "execute_result"
    }
   ],
   "source": [
    "samples_df = pd.read_csv(\"/home/martin/Desktop/visdecode+/output/gemini_samples.csv\")\n",
    "samples_df.head()"
   ]
  },
  {
   "cell_type": "code",
   "execution_count": 25,
   "metadata": {},
   "outputs": [
    {
     "name": "stdout",
     "output_type": "stream",
     "text": [
      "JSON decode error --> {\"mark_type\": \"pie\", \"x_name\": \"\", \"y_name\": \"\", \"title\": \"\"} {\"mark_type\": \"pie\", \"x_name\": \" \", \"y_name\": \" \", \"title\": nan}\n",
      "JSON decode error --> {\"mark_type\": \"pie\", \"x_name\": \"\", \"y_name\": \"\", \"title\": \"\"} {\"mark_type\": \"pie\", \"x_name\": \" \", \"y_name\": \" \", \"title\": nan}\n",
      "JSON decode error --> {\"mark_type\": \"pie\", \"x_name\": \"\", \"y_name\": \"\", \"title\": \"\"} {\"mark_type\": \"pie\", \"x_name\": \" \", \"y_name\": \" \", \"title\": nan}\n",
      "JSON decode error --> {\"mark_type\": \"vbar\", \"x_name\": \"Year\", \"y_name\": \"Rating (1=underdeveloped to 7=well developed)\", \"title\": \"Measure of India\"s business executives perception of the quality of port infrastructure\"} {\"mark_type\": \"vbar\", \"x_name\": \"Year\", \"y_name\": \"Rating (1=underdeveloped to 7=well developed) \", \"title\": \"Measure of India\"s business executives perception of the quality of port infrastructure\"}\n",
      "JSON decode error --> {\"mark_type\": \"hbar\", \"x_name\": \"Value added (constant Local Currency Unit)\", \"y_name\": \"Country\", \"title\": \"Value added by agricultural sector of a country in it\"s constant local currency unit\"} {\"mark_type\": \"hbar\", \"x_name\": \"Value added (constant Local Currency Unit)\", \"y_name\": \"Country\", \"title\": \"Value added by agricultural sector of a country in it\"s constant local currency unit\"}\n",
      "JSON decode error --> {\"mark_type\": \"pie\", \"x_name\": \"\", \"y_name\": \"\", \"title\": \"\"} {\"mark_type\": \"pie\", \"x_name\": \" \", \"y_name\": \" \", \"title\": nan}\n",
      "JSON decode error --> {\"mark_type\": \"hbar\", \"x_name\": \"International Reserves (current US$)\", \"y_name\": \"Year\", \"title\": \"Net change in Belgium\"s holdings of international reserves\"} {\"mark_type\": \"hbar\", \"x_name\": \"International Reserves (current US$)\", \"y_name\": \"Year\", \"title\": \"Net change in Belgium\"s holdings of international reserves\"}\n",
      "JSON decode error --> {\"mark_type\": \"vbar\", \"x_name\": \"Year\", \"y_name\": \"International Reserves (current US$)\", \"title\": \"Net change in Norway\"s holdings of international reserves\"} {\"mark_type\": \"vbar\", \"x_name\": \"Year\", \"y_name\": \"International Reserves (current US$)\", \"title\": \"Net change in Norway\"s holdings of international reserves\"}\n",
      "JSON decode error --> {\"mark_type\": \"point\", \"x_name\": \"Year\", \"y_name\": \"International Reserves (current US$)\", \"title\": \"Net change in Kosovo\"s holdings of international reserves\"} {\"mark_type\": \"point\", \"x_name\": \"Year\", \"y_name\": \"International Reserves (current US$)\", \"title\": \"Net change in Kosovo\"s holdings of international reserves\"}\n",
      "JSON decode error --> {\"mark_type\": \"vbar\", \"x_name\": \"Country\", \"y_name\": \"Value added (constant Local Currency Unit)\", \"title\": \"Value added by agricultural sector of a country in it\"s constant local currency unit\"} {\"mark_type\": \"vbar\", \"x_name\": \"Country\", \"y_name\": \"Value added (constant Local Currency Unit)\", \"title\": \"Value added by agricultural sector of a country in it\"s constant local currency unit\"}\n",
      "\n",
      "\n",
      "ERROR : \t\t 1.0\n",
      "MARK-TYPE Score :\t 99.0\n",
      "X-NAME Score :\t\t 98.0\n",
      "Y-NAME Score :\t\t 96.0\n",
      "TITLE Score :\t\t 91.0\n"
     ]
    }
   ],
   "source": [
    "mark_type_samples, x_name_samples, y_name_samples, title_samples, color_samples, title_samples = [], [], [], [], [], []\n",
    "error_count = 0\n",
    "\n",
    "for idx, row in samples_df.iterrows():\n",
    "\n",
    "    pred = row[\"pred\"]\n",
    "    pred = pred.replace(\"\\n\",\"\")\n",
    "    pred = pred.replace(\"'\",'\"')\n",
    "\n",
    "    gt = row[\"gt\"]\n",
    "    gt = gt.replace(\"\\n\",\"\")\n",
    "    gt = gt.replace(\"'\",'\"')\n",
    "\n",
    "    try:\n",
    "\n",
    "        pred_json = json.loads(pred)\n",
    "        gt_json = json.loads(gt)\n",
    "\n",
    "        mark_type_samples.append((pred_json[\"mark_type\"], gt_json[\"mark_type\"]))\n",
    "\n",
    "        if gt_json[\"x_name\"] == \" \": gt_json[\"x_name\"] = \"\"\n",
    "        if gt_json[\"y_name\"] == \" \": gt_json[\"y_name\"] = \"\"\n",
    "\n",
    "        x_name_samples.append((pred_json[\"x_name\"], gt_json[\"x_name\"]))\n",
    "        y_name_samples.append((pred_json[\"y_name\"], gt_json[\"y_name\"]))\n",
    "\n",
    "        title_samples.append((pred_json[\"title\"], gt_json[\"title\"]))\n",
    "        #color_samples.append((pred_json[\"color\"], gt_json[\"color\"]))\n",
    "        title_samples.append((pred_json[\"title\"], gt_json[\"title\"]))\n",
    "\n",
    "    except:\n",
    "        error_count += 1\n",
    "        print(\"JSON decode error -->\", pred, gt)\n",
    "\n",
    "error = error_count / len(samples_df)\n",
    "\n",
    "mark_type_matrix = multiclass_confusion_matrix(mark_type_samples, MARK_TYPE_CLASSES)\n",
    "mark_type_score = f1_score(mark_type_matrix, MARK_TYPE_CLASSES, average = True)\n",
    "\n",
    "x_name_score = nld_score(x_name_samples)\n",
    "y_name_score = nld_score(y_name_samples)\n",
    "\n",
    "title_score = nld_score(title_samples)\n",
    "\n",
    "print(\"\\n\\nERROR : \\t\\t\", np.round(error * 100))\n",
    "print(\"MARK-TYPE Score :\\t\", np.round(mark_type_score * 100))\n",
    "print(\"X-NAME Score :\\t\\t\", np.round(x_name_score * 100))\n",
    "print(\"Y-NAME Score :\\t\\t\", np.round(y_name_score * 100))\n",
    "print(\"TITLE Score :\\t\\t\", np.round(title_score * 100))"
   ]
  }
 ],
 "metadata": {
  "kernelspec": {
   "display_name": "pytorch",
   "language": "python",
   "name": "python3"
  },
  "language_info": {
   "codemirror_mode": {
    "name": "ipython",
    "version": 3
   },
   "file_extension": ".py",
   "mimetype": "text/x-python",
   "name": "python",
   "nbconvert_exporter": "python",
   "pygments_lexer": "ipython3",
   "version": "3.11.11"
  }
 },
 "nbformat": 4,
 "nbformat_minor": 2
}
