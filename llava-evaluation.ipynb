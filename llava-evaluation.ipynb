{
 "cells": [
  {
   "cell_type": "code",
   "execution_count": 9,
   "metadata": {},
   "outputs": [],
   "source": [
    "import pandas as pd\n",
    "import os\n",
    "import json\n",
    "from metrics import *"
   ]
  },
  {
   "cell_type": "code",
   "execution_count": 10,
   "metadata": {},
   "outputs": [
    {
     "data": {
      "text/html": [
       "<div>\n",
       "<style scoped>\n",
       "    .dataframe tbody tr th:only-of-type {\n",
       "        vertical-align: middle;\n",
       "    }\n",
       "\n",
       "    .dataframe tbody tr th {\n",
       "        vertical-align: top;\n",
       "    }\n",
       "\n",
       "    .dataframe thead th {\n",
       "        text-align: right;\n",
       "    }\n",
       "</style>\n",
       "<table border=\"1\" class=\"dataframe\">\n",
       "  <thead>\n",
       "    <tr style=\"text-align: right;\">\n",
       "      <th></th>\n",
       "      <th>pred</th>\n",
       "      <th>gt</th>\n",
       "    </tr>\n",
       "  </thead>\n",
       "  <tbody>\n",
       "    <tr>\n",
       "      <th>0</th>\n",
       "      <td>{\\n'mark_type': 'line',\\n'x_name': 'Country',\\...</td>\n",
       "      <td>{'mark_type': 'hbar', 'x_name': 'Discrepancy i...</td>\n",
       "    </tr>\n",
       "    <tr>\n",
       "      <th>1</th>\n",
       "      <td>{\\n'mark_type': 'vbar',\\n'x_name': 'Year',\\n'y...</td>\n",
       "      <td>{'mark_type': 'hbar', 'x_name': 'Success rate(...</td>\n",
       "    </tr>\n",
       "    <tr>\n",
       "      <th>2</th>\n",
       "      <td>{\\n'mark_type': 'vbar',\\n'x_name': 'Year',\\n'y...</td>\n",
       "      <td>{'mark_type': 'vbar', 'x_name': 'Year', 'y_nam...</td>\n",
       "    </tr>\n",
       "    <tr>\n",
       "      <th>3</th>\n",
       "      <td>{\\n'mark_type': 'vbar',\\n'x_name': 'Country',\\...</td>\n",
       "      <td>{'mark_type': 'vbar', 'x_name': 'Country', 'y_...</td>\n",
       "    </tr>\n",
       "    <tr>\n",
       "      <th>4</th>\n",
       "      <td>{\\n'mark_type': 'vbar',\\n'x_name': 'Year',\\n'y...</td>\n",
       "      <td>{'mark_type': 'line', 'x_name': 'Year', 'y_nam...</td>\n",
       "    </tr>\n",
       "  </tbody>\n",
       "</table>\n",
       "</div>"
      ],
      "text/plain": [
       "                                                pred  \\\n",
       "0  {\\n'mark_type': 'line',\\n'x_name': 'Country',\\...   \n",
       "1  {\\n'mark_type': 'vbar',\\n'x_name': 'Year',\\n'y...   \n",
       "2  {\\n'mark_type': 'vbar',\\n'x_name': 'Year',\\n'y...   \n",
       "3  {\\n'mark_type': 'vbar',\\n'x_name': 'Country',\\...   \n",
       "4  {\\n'mark_type': 'vbar',\\n'x_name': 'Year',\\n'y...   \n",
       "\n",
       "                                                  gt  \n",
       "0  {'mark_type': 'hbar', 'x_name': 'Discrepancy i...  \n",
       "1  {'mark_type': 'hbar', 'x_name': 'Success rate(...  \n",
       "2  {'mark_type': 'vbar', 'x_name': 'Year', 'y_nam...  \n",
       "3  {'mark_type': 'vbar', 'x_name': 'Country', 'y_...  \n",
       "4  {'mark_type': 'line', 'x_name': 'Year', 'y_nam...  "
      ]
     },
     "execution_count": 10,
     "metadata": {},
     "output_type": "execute_result"
    }
   ],
   "source": [
    "samples_df = pd.read_csv(\"datasets/PlotQA/test/output.csv\")\n",
    "samples_df.head()"
   ]
  },
  {
   "cell_type": "code",
   "execution_count": 11,
   "metadata": {},
   "outputs": [
    {
     "data": {
      "text/plain": [
       "({'hbar': 0, 'vbar': 0.67, 'line': 0, 'point': None, 'pie': None},\n",
       " 0.35840000000000005,\n",
       " 0.7529,\n",
       " 0.32199999999999995)"
      ]
     },
     "execution_count": 11,
     "metadata": {},
     "output_type": "execute_result"
    }
   ],
   "source": [
    "mark_type_samples, x_name_samples, y_name_samples, title_samples, color_samples, title_samples = [], [], [], [], [], []\n",
    "\n",
    "for idx, row in samples_df.iterrows():\n",
    "\n",
    "    pred = row[\"pred\"]\n",
    "    pred = pred.replace(\"\\n\",\"\")\n",
    "    pred = pred.replace(\"'\",'\"')\n",
    "\n",
    "    gt = row[\"gt\"]\n",
    "    gt = gt.replace(\"\\n\",\"\")\n",
    "    gt = gt.replace(\"'\",'\"')\n",
    "\n",
    "    pred_json = json.loads(pred)\n",
    "    gt_json = json.loads(gt)\n",
    "\n",
    "    # ---------------------------------\n",
    "\n",
    "    mark_type_samples.append((pred_json[\"mark_type\"], gt_json[\"mark_type\"]))\n",
    "\n",
    "    x_name_samples.append((pred_json[\"x_name\"], gt_json[\"x_name\"]))\n",
    "    y_name_samples.append((pred_json[\"y_name\"], gt_json[\"y_name\"]))\n",
    "\n",
    "    title_samples.append((pred_json[\"title\"], gt_json[\"title\"]))\n",
    "    color_samples.append((pred_json[\"color\"], gt_json[\"color\"]))\n",
    "    title_samples.append((pred_json[\"title\"], gt_json[\"title\"]))\n",
    "\n",
    "mark_type_matrix = multiclass_confusion_matrix(mark_type_samples, MARK_TYPE_CLASSES)\n",
    "mark_type_score = f1_score(mark_type_matrix, MARK_TYPE_CLASSES, average = False)\n",
    "\n",
    "x_name_score = 1 - nld_score(x_name_samples)\n",
    "y_name_score = 1 - nld_score(y_name_samples)\n",
    "\n",
    "title_score = 1 - nld_score(title_samples)\n",
    "\n",
    "mark_type_score, x_name_score, y_name_score, title_score"
   ]
  }
 ],
 "metadata": {
  "kernelspec": {
   "display_name": "pytorch",
   "language": "python",
   "name": "python3"
  },
  "language_info": {
   "codemirror_mode": {
    "name": "ipython",
    "version": 3
   },
   "file_extension": ".py",
   "mimetype": "text/x-python",
   "name": "python",
   "nbconvert_exporter": "python",
   "pygments_lexer": "ipython3",
   "version": "3.11.11"
  }
 },
 "nbformat": 4,
 "nbformat_minor": 2
}
