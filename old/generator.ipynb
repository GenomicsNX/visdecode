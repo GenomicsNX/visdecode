{
 "cells": [
  {
   "cell_type": "code",
   "execution_count": 1,
   "metadata": {},
   "outputs": [],
   "source": [
    "import numpy as np\n",
    "import pandas as pd"
   ]
  },
  {
   "cell_type": "code",
   "execution_count": 2,
   "metadata": {},
   "outputs": [],
   "source": [
    "df = pd.read_json(\"data/gpt_sources.json\")"
   ]
  },
  {
   "cell_type": "code",
   "execution_count": 3,
   "metadata": {},
   "outputs": [
    {
     "name": "stdout",
     "output_type": "stream",
     "text": [
      "['age', 'income', 'height', 'weight', 'savings', 'temperature', 'rating', 'experience', 'distance', 'speed', 'birth_date', 'joining_date', 'expiry_date', 'purchase_date', 'delivery_date', 'city', 'country', 'category', 'brand', 'product', 'education', 'employment', 'status', 'priority', 'satisfaction', 'num_friends', 'num_followers', 'num_posts', 'num_likes', 'num_comments', 'balance', 'credit_limit', 'monthly_expenses', 'monthly_savings', 'num_purchases', 'travel_distance', 'travel_time', 'shoe_size', 'shirt_size', 'blood_pressure', 'heart_rate', 'steps_per_day', 'calories_burned', 'sleep_hours', 'coffee_consumption']\n"
     ]
    }
   ],
   "source": [
    "variables = list(df.columns)\n",
    "print(variables)"
   ]
  },
  {
   "cell_type": "code",
   "execution_count": 4,
   "metadata": {},
   "outputs": [],
   "source": [
    "variables_Q = [\"age\",\"income\",\"height\",\"weight\",\"savings\",\"temperature\",\"rating\",\"experience\",\"distance\",\"speed\",\"num_friends\",\"num_followers\",\"num_posts\",\"num_likes\",\"num_comments\",\"balance\",\"credit_limit\",\"monthly_expenses\",\"monthly_savings\",\"num_purchases\",\"travel_distance\",\"shoe_size\",\"heart_rate\",\"steps_per_day\",\"calories_burned\",\"sleep_hours\",\"coffee_consumption\"]\n",
    "variables_T = [\"birth_date\",\"joining_date\",\"expiry_date\",\"purchase_date\",\"delivery_date\",\"travel_time\"]\n",
    "variables_N = [\"city\",\"country\",\"category\",\"brand\",\"product\",\"blood_pressure\"]\n",
    "variables_O = [\"education\",\"employment\",\"status\",\"priority\",\"satisfaction\",\"shirt_size\"]"
   ]
  },
  {
   "cell_type": "code",
   "execution_count": 5,
   "metadata": {},
   "outputs": [
    {
     "name": "stdout",
     "output_type": "stream",
     "text": [
      "size of Q:  27\n",
      "size of T:  6\n",
      "size of N:  6\n",
      "size of O:  6\n"
     ]
    }
   ],
   "source": [
    "print(\"size of Q: \", len(variables_Q))\n",
    "print(\"size of T: \", len(variables_T))\n",
    "print(\"size of N: \", len(variables_N))\n",
    "print(\"size of O: \", len(variables_O))"
   ]
  },
  {
   "cell_type": "code",
   "execution_count": 10,
   "metadata": {},
   "outputs": [],
   "source": [
    "def generator(vegas):\n",
    "\n",
    "    for x in variables:\n",
    "        for y in variables_Q:\n",
    "\n",
    "            if x != y:\n",
    "                \n",
    "                x_type = \"\"\n",
    "\n",
    "                if variables_Q.count(x) > 0: x_type = '\"quantitative\"'\n",
    "                if variables_T.count(x) > 0: x_type = '\"temporal\"'\n",
    "                if variables_N.count(x) > 0: x_type = '\"nominal\"'\n",
    "                if variables_O.count(x) > 0: x_type = '\"ordinal\"'\n",
    "\n",
    "                x_name = '\"'+x+'\"'\n",
    "                y_name = '\"'+y+'\"'\n",
    "\n",
    "                mark = '\"'+ np.random.choice([\"bar\",\"line\",\"point\"]) +'\"'\n",
    "\n",
    "                vegas.append(\"\"\"{\"encoding\": {\"y\": {\"field\": \"\"\" + y_name + \"\"\", \"type\": \"quantitative\"}, \"x\": {\"field\": \"\"\" + x_name + \"\"\", \"type\": \"\"\" + x_type + \"\"\"}}, \"mark\": \"\"\" + mark + \"\"\", \"data\": {\"url\": \"https://raw.githubusercontent.com/martinsinnona/datasets/main/gpt_sources.json\"}}\"\"\")\n",
    "\n",
    "                if x_type == '\"quantitative\"':\n",
    "                    for z in variables_Q:\n",
    "                        \n",
    "                        if z != x and z != y:\n",
    "                            \n",
    "                            z_name = '\"'+z+'\"'\n",
    "                            mark = '\"'+ np.random.choice([\"bar\",\"line\",\"point\"]) +'\"'\n",
    "\n",
    "                            vegas.append(\"\"\"{\"encoding\": {\"y\": {\"field\": \"\"\" + y_name + \"\"\", \"type\": \"quantitative\"}, \"x\": {\"field\": \"\"\" + x_name + \"\"\", \"type\": \"\"\" + x_type + \"\"\"}, \"color\": {\"field\": \"\"\" + z_name + \"\"\", \"type\": \"quantitative\"}}, \"mark\": \"\"\" + mark + \"\"\", \"data\": {\"url\": \"https://raw.githubusercontent.com/martinsinnona/datasets/main/gpt_sources.json\"}}\"\"\")"
   ]
  },
  {
   "cell_type": "code",
   "execution_count": 26,
   "metadata": {},
   "outputs": [],
   "source": [
    "def generator_balanced(vegas):\n",
    "\n",
    "    variables_Q_6 = variables_Q[:6]\n",
    "\n",
    "    for x in variables_Q_6 + variables_T + variables_N + variables_O:\n",
    "        for y in variables_Q:\n",
    "            \n",
    "            x_type = None\n",
    "\n",
    "            if variables_Q.count(x) > 0: x_type = '\"quantitative\"'\n",
    "            if variables_T.count(x) > 0: x_type = '\"temporal\"'\n",
    "            if variables_N.count(x) > 0: x_type = '\"nominal\"'\n",
    "            if variables_O.count(x) > 0: x_type = '\"ordinal\"'\n",
    "\n",
    "            x_name = '\"'+x+'\"'\n",
    "            y_name = '\"'+y+'\"'\n",
    "\n",
    "            for mark_type in [\"bar\", \"line\", \"point\"]:\n",
    "                vegas.append(\"\"\"{\"encoding\": {\"y\": {\"field\": \"\"\" + y_name + \"\"\", \"type\": \"quantitative\"}, \"x\": {\"field\": \"\"\" + x_name + \"\"\", \"type\": \"\"\" + x_type + \"\"\"}}, \"mark\": \"\"\" + '\"' + mark_type + '\"' + \"\"\", \"data\": {\"url\": \"https://raw.githubusercontent.com/martinsinnona/datasets/main/gpt_sources.json\"}}\"\"\")"
   ]
  },
  {
   "cell_type": "code",
   "execution_count": 28,
   "metadata": {},
   "outputs": [],
   "source": [
    "vegas = []\n",
    "generator_balanced(vegas)\n",
    "\n",
    "with open(\"data/balanced_targets.data\", 'w') as file:\n",
    "    for vega in vegas:\n",
    "        file.write(vega + '\\n')"
   ]
  }
 ],
 "metadata": {
  "kernelspec": {
   "display_name": "Python 3",
   "language": "python",
   "name": "python3"
  },
  "language_info": {
   "codemirror_mode": {
    "name": "ipython",
    "version": 3
   },
   "file_extension": ".py",
   "mimetype": "text/x-python",
   "name": "python",
   "nbconvert_exporter": "python",
   "pygments_lexer": "ipython3",
   "version": "3.11.9"
  },
  "orig_nbformat": 4
 },
 "nbformat": 4,
 "nbformat_minor": 2
}
