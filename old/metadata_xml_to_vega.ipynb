{
 "cells": [
  {
   "cell_type": "code",
   "execution_count": 21,
   "metadata": {},
   "outputs": [],
   "source": [
    "import numpy as np"
   ]
  },
  {
   "cell_type": "code",
   "execution_count": 22,
   "metadata": {},
   "outputs": [],
   "source": [
    "folder = \"dataset_plotqa\""
   ]
  },
  {
   "cell_type": "code",
   "execution_count": 23,
   "metadata": {},
   "outputs": [],
   "source": [
    "def get_mark_type(str):\n",
    "    \n",
    "    start = str.find(\"<mark>\")\n",
    "    end = str.find(\"</mark>\")\n",
    "    \n",
    "    if start != -1 and end != -1: return str[start+6:end]\n",
    "    return \"\"\n",
    "\n",
    "def get_var_types(str):\n",
    "    \n",
    "    start1 = str.find(\"<type>\")\n",
    "    end1 = str.find(\"</type>\")\n",
    "    \n",
    "    if start1 != -1 and end1 != -1: \n",
    "        \n",
    "        start2 = str.find(\"<type>\", end1+1)\n",
    "        end2 = str.find(\"</type>\", end1+1)\n",
    "        \n",
    "        return str[start1+6:end1], str[start2+6:end2]\n",
    "    \n",
    "    return \"\",\"\"\n",
    "\n",
    "def get_var_names(str):\n",
    "    \n",
    "    start1 = str.find(\"<field>\")\n",
    "    end1 = str.find(\"</field>\")\n",
    "    \n",
    "    if start1 != -1 and end1 != -1: \n",
    "        \n",
    "        start2 = str.find(\"<field>\", end1+1)\n",
    "        end2 = str.find(\"</field>\", end1+1)\n",
    "        \n",
    "        return str[start1+7:end1], str[start2+7:end2]\n",
    "    \n",
    "    return \"\",\"\""
   ]
  },
  {
   "cell_type": "code",
   "execution_count": 24,
   "metadata": {},
   "outputs": [],
   "source": [
    "new_lines = []\n",
    "\n",
    "with open(folder + \"/test/metadata.csv\", \"r\") as file:\n",
    "    for line in file:\n",
    "\n",
    "        mark = get_mark_type(line)\n",
    "        type_x, type_y = get_var_types(line)\n",
    "        name_x, name_y = get_var_names(line)\n",
    "\n",
    "        vega_dict = {\"encoding\": {\n",
    "                        \"y\": {\"field\": name_y, \"type\": type_y}, \n",
    "                        \"x\": {\"field\": name_x, \"type\": type_x}}, \n",
    "                    \"mark\": mark, \n",
    "                    \"data\": {\"url\": \"<url>\"}\n",
    "                    }\n",
    "        \n",
    "        new_lines.append('\"' + str(vega_dict) + '\"')\n"
   ]
  },
  {
   "cell_type": "code",
   "execution_count": 25,
   "metadata": {},
   "outputs": [],
   "source": [
    "with open(folder + \"/test/metadata.csv\", 'w') as file:\n",
    "    \n",
    "    file.write(\"file_name,text\\n\")\n",
    "\n",
    "    for i, line in enumerate(new_lines):\n",
    "        if i != 0: file.write(str(i-1) + \".png,\" + line + '\\n')"
   ]
  }
 ],
 "metadata": {
  "kernelspec": {
   "display_name": "Python 3",
   "language": "python",
   "name": "python3"
  },
  "language_info": {
   "codemirror_mode": {
    "name": "ipython",
    "version": 3
   },
   "file_extension": ".py",
   "mimetype": "text/x-python",
   "name": "python",
   "nbconvert_exporter": "python",
   "pygments_lexer": "ipython3",
   "version": "3.11.9"
  }
 },
 "nbformat": 4,
 "nbformat_minor": 2
}
