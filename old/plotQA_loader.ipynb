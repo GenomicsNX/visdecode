{
 "cells": [
  {
   "cell_type": "code",
   "execution_count": null,
   "metadata": {},
   "outputs": [],
   "source": [
    "import pandas as pd\n",
    "import numpy as np\n",
    "import shutil\n",
    "import os\n",
    "import random"
   ]
  },
  {
   "cell_type": "code",
   "execution_count": null,
   "metadata": {},
   "outputs": [],
   "source": [
    "df = pd.read_json(\"data/annotations.json\")"
   ]
  },
  {
   "cell_type": "code",
   "execution_count": null,
   "metadata": {},
   "outputs": [],
   "source": [
    "df.head()"
   ]
  },
  {
   "cell_type": "code",
   "execution_count": null,
   "metadata": {},
   "outputs": [],
   "source": [
    "df[\"general_figure_info\"][10052][\"x_axis\"][\"major_labels\"][\"values\"]"
   ]
  },
  {
   "cell_type": "code",
   "execution_count": null,
   "metadata": {},
   "outputs": [],
   "source": [
    "def is_number(s):\n",
    "\n",
    "    try:\n",
    "        float(s)\n",
    "        return True\n",
    "    except ValueError:\n",
    "        return False\n",
    "    \n",
    "def variable_type(str):\n",
    "\n",
    "    if is_number(str): return \"quantitative\"\n",
    "    return \"nominal\"\n",
    "    \n",
    "def x_variable_type(dict):\n",
    "    return variable_type(dict[\"x_axis\"][\"major_labels\"][\"values\"][0])\n",
    "\n",
    "def y_variable_type(dict):\n",
    "    return variable_type(dict[\"y_axis\"][\"major_labels\"][\"values\"][0])\n",
    "\n",
    "def get_xml(dataframe, index):\n",
    "\n",
    "    mark = dataframe[\"mark\"][index]\n",
    "\n",
    "    x_type = dataframe[\"x_type\"][index]\n",
    "    y_type = dataframe[\"y_type\"] [index]\n",
    "\n",
    "    x_field = \"<field>\" + dataframe[\"x_field\"][index] + \"</field>\"\n",
    "    y_field = \"<field>\" + dataframe[\"y_field\"][index] + \"</field>\"\n",
    "\n",
    "    x_field = x_field.replace(\",\",\"\")\n",
    "    y_field = y_field.replace(\",\",\"\")\n",
    "\n",
    "    return \"<mark>\" + mark + \"</mark><x><type>\" + x_type + \"</type>\" + x_field + \"</x><y><type>\" + y_type + \"</type>\" + y_field + \"</y>\"\n",
    "\n",
    "def erase_files(path):\n",
    "\n",
    "    for filename in os.listdir(path):\n",
    "\n",
    "        file_path = os.path.join(path, filename)\n",
    "\n",
    "        try:\n",
    "            if os.path.isfile(file_path): os.remove(file_path)\n",
    "        except Exception as e:\n",
    "            print(f\"Error deleting {file_path}: {e}\")"
   ]
  },
  {
   "cell_type": "code",
   "execution_count": null,
   "metadata": {},
   "outputs": [],
   "source": [
    "mark_types = df[\"type\"]\n",
    "\n",
    "x_types = df[\"general_figure_info\"].apply(x_variable_type)\n",
    "y_types = df[\"general_figure_info\"].apply(y_variable_type)"
   ]
  },
  {
   "cell_type": "code",
   "execution_count": null,
   "metadata": {},
   "outputs": [],
   "source": [
    "x_fields = [df[\"general_figure_info\"][i][\"x_axis\"][\"label\"][\"text\"] for i in range(len(df))]\n",
    "y_fields = [df[\"general_figure_info\"][i][\"y_axis\"][\"label\"][\"text\"] for i in range(len(df))]"
   ]
  },
  {
   "cell_type": "code",
   "execution_count": null,
   "metadata": {},
   "outputs": [],
   "source": [
    "df2 = pd.DataFrame()\n",
    "\n",
    "df2[\"mark\"] = mark_types\n",
    "df2.replace({\"hbar_categorical\": \"bar2\", \"vbar_categorical\": \"bar\", \"dot_line\": \"point\"}, inplace = True)\n",
    "\n",
    "df2[\"x_type\"] = x_types\n",
    "df2[\"y_type\"] = y_types\n",
    "\n",
    "df2[\"x_field\"] = x_fields\n",
    "df2[\"y_field\"] = y_fields"
   ]
  },
  {
   "cell_type": "code",
   "execution_count": null,
   "metadata": {},
   "outputs": [],
   "source": [
    "df2.head()"
   ]
  },
  {
   "cell_type": "code",
   "execution_count": null,
   "metadata": {},
   "outputs": [],
   "source": [
    "def erase_files(path):\n",
    "\n",
    "    for filename in os.listdir(path):\n",
    "\n",
    "        file_path = os.path.join(path, filename)\n",
    "\n",
    "        try:\n",
    "            if os.path.isfile(file_path): os.remove(file_path)\n",
    "        except Exception as e:\n",
    "            print(f\"Error deleting {file_path}: {e}\")"
   ]
  },
  {
   "cell_type": "code",
   "execution_count": null,
   "metadata": {},
   "outputs": [],
   "source": [
    "def generate_dataset(n, path, start):\n",
    "\n",
    "    np.random.seed(42)\n",
    "    random.seed(42)\n",
    "\n",
    "    erase_files(path)\n",
    "\n",
    "    indexes = list(df2.sample(n).index)\n",
    "    metadata = [['file_name','text']]\n",
    "    file_names = []\n",
    "\n",
    "    for i, index in enumerate(indexes):\n",
    "        metadata.append([str(i + start) + \".png\", get_xml(df2,index)])\n",
    "        file_names.append(str(index) + \".png\")\n",
    "\n",
    "    np.savetxt(path + \"/metadata.csv\", metadata, delimiter = ',', fmt = '% s')\n",
    "\n",
    "    # --------------------------------------- move files ----------------------------------------------\n",
    "\n",
    "    source_directory = \"plotqa/png\"\n",
    "    destination_directory = path\n",
    "\n",
    "    for i, file_name in enumerate(file_names):\n",
    "        \n",
    "        source_path = os.path.join(source_directory, file_name)\n",
    "        destination_path = os.path.join(destination_directory, str(i + start) + \".png\")\n",
    "\n",
    "        if os.path.exists(source_path):\n",
    "            try:\n",
    "                shutil.copy(source_path, destination_path)\n",
    "            except IOError as e:\n",
    "                print(f\"Failed to copy {file_name}: {e}\")\n",
    "        else:\n",
    "            print(f\"File {file_name} does not exist in the source directory.\")\n"
   ]
  },
  {
   "cell_type": "code",
   "execution_count": null,
   "metadata": {},
   "outputs": [],
   "source": [
    "generate_dataset(n = 100, path = \"dataset_plotqa/test\", start = 0)"
   ]
  }
 ],
 "metadata": {
  "kernelspec": {
   "display_name": "Python 3",
   "language": "python",
   "name": "python3"
  },
  "language_info": {
   "codemirror_mode": {
    "name": "ipython",
    "version": 3
   },
   "file_extension": ".py",
   "mimetype": "text/x-python",
   "name": "python",
   "nbconvert_exporter": "python",
   "pygments_lexer": "ipython3",
   "version": "3.12.2"
  }
 },
 "nbformat": 4,
 "nbformat_minor": 2
}
