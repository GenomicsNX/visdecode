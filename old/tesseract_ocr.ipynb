{
 "cells": [
  {
   "cell_type": "code",
   "execution_count": 3,
   "metadata": {},
   "outputs": [],
   "source": [
    "import pytesseract\n",
    "from PIL import Image"
   ]
  },
  {
   "cell_type": "code",
   "execution_count": 4,
   "metadata": {},
   "outputs": [
    {
     "name": "stdout",
     "output_type": "stream",
     "text": [
      "body_mass_g\n",
      "\n",
      "6000\n",
      "\n",
      "B\n",
      "s\n",
      "\n",
      "8\n",
      "8\n",
      "\n",
      "&\n",
      "8\n",
      "\n",
      "8\n",
      "Ey\n",
      "\n",
      "3500\n",
      "\n",
      "3000\n",
      "\n",
      "Scatterplot-Relationship between two variables\n",
      "\n",
      " \n",
      "\n",
      " \n",
      "\n",
      " \n",
      "\n",
      " \n",
      "\n",
      "culmen_length_mm\n",
      "\n",
      " \n",
      "\f\n"
     ]
    }
   ],
   "source": [
    "print(pytesseract.image_to_string(Image.open('dataset_web/test/0.png')))"
   ]
  }
 ],
 "metadata": {
  "kernelspec": {
   "display_name": "Python 3",
   "language": "python",
   "name": "python3"
  },
  "language_info": {
   "codemirror_mode": {
    "name": "ipython",
    "version": 3
   },
   "file_extension": ".py",
   "mimetype": "text/x-python",
   "name": "python",
   "nbconvert_exporter": "python",
   "pygments_lexer": "ipython3",
   "version": "3.10.12"
  }
 },
 "nbformat": 4,
 "nbformat_minor": 2
}
