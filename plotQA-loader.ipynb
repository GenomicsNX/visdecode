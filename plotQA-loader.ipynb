{
 "cells": [
  {
   "cell_type": "code",
   "execution_count": 242,
   "metadata": {},
   "outputs": [],
   "source": [
    "import pandas as pd\n",
    "import numpy as np\n",
    "import shutil\n",
    "import os\n",
    "import random\n",
    "from PIL import Image\n",
    "import matplotlib.pyplot as plt"
   ]
  },
  {
   "cell_type": "code",
   "execution_count": 243,
   "metadata": {},
   "outputs": [
    {
     "data": {
      "text/html": [
       "<div>\n",
       "<style scoped>\n",
       "    .dataframe tbody tr th:only-of-type {\n",
       "        vertical-align: middle;\n",
       "    }\n",
       "\n",
       "    .dataframe tbody tr th {\n",
       "        vertical-align: top;\n",
       "    }\n",
       "\n",
       "    .dataframe thead th {\n",
       "        text-align: right;\n",
       "    }\n",
       "</style>\n",
       "<table border=\"1\" class=\"dataframe\">\n",
       "  <thead>\n",
       "    <tr style=\"text-align: right;\">\n",
       "      <th></th>\n",
       "      <th>models</th>\n",
       "      <th>type</th>\n",
       "      <th>general_figure_info</th>\n",
       "      <th>image_index</th>\n",
       "    </tr>\n",
       "  </thead>\n",
       "  <tbody>\n",
       "    <tr>\n",
       "      <th>0</th>\n",
       "      <td>[{'name': 'Goods and services', 'color': '#F0E...</td>\n",
       "      <td>dot_line</td>\n",
       "      <td>{'title': {'text': 'Payments made towards prim...</td>\n",
       "      <td>0</td>\n",
       "    </tr>\n",
       "    <tr>\n",
       "      <th>1</th>\n",
       "      <td>[{'name': 'Arms exports', 'color': '#FFFF00', ...</td>\n",
       "      <td>dot_line</td>\n",
       "      <td>{'title': {'text': 'Arm exports and imports in...</td>\n",
       "      <td>1</td>\n",
       "    </tr>\n",
       "    <tr>\n",
       "      <th>2</th>\n",
       "      <td>[{'name': 'Infant', 'color': '#191970', 'label...</td>\n",
       "      <td>dot_line</td>\n",
       "      <td>{'title': {'text': 'Mortality rates in Marshal...</td>\n",
       "      <td>2</td>\n",
       "    </tr>\n",
       "    <tr>\n",
       "      <th>3</th>\n",
       "      <td>[{'name': 'Female', 'color': '#D2B48C', 'label...</td>\n",
       "      <td>dot_line</td>\n",
       "      <td>{'title': {'text': 'Percentage of repeaters in...</td>\n",
       "      <td>3</td>\n",
       "    </tr>\n",
       "    <tr>\n",
       "      <th>4</th>\n",
       "      <td>[{'name': 'US$', 'color': '#B8860B', 'label': ...</td>\n",
       "      <td>dot_line</td>\n",
       "      <td>{'title': {'text': 'Total resource balance of ...</td>\n",
       "      <td>4</td>\n",
       "    </tr>\n",
       "  </tbody>\n",
       "</table>\n",
       "</div>"
      ],
      "text/plain": [
       "                                              models      type  \\\n",
       "0  [{'name': 'Goods and services', 'color': '#F0E...  dot_line   \n",
       "1  [{'name': 'Arms exports', 'color': '#FFFF00', ...  dot_line   \n",
       "2  [{'name': 'Infant', 'color': '#191970', 'label...  dot_line   \n",
       "3  [{'name': 'Female', 'color': '#D2B48C', 'label...  dot_line   \n",
       "4  [{'name': 'US$', 'color': '#B8860B', 'label': ...  dot_line   \n",
       "\n",
       "                                 general_figure_info  image_index  \n",
       "0  {'title': {'text': 'Payments made towards prim...            0  \n",
       "1  {'title': {'text': 'Arm exports and imports in...            1  \n",
       "2  {'title': {'text': 'Mortality rates in Marshal...            2  \n",
       "3  {'title': {'text': 'Percentage of repeaters in...            3  \n",
       "4  {'title': {'text': 'Total resource balance of ...            4  "
      ]
     },
     "execution_count": 243,
     "metadata": {},
     "output_type": "execute_result"
    }
   ],
   "source": [
    "df = pd.read_json(\"plotQA_annotations.json\")\n",
    "df.head()"
   ]
  },
  {
   "cell_type": "code",
   "execution_count": 244,
   "metadata": {},
   "outputs": [
    {
     "data": {
      "text/plain": [
       "['0', '20', '40', '60', '80', '100', '0', '20', '40', '60', '80', '100']"
      ]
     },
     "execution_count": 244,
     "metadata": {},
     "output_type": "execute_result"
    }
   ],
   "source": [
    "df[\"general_figure_info\"][10052][\"x_axis\"][\"major_labels\"][\"values\"]"
   ]
  },
  {
   "cell_type": "markdown",
   "metadata": {},
   "source": [
    "**There are 6070 single plots, 6283 double plots... and so on**"
   ]
  },
  {
   "cell_type": "code",
   "execution_count": 245,
   "metadata": {},
   "outputs": [
    {
     "data": {
      "text/plain": [
       "3    11601\n",
       "4     9703\n",
       "2     6283\n",
       "1     6070\n",
       "Name: models, dtype: int64"
      ]
     },
     "execution_count": 245,
     "metadata": {},
     "output_type": "execute_result"
    }
   ],
   "source": [
    "df[\"models\"].apply(len).value_counts()"
   ]
  },
  {
   "cell_type": "code",
   "execution_count": 246,
   "metadata": {},
   "outputs": [
    {
     "data": {
      "text/plain": [
       "[{'name': 'Trademark applications',\n",
       "  'labels': 'Trademark applications',\n",
       "  'width': 0.15,\n",
       "  'colors': '#8B008B',\n",
       "  'bboxes': [{'y': 552, 'x': 178, 'w': 4, 'h': 18},\n",
       "   {'y': 429, 'x': 178, 'w': 5, 'h': 18},\n",
       "   {'y': 306, 'x': 178, 'w': 255, 'h': 18},\n",
       "   {'y': 183, 'x': 178, 'w': 314, 'h': 18},\n",
       "   {'y': 60, 'x': 178, 'w': 826, 'h': 18}],\n",
       "  'y': ['Caribbean small states',\n",
       "   'Central Europe',\n",
       "   'Euro area',\n",
       "   'European Union',\n",
       "   'High income'],\n",
       "  'x': [2189, 2634, 145871, 180019, 473421]}]"
      ]
     },
     "execution_count": 246,
     "metadata": {},
     "output_type": "execute_result"
    }
   ],
   "source": [
    "df[\"models\"][14975]"
   ]
  },
  {
   "cell_type": "code",
   "execution_count": 247,
   "metadata": {},
   "outputs": [
    {
     "data": {
      "text/plain": [
       "<matplotlib.image.AxesImage at 0x251fd8d4190>"
      ]
     },
     "execution_count": 247,
     "metadata": {},
     "output_type": "execute_result"
    },
    {
     "data": {
      "image/png": "[encoded data removed]",
      "text/plain": [
       "<Figure size 1200x1200 with 1 Axes>"
      ]
     },
     "metadata": {},
     "output_type": "display_data"
    }
   ],
   "source": [
    "image = Image.open(\"png/14975.png\")\n",
    "\n",
    "plt.figure(figsize=(12,12))\n",
    "plt.axis(\"off\")  # Hide axes\n",
    "plt.imshow(image)"
   ]
  },
  {
   "cell_type": "code",
   "execution_count": 259,
   "metadata": {},
   "outputs": [],
   "source": [
    "def is_number(s):\n",
    "\n",
    "    try:\n",
    "        float(s)\n",
    "        return True\n",
    "    except ValueError:\n",
    "        return False\n",
    "    \n",
    "def variable_type(str):\n",
    "\n",
    "    if is_number(str): return \"quantitative\"\n",
    "    return \"nominal\"\n",
    "    \n",
    "def x_variable_type(dict):\n",
    "    return variable_type(dict[\"x_axis\"][\"major_labels\"][\"values\"][0])\n",
    "\n",
    "def y_variable_type(dict):\n",
    "    return variable_type(dict[\"y_axis\"][\"major_labels\"][\"values\"][0])\n",
    "\n",
    "def get_xml(dataframe, index):\n",
    "\n",
    "    mark = dataframe[\"mark\"][index]\n",
    "\n",
    "    x_type = dataframe[\"x_type\"][index]\n",
    "    y_type = dataframe[\"y_type\"] [index]\n",
    "\n",
    "    x_field = \"<field>\" + dataframe[\"x_field\"][index] + \"</field>\"\n",
    "    y_field = \"<field>\" + dataframe[\"y_field\"][index] + \"</field>\"\n",
    "\n",
    "    x_field = x_field.replace(\",\",\"\")\n",
    "    y_field = y_field.replace(\",\",\"\")\n",
    "\n",
    "    return \"<mark>\" + mark + \"</mark><x><type>\" + x_type + \"</type>\" + x_field + \"</x><y><type>\" + y_type + \"</type>\" + y_field + \"</y>\"\n",
    "\n",
    "def erase_files(path):\n",
    "\n",
    "    for filename in os.listdir(path):\n",
    "\n",
    "        file_path = os.path.join(path, filename)\n",
    "\n",
    "        try:\n",
    "            if os.path.isfile(file_path): os.remove(file_path)\n",
    "        except Exception as e:\n",
    "            print(f\"Error deleting {file_path}: {e}\")"
   ]
  },
  {
   "cell_type": "markdown",
   "metadata": {},
   "source": [
    "**Multi plots**"
   ]
  },
  {
   "cell_type": "code",
   "execution_count": 260,
   "metadata": {},
   "outputs": [
    {
     "data": {
      "text/plain": [
       "hbar     9401\n",
       "vbar     9334\n",
       "point    4435\n",
       "line     4417\n",
       "Name: type, dtype: int64"
      ]
     },
     "execution_count": 260,
     "metadata": {},
     "output_type": "execute_result"
    }
   ],
   "source": [
    "multi_plots_mask = df[\"models\"].apply(len) > 1\n",
    "\n",
    "df3 = df[multi_plots_mask].copy()\n",
    "df3.replace({\"hbar_categorical\": \"hbar\", \"vbar_categorical\": \"vbar\", \"dot_line\": \"point\"}, inplace = True)\n",
    "\n",
    "df3[\"type\"].value_counts()"
   ]
  },
  {
   "cell_type": "markdown",
   "metadata": {},
   "source": [
    "**Single plots**"
   ]
  },
  {
   "cell_type": "code",
   "execution_count": 261,
   "metadata": {},
   "outputs": [],
   "source": [
    "single_plots_mask = df[\"models\"].apply(len) == 1\n",
    "df2 = df[single_plots_mask]\n",
    "\n",
    "mark_types = df2[\"type\"]\n",
    "\n",
    "#x_types = df2[\"general_figure_info\"].apply(x_variable_type)\n",
    "#y_types = df2[\"general_figure_info\"].apply(y_variable_type)\n",
    "\n",
    "x_fields = [general_info[\"x_axis\"][\"label\"][\"text\"] for general_info in df2[\"general_figure_info\"]]\n",
    "y_fields = [general_info[\"y_axis\"][\"label\"][\"text\"] for general_info in df2[\"general_figure_info\"]]\n",
    "\n",
    "titles = [general_info[\"title\"][\"text\"] for general_info in df2[\"general_figure_info\"]]\n",
    "colors = [model[0][\"color\"] if \"color\" in model[0] else model[0][\"colors\"] for model in df2[\"models\"]]"
   ]
  },
  {
   "cell_type": "code",
   "execution_count": 268,
   "metadata": {},
   "outputs": [],
   "source": [
    "single_plots = pd.DataFrame()\n",
    "\n",
    "single_plots[\"mark_type\"] = mark_types\n",
    "single_plots.replace({\"hbar_categorical\": \"hbar\", \"vbar_categorical\": \"vbar\", \"dot_line\": \"point\"}, inplace = True)\n",
    "\n",
    "single_plots[\"x_name\"] = x_fields\n",
    "single_plots[\"y_name\"] = y_fields\n",
    "\n",
    "single_plots[\"color\"] = colors\n",
    "single_plots[\"title\"] = titles\n",
    "single_plots[\"dataset_name\"] = \"PlotQA\"\n",
    "\n",
    "single_plots.index.name = \"original_image\"\n",
    "single_plots.reset_index(inplace = True, drop=False) \n",
    "\n",
    "single_plots[\"original_image\"] = single_plots[\"original_image\"].apply(lambda x: str(x) + \".png\")"
   ]
  },
  {
   "cell_type": "code",
   "execution_count": 269,
   "metadata": {},
   "outputs": [
    {
     "name": "stdout",
     "output_type": "stream",
     "text": [
      "Single plots size : 6070\n"
     ]
    },
    {
     "data": {
      "text/html": [
       "<div>\n",
       "<style scoped>\n",
       "    .dataframe tbody tr th:only-of-type {\n",
       "        vertical-align: middle;\n",
       "    }\n",
       "\n",
       "    .dataframe tbody tr th {\n",
       "        vertical-align: top;\n",
       "    }\n",
       "\n",
       "    .dataframe thead th {\n",
       "        text-align: right;\n",
       "    }\n",
       "</style>\n",
       "<table border=\"1\" class=\"dataframe\">\n",
       "  <thead>\n",
       "    <tr style=\"text-align: right;\">\n",
       "      <th></th>\n",
       "      <th>original_image</th>\n",
       "      <th>mark_type</th>\n",
       "      <th>x_name</th>\n",
       "      <th>y_name</th>\n",
       "      <th>color</th>\n",
       "      <th>title</th>\n",
       "      <th>dataset_name</th>\n",
       "    </tr>\n",
       "  </thead>\n",
       "  <tbody>\n",
       "    <tr>\n",
       "      <th>0</th>\n",
       "      <td>4435.png</td>\n",
       "      <td>point</td>\n",
       "      <td>Year</td>\n",
       "      <td>Number of servers(per 1 million people)</td>\n",
       "      <td>#D2B48C</td>\n",
       "      <td>Number of secure servers in Congo (Republic)</td>\n",
       "      <td>PlotQA</td>\n",
       "    </tr>\n",
       "    <tr>\n",
       "      <th>1</th>\n",
       "      <td>4436.png</td>\n",
       "      <td>point</td>\n",
       "      <td>Year</td>\n",
       "      <td>Cost of communications, computer etc. (% of se...</td>\n",
       "      <td>#FFA07A</td>\n",
       "      <td>Cost of communications and computers with resp...</td>\n",
       "      <td>PlotQA</td>\n",
       "    </tr>\n",
       "    <tr>\n",
       "      <th>2</th>\n",
       "      <td>4437.png</td>\n",
       "      <td>point</td>\n",
       "      <td>Year</td>\n",
       "      <td>Armed forces personnel</td>\n",
       "      <td>#BC8F8F</td>\n",
       "      <td>Total onduty military personnel active in Bhutan</td>\n",
       "      <td>PlotQA</td>\n",
       "    </tr>\n",
       "    <tr>\n",
       "      <th>3</th>\n",
       "      <td>4438.png</td>\n",
       "      <td>point</td>\n",
       "      <td>Year</td>\n",
       "      <td>Expenditure (as % of GDP per capita)</td>\n",
       "      <td>#00FA9A</td>\n",
       "      <td>Government expenditure per student as % of GDP...</td>\n",
       "      <td>PlotQA</td>\n",
       "    </tr>\n",
       "    <tr>\n",
       "      <th>4</th>\n",
       "      <td>4439.png</td>\n",
       "      <td>point</td>\n",
       "      <td>Year</td>\n",
       "      <td>Number of tax payers</td>\n",
       "      <td>#6B8E23</td>\n",
       "      <td>Number of tax payers in Central Europe</td>\n",
       "      <td>PlotQA</td>\n",
       "    </tr>\n",
       "  </tbody>\n",
       "</table>\n",
       "</div>"
      ],
      "text/plain": [
       "  original_image mark_type x_name  \\\n",
       "0       4435.png     point   Year   \n",
       "1       4436.png     point   Year   \n",
       "2       4437.png     point   Year   \n",
       "3       4438.png     point   Year   \n",
       "4       4439.png     point   Year   \n",
       "\n",
       "                                              y_name    color  \\\n",
       "0            Number of servers(per 1 million people)  #D2B48C   \n",
       "1  Cost of communications, computer etc. (% of se...  #FFA07A   \n",
       "2                             Armed forces personnel  #BC8F8F   \n",
       "3               Expenditure (as % of GDP per capita)  #00FA9A   \n",
       "4                               Number of tax payers  #6B8E23   \n",
       "\n",
       "                                               title dataset_name  \n",
       "0       Number of secure servers in Congo (Republic)       PlotQA  \n",
       "1  Cost of communications and computers with resp...       PlotQA  \n",
       "2   Total onduty military personnel active in Bhutan       PlotQA  \n",
       "3  Government expenditure per student as % of GDP...       PlotQA  \n",
       "4             Number of tax payers in Central Europe       PlotQA  "
      ]
     },
     "execution_count": 269,
     "metadata": {},
     "output_type": "execute_result"
    }
   ],
   "source": [
    "print(\"Single plots size :\", len(single_plots))\n",
    "single_plots.head()"
   ]
  },
  {
   "cell_type": "code",
   "execution_count": 270,
   "metadata": {},
   "outputs": [
    {
     "data": {
      "text/plain": [
       "vbar     1908\n",
       "hbar     1891\n",
       "point    1139\n",
       "line     1132\n",
       "Name: mark_type, dtype: int64"
      ]
     },
     "execution_count": 270,
     "metadata": {},
     "output_type": "execute_result"
    }
   ],
   "source": [
    "single_plots[\"mark_type\"].value_counts()"
   ]
  },
  {
   "cell_type": "code",
   "execution_count": 275,
   "metadata": {},
   "outputs": [],
   "source": [
    "single_plots.to_csv(\"annotations.csv\")"
   ]
  },
  {
   "cell_type": "code",
   "execution_count": 272,
   "metadata": {},
   "outputs": [],
   "source": [
    "def erase_files(path):\n",
    "\n",
    "    for filename in os.listdir(path):\n",
    "\n",
    "        file_path = os.path.join(path, filename)\n",
    "\n",
    "        try:\n",
    "            if os.path.isfile(file_path): os.remove(file_path)\n",
    "        except Exception as e:\n",
    "            print(f\"Error deleting {file_path}: {e}\")"
   ]
  },
  {
   "cell_type": "code",
   "execution_count": 273,
   "metadata": {},
   "outputs": [],
   "source": [
    "def generate_dataset(n, path, start):\n",
    "\n",
    "    np.random.seed(42)\n",
    "    random.seed(42)\n",
    "\n",
    "    erase_files(path)\n",
    "\n",
    "    indexes = list(single_plots[single_plots[\"mark\"] != \"bar2\"].sample(n).index)\n",
    "    metadata = [['file_name','text']]\n",
    "    file_names = []\n",
    "\n",
    "    for i, index in enumerate(indexes):\n",
    "        metadata.append([str(i + start) + \".png\", get_xml(single_plots,index)])\n",
    "        file_names.append(str(index) + \".png\")\n",
    "\n",
    "    np.savetxt(path + \"/metadata.csv\", metadata, delimiter = ',', fmt = '% s')\n",
    "\n",
    "    # --------------------------------------- move files ----------------------------------------------\n",
    "\n",
    "    source_directory = \"plotqa/png\"\n",
    "    destination_directory = path\n",
    "\n",
    "    for i, file_name in enumerate(file_names):\n",
    "        \n",
    "        source_path = os.path.join(source_directory, file_name)\n",
    "        destination_path = os.path.join(destination_directory, str(i + start) + \".png\")\n",
    "\n",
    "        if os.path.exists(source_path):\n",
    "            try:\n",
    "                shutil.copy(source_path, destination_path)\n",
    "            except IOError as e:\n",
    "                print(f\"Failed to copy {file_name}: {e}\")\n",
    "        else:\n",
    "            print(f\"File {file_name} does not exist in the source directory.\")\n"
   ]
  }
 ],
 "metadata": {
  "kernelspec": {
   "display_name": "Python 3",
   "language": "python",
   "name": "python3"
  },
  "language_info": {
   "codemirror_mode": {
    "name": "ipython",
    "version": 3
   },
   "file_extension": ".py",
   "mimetype": "text/x-python",
   "name": "python",
   "nbconvert_exporter": "python",
   "pygments_lexer": "ipython3",
   "version": "3.11.9"
  }
 },
 "nbformat": 4,
 "nbformat_minor": 2
}
