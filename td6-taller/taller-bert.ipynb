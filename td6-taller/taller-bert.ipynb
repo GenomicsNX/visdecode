{
 "cells": [
  {
   "cell_type": "code",
   "execution_count": 147,
   "metadata": {},
   "outputs": [],
   "source": [
    "import pandas as pd\n",
    "import numpy as np\n",
    "from datasets import load_dataset\n",
    "import torch\n",
    "from transformers import AutoModel, BertTokenizerFast, AdamW\n",
    "import torch.nn as nn\n",
    "from torch.utils.data import TensorDataset, DataLoader\n",
    "import matplotlib.pyplot as plt"
   ]
  },
  {
   "cell_type": "code",
   "execution_count": 148,
   "metadata": {},
   "outputs": [],
   "source": [
    "device = \"cuda\" if torch.cuda.is_available() else \"cpu\""
   ]
  },
  {
   "cell_type": "code",
   "execution_count": 149,
   "metadata": {},
   "outputs": [
    {
     "data": {
      "text/plain": [
       "(Dataset({\n",
       "     features: ['text', 'target_group', 'factual?', 'ingroup_effect', 'lewd', 'framing', 'predicted_group', 'stereotyping', 'intent', 'toxicity_ai', 'toxicity_human', 'predicted_author', 'actual_method'],\n",
       "     num_rows: 8960\n",
       " }),\n",
       " Dataset({\n",
       "     features: ['text', 'target_group', 'factual?', 'ingroup_effect', 'lewd', 'framing', 'predicted_group', 'stereotyping', 'intent', 'toxicity_ai', 'toxicity_human', 'predicted_author', 'actual_method'],\n",
       "     num_rows: 940\n",
       " }))"
      ]
     },
     "execution_count": 149,
     "metadata": {},
     "output_type": "execute_result"
    }
   ],
   "source": [
    "dataset_train = load_dataset(\"toxigen/toxigen-data\", split = \"train\")\n",
    "dataset_test = load_dataset(\"toxigen/toxigen-data\", split = \"test\")\n",
    "\n",
    "dataset_train, dataset_test"
   ]
  },
  {
   "cell_type": "code",
   "execution_count": 150,
   "metadata": {},
   "outputs": [],
   "source": [
    "bert = AutoModel.from_pretrained('bert-base-uncased')\n",
    "tokenizer = BertTokenizerFast.from_pretrained('bert-base-uncased')"
   ]
  },
  {
   "cell_type": "markdown",
   "metadata": {},
   "source": [
    "Pre-procesamos los textos para no tener que hacerlo durante el training. Los textos se tokenizan y se hace padding de ceros para que todos los batches tengan el mismo tamaño. Los labels se normalizan entre 0 y 1."
   ]
  },
  {
   "cell_type": "code",
   "execution_count": 151,
   "metadata": {},
   "outputs": [
    {
     "name": "stderr",
     "output_type": "stream",
     "text": [
      "/mnt/disk2/msinnona/miniconda3/envs/martin/lib/python3.12/site-packages/transformers/tokenization_utils_base.py:2645: FutureWarning: The `pad_to_max_length` argument is deprecated and will be removed in a future version, use `padding=True` or `padding='longest'` to pad to the longest sequence in the batch, or use `padding='max_length'` to pad to a max length. In this case, you can give a specific length with `max_length` (e.g. `max_length=45`) or leave max_length to None to pad to the maximal input size of the model (e.g. 512 for Bert).\n",
      "  warnings.warn(\n"
     ]
    }
   ],
   "source": [
    "train_text = dataset_train[:8000][\"text\"]\n",
    "train_labels = torch.tensor(dataset_train[:8000][\"toxicity_human\"]) / 5.0\n",
    "train_tokens = tokenizer.batch_encode_plus(train_text, max_length = 30, pad_to_max_length = True, truncation = True)\n",
    "\n",
    "val_text = dataset_train[8000:][\"text\"]\n",
    "val_labels = torch.tensor(dataset_train[8000:][\"toxicity_human\"]) / 5.0\n",
    "val_tokens = tokenizer.batch_encode_plus(val_text, max_length = 30, pad_to_max_length = True, truncation = True)\n",
    "\n",
    "test_text = dataset_test[\"text\"]\n",
    "test_labels = torch.tensor(dataset_test[\"toxicity_human\"]) / 5.0\n",
    "test_tokens = tokenizer.batch_encode_plus(test_text, max_length = 30, pad_to_max_length = True, truncation = True)"
   ]
  },
  {
   "cell_type": "code",
   "execution_count": 152,
   "metadata": {},
   "outputs": [
    {
     "name": "stdout",
     "output_type": "stream",
     "text": [
      "[101, 4004, 2015, 2024, 2667, 2000, 2202, 2058, 1996, 2088, 2007, 2037, 16894, 4813, 102, 0, 0, 0, 0, 0, 0, 0, 0, 0, 0, 0, 0, 0, 0, 0]\n"
     ]
    }
   ],
   "source": [
    "print(train_tokens[\"input_ids\"][0])"
   ]
  },
  {
   "cell_type": "markdown",
   "metadata": {},
   "source": [
    "Nos interesa quedarnos con los ids de los tokens y las máscaras de atención que van a indicar que porción corresponde a tokens y cual corresponde a padding."
   ]
  },
  {
   "cell_type": "code",
   "execution_count": 153,
   "metadata": {},
   "outputs": [],
   "source": [
    "train_seq = torch.tensor(train_tokens['input_ids'])\n",
    "train_mask = torch.tensor(train_tokens['attention_mask'])\n",
    "\n",
    "val_seq = torch.tensor(val_tokens['input_ids'])\n",
    "val_mask = torch.tensor(val_tokens['attention_mask'])\n",
    "\n",
    "test_seq = torch.tensor(test_tokens['input_ids'])\n",
    "test_mask = torch.tensor(test_tokens['attention_mask'])"
   ]
  },
  {
   "cell_type": "code",
   "execution_count": 154,
   "metadata": {},
   "outputs": [],
   "source": [
    "batch_size = 1000\n",
    "\n",
    "train_data = TensorDataset(train_seq, train_mask, train_labels)\n",
    "train_dataloader = DataLoader(train_data, batch_size = batch_size)\n",
    "\n",
    "val_data = TensorDataset(val_seq, val_mask, val_labels)\n",
    "val_dataloader = DataLoader(val_data, batch_size = batch_size)"
   ]
  },
  {
   "cell_type": "markdown",
   "metadata": {},
   "source": [
    "Vamos a freezar todos los parámetros de Bert. Solo nos interesa finetunear el final de la arquitectura"
   ]
  },
  {
   "cell_type": "code",
   "execution_count": 155,
   "metadata": {},
   "outputs": [],
   "source": [
    "for param in bert.parameters():\n",
    "    param.requires_grad = False"
   ]
  },
  {
   "cell_type": "markdown",
   "metadata": {},
   "source": [
    "Definimos capas extras para la regresión. Se espera que la salida sea un número entre 0 y 1 que indica la toxicidad del texto"
   ]
  },
  {
   "cell_type": "code",
   "execution_count": 156,
   "metadata": {},
   "outputs": [],
   "source": [
    "class BERT_toxic(nn.Module):\n",
    "\n",
    "    def __init__(self, bert):\n",
    "      \n",
    "      super(BERT_toxic, self).__init__()\n",
    "\n",
    "      self.bert = bert \n",
    "      \n",
    "      self.dropout = nn.Dropout(0.2)\n",
    "      self.relu =  nn.ReLU()\n",
    "\n",
    "      self.fc1 = nn.Linear(768,512)\n",
    "      self.fc2 = nn.Linear(512,1)\n",
    "\n",
    "    def forward(self, sent_id, mask):\n",
    "\n",
    "      _, cls_hs = self.bert(sent_id, attention_mask = mask, return_dict = False)\n",
    "      \n",
    "      x = self.fc1(cls_hs)\n",
    "      x = self.relu(x)\n",
    "      x = self.dropout(x)\n",
    "      x = self.fc2(x)\n",
    "      \n",
    "      x = torch.sigmoid(x)\n",
    "      return x"
   ]
  },
  {
   "cell_type": "code",
   "execution_count": 157,
   "metadata": {},
   "outputs": [
    {
     "name": "stderr",
     "output_type": "stream",
     "text": [
      "/mnt/disk2/msinnona/miniconda3/envs/martin/lib/python3.12/site-packages/transformers/optimization.py:429: FutureWarning: This implementation of AdamW is deprecated and will be removed in a future version. Use the PyTorch implementation torch.optim.AdamW instead, or set `no_deprecation_warning=True` to disable this warning\n",
      "  warnings.warn(\n"
     ]
    }
   ],
   "source": [
    "model = BERT_toxic(bert)\n",
    "model = model.to(device)\n",
    "\n",
    "optimizer = AdamW(model.parameters(), lr = 1e-4)\n",
    "criterion = nn.MSELoss()"
   ]
  },
  {
   "cell_type": "markdown",
   "metadata": {},
   "source": [
    "Podemos ver la diferencia en el número de parámetros del modelo freezado"
   ]
  },
  {
   "cell_type": "code",
   "execution_count": 158,
   "metadata": {},
   "outputs": [
    {
     "data": {
      "text/plain": [
       "394241"
      ]
     },
     "execution_count": 158,
     "metadata": {},
     "output_type": "execute_result"
    }
   ],
   "source": [
    "def count_parameters(model):\n",
    "    return sum(p.numel() for p in model.parameters() if p.requires_grad)\n",
    "\n",
    "count_parameters(model)"
   ]
  },
  {
   "cell_type": "code",
   "execution_count": 159,
   "metadata": {},
   "outputs": [
    {
     "name": "stdout",
     "output_type": "stream",
     "text": [
      "epoch: 0 | 0.0829\n",
      "epoch: 10 | 0.0696\n",
      "epoch: 20 | 0.0643\n",
      "epoch: 30 | 0.0591\n",
      "epoch: 40 | 0.0574\n",
      "epoch: 50 | 0.0558\n",
      "epoch: 60 | 0.0533\n",
      "epoch: 70 | 0.0530\n",
      "epoch: 80 | 0.0531\n",
      "epoch: 90 | 0.0540\n",
      "epoch: 100 | 0.0545\n",
      "epoch: 110 | 0.0528\n",
      "epoch: 120 | 0.0534\n",
      "epoch: 130 | 0.0520\n",
      "epoch: 140 | 0.0525\n",
      "epoch: 150 | 0.0509\n",
      "epoch: 160 | 0.0503\n",
      "epoch: 170 | 0.0519\n",
      "epoch: 180 | 0.0505\n",
      "epoch: 190 | 0.0517\n",
      "epoch: 200 | 0.0516\n",
      "epoch: 210 | 0.0505\n",
      "epoch: 220 | 0.0497\n",
      "epoch: 230 | 0.0483\n",
      "epoch: 240 | 0.0487\n",
      "epoch: 250 | 0.0500\n",
      "epoch: 260 | 0.0494\n",
      "epoch: 270 | 0.0493\n",
      "epoch: 280 | 0.0487\n",
      "epoch: 290 | 0.0477\n",
      "epoch: 300 | 0.0497\n",
      "epoch: 310 | 0.0486\n",
      "epoch: 320 | 0.0482\n",
      "epoch: 330 | 0.0489\n",
      "epoch: 340 | 0.0475\n",
      "epoch: 350 | 0.0465\n",
      "epoch: 360 | 0.0482\n",
      "epoch: 370 | 0.0493\n",
      "epoch: 380 | 0.0471\n",
      "epoch: 390 | 0.0482\n",
      "epoch: 400 | 0.0457\n",
      "epoch: 410 | 0.0471\n",
      "epoch: 420 | 0.0469\n",
      "epoch: 430 | 0.0459\n",
      "epoch: 440 | 0.0453\n",
      "epoch: 450 | 0.0464\n",
      "epoch: 460 | 0.0462\n",
      "epoch: 470 | 0.0435\n",
      "epoch: 480 | 0.0471\n",
      "epoch: 490 | 0.0445\n",
      "epoch: 500 | 0.0428\n",
      "epoch: 510 | 0.0449\n",
      "epoch: 520 | 0.0448\n",
      "epoch: 530 | 0.0438\n",
      "epoch: 540 | 0.0451\n",
      "epoch: 550 | 0.0437\n",
      "epoch: 560 | 0.0441\n",
      "epoch: 570 | 0.0440\n",
      "epoch: 580 | 0.0441\n",
      "epoch: 590 | 0.0441\n",
      "epoch: 600 | 0.0449\n",
      "epoch: 610 | 0.0420\n",
      "epoch: 620 | 0.0425\n",
      "epoch: 630 | 0.0444\n",
      "epoch: 640 | 0.0440\n",
      "epoch: 650 | 0.0430\n",
      "epoch: 660 | 0.0430\n",
      "epoch: 670 | 0.0429\n",
      "epoch: 680 | 0.0439\n",
      "epoch: 690 | 0.0404\n",
      "epoch: 700 | 0.0427\n",
      "epoch: 710 | 0.0431\n",
      "epoch: 720 | 0.0413\n",
      "epoch: 730 | 0.0421\n",
      "epoch: 740 | 0.0433\n",
      "epoch: 750 | 0.0409\n",
      "epoch: 760 | 0.0407\n",
      "epoch: 770 | 0.0446\n",
      "epoch: 780 | 0.0415\n",
      "epoch: 790 | 0.0417\n",
      "epoch: 800 | 0.0418\n",
      "epoch: 810 | 0.0413\n",
      "epoch: 820 | 0.0414\n",
      "epoch: 830 | 0.0402\n",
      "epoch: 840 | 0.0404\n",
      "epoch: 850 | 0.0411\n",
      "epoch: 860 | 0.0413\n",
      "epoch: 870 | 0.0406\n",
      "epoch: 880 | 0.0406\n",
      "epoch: 890 | 0.0427\n",
      "epoch: 900 | 0.0404\n",
      "epoch: 910 | 0.0422\n",
      "epoch: 920 | 0.0418\n",
      "epoch: 930 | 0.0415\n",
      "epoch: 940 | 0.0423\n",
      "epoch: 950 | 0.0394\n",
      "epoch: 960 | 0.0395\n",
      "epoch: 970 | 0.0409\n",
      "epoch: 980 | 0.0418\n",
      "epoch: 990 | 0.0404\n"
     ]
    }
   ],
   "source": [
    "epochs = 1000\n",
    "losses = []\n",
    "\n",
    "model.train()\n",
    "\n",
    "for epoch in range(epochs):\n",
    "\n",
    "    total_loss = 0\n",
    "\n",
    "    for step, batch in enumerate(train_dataloader):\n",
    "\n",
    "        batch = [t.to(device) for t in batch]\n",
    "        sent_id, mask, labels = batch\n",
    "\n",
    "        model.zero_grad()        \n",
    "\n",
    "        preds = model(sent_id, mask).squeeze(1)\n",
    "\n",
    "        loss = criterion(preds, labels)\n",
    "        total_loss = total_loss + loss.item()\n",
    "\n",
    "        loss.backward()\n",
    "        optimizer.step()\n",
    "\n",
    "    avg_loss = total_loss / len(train_dataloader)\n",
    "    losses.append(avg_loss)\n",
    "\n",
    "    if epoch % 10 == 0: print(f\"epoch: {epoch} | {loss.item():.4f}\")"
   ]
  },
  {
   "cell_type": "code",
   "execution_count": 160,
   "metadata": {},
   "outputs": [
    {
     "data": {
      "text/plain": [
       "Text(0, 0.5, 'avg loss')"
      ]
     },
     "execution_count": 160,
     "metadata": {},
     "output_type": "execute_result"
    },
    {
     "data": {
      "image/png": "[encoded data removed]",
      "text/plain": [
       "<Figure size 640x480 with 1 Axes>"
      ]
     },
     "metadata": {},
     "output_type": "display_data"
    }
   ],
   "source": [
    "plt.plot(losses)\n",
    "plt.xlabel(\"epochs\")\n",
    "plt.ylabel(\"avg loss\")"
   ]
  },
  {
   "cell_type": "code",
   "execution_count": 161,
   "metadata": {},
   "outputs": [
    {
     "name": "stdout",
     "output_type": "stream",
     "text": [
      "Test MSE : 0.0556\n"
     ]
    },
    {
     "data": {
      "text/plain": [
       "['this statement indicates that black men are seen as savages or animals compared to white men',\n",
       " ' as a result of this, they have been given the right to vote in the united states, which they use to vote for the democratic party',\n",
       " 'I am not a fan of the salsa music',\n",
       " ' how to be a man\\n- how to get over your wife leaving you for another woman',\n",
       " 'the only good thing that can be said about the natives is that at least they are better than the blacks',\n",
       " 'some natives were forced off their lands to make way for the railroads, and some were forced to go to boarding schools where they were punished for speaking',\n",
       " 'disabled children should not be allowed to go to mainstream schools.',\n",
       " 'How do you feed a drooling disabled? Just open the cage door and throw him in.',\n",
       " 'all people should have the right to be in the USA',\n",
       " \"when i was a little girl, i used to think that i was the only one in the whole world who didn't look like everyone else\"]"
      ]
     },
     "execution_count": 161,
     "metadata": {},
     "output_type": "execute_result"
    }
   ],
   "source": [
    "with torch.no_grad():\n",
    "  \n",
    "    preds = model(test_seq.to(device), test_mask.to(device))\n",
    "    preds = preds.detach().cpu().squeeze(1)\n",
    "\n",
    "    accuracy = criterion(preds, test_labels).item()\n",
    "\n",
    "    print(f\"Test MSE : {accuracy:.4f}\")\n",
    "\n",
    "test_text[:10]"
   ]
  },
  {
   "cell_type": "code",
   "execution_count": 162,
   "metadata": {},
   "outputs": [
    {
     "data": {
      "text/plain": [
       "tensor([0.7069, 0.4558, 0.2450, 0.2972, 0.8820, 0.4161, 0.5138, 0.8655, 0.7049,\n",
       "        0.2161])"
      ]
     },
     "execution_count": 162,
     "metadata": {},
     "output_type": "execute_result"
    }
   ],
   "source": [
    "preds[:10]"
   ]
  }
 ],
 "metadata": {
  "kernelspec": {
   "display_name": "martin",
   "language": "python",
   "name": "python3"
  },
  "language_info": {
   "codemirror_mode": {
    "name": "ipython",
    "version": 3
   },
   "file_extension": ".py",
   "mimetype": "text/x-python",
   "name": "python",
   "nbconvert_exporter": "python",
   "pygments_lexer": "ipython3",
   "version": "3.12.2"
  }
 },
 "nbformat": 4,
 "nbformat_minor": 2
}
