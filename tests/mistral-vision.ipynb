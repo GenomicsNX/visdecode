{
 "cells": [
  {
   "cell_type": "code",
   "execution_count": 3,
   "metadata": {},
   "outputs": [],
   "source": [
    "import base64\n",
    "import requests\n",
    "import os\n",
    "from PIL import Image\n",
    "from mistralai import Mistral"
   ]
  },
  {
   "cell_type": "code",
   "execution_count": 4,
   "metadata": {},
   "outputs": [
    {
     "data": {
      "image/jpeg": "[encoded data removed]",
      "image/png": "[encoded data removed]",
      "text/plain": [
       "<PIL.Image.Image image mode=RGB size=494x474>"
      ]
     },
     "execution_count": 4,
     "metadata": {},
     "output_type": "execute_result"
    }
   ],
   "source": [
    "def encode_image(image_path):\n",
    "\n",
    "    try:\n",
    "        with open(image_path, \"rb\") as image_file:\n",
    "            return base64.b64encode(image_file.read()).decode('utf-8')\n",
    "    except FileNotFoundError:\n",
    "        print(f\"Error: The file {image_path} was not found.\")\n",
    "        return None\n",
    "    except Exception as e:  \n",
    "        print(f\"Error: {e}\")\n",
    "        return None\n",
    "\n",
    "image_path = \"datasets/visdecode/0.png\"\n",
    "base64_image = encode_image(image_path)\n",
    "\n",
    "Image.open(image_path).convert('RGB')"
   ]
  },
  {
   "cell_type": "markdown",
   "metadata": {},
   "source": [
    "**Poor design practices**"
   ]
  },
  {
   "cell_type": "code",
   "execution_count": 5,
   "metadata": {},
   "outputs": [
    {
     "name": "stdout",
     "output_type": "stream",
     "text": [
      "The chart presented appears to be a scatter plot with \"Median Income\" on the x-axis and \"Time\" on the y-axis. However, there are several poor design practices that can affect the readability and interpretability of the chart:\n",
      "\n",
      "1. **Lack of Axis Labels and Titles**: The chart does not have axis labels or a title. This makes it difficult for viewers to understand what the data represents and what the axes measure.\n",
      "\n",
      "2. **Inconsistent Scaling**: The y-axis (Time) has a non-linear scale, while the x-axis (Median Income) appears to be linear. This inconsistency can make it challenging to compare data points accurately.\n",
      "\n",
      "3. **Insufficient Data Points**: There are only a few data points on the chart. This limited data set can make it difficult to draw meaningful conclusions or identify trends.\n",
      "\n",
      "4. **No Grid Lines**: The absence of grid lines can make it harder for viewers to estimate the values of data points and compare them accurately.\n",
      "\n",
      "5. **No Legend**: If the chart is supposed to represent different categories or groups, a legend is essential to explain what each data point or line represents.\n",
      "\n",
      "6. **Poor Contrast**: The chart uses a single color for the data points, which may not be easily distinguishable for all viewers, especially those with color vision deficiencies.\n",
      "\n",
      "7. **No Data Source or Context**: There is no information about the source of the data or the context in which it was collected. This information is crucial for understanding the data's relevance and reliability.\n",
      "\n",
      "8. **No Annotations**: The chart lacks annotations to highlight important data points or trends. This can make it harder for viewers to interpret the data.\n",
      "\n",
      "To improve the chart, consider adding axis labels, a title, grid lines, and a legend. Ensure consistent scaling for both axes and include a data source and context. Using color effectively and adding annotations can also enhance the chart's readability and interpretability.\n"
     ]
    }
   ],
   "source": [
    "api_key = \"wZvsLgdJGNstGJVVSJLZPNT91Zcuvk10\"\n",
    "client = Mistral(api_key = api_key)\n",
    "\n",
    "model = \"pixtral-12b-2409\"\n",
    "\n",
    "messages = [\n",
    "    {\n",
    "        \"role\": \"user\",\n",
    "        \"content\": [\n",
    "            {\n",
    "                \"type\": \"text\",\n",
    "                \"text\": \"Identify and describe any poor design practices in the chart\"\n",
    "            },\n",
    "            {\n",
    "                \"type\": \"image_url\",\n",
    "                \"image_url\": f\"data:image/jpeg;base64,{base64_image}\" \n",
    "            }\n",
    "        ]\n",
    "    }\n",
    "]\n",
    "\n",
    "chat_response = client.chat.complete(\n",
    "    model=model,\n",
    "    messages=messages\n",
    ")\n",
    "\n",
    "# Print the content of the response\n",
    "print(chat_response.choices[0].message.content)"
   ]
  },
  {
   "cell_type": "markdown",
   "metadata": {},
   "source": [
    "**Vega-lite description**"
   ]
  },
  {
   "cell_type": "code",
   "execution_count": 6,
   "metadata": {},
   "outputs": [
    {
     "name": "stdout",
     "output_type": "stream",
     "text": [
      "Certainly! Here is the Vega-Lite description for the scatter plot shown in the image:\n",
      "\n",
      "```vega-lite\n",
      "{\n",
      "  \"data\": [\n",
      "    {\n",
      "      \"values\": [\n",
      "        {\"Median Income\": 2000, \"Time\": 200},\n",
      "        {\"Median Income\": 3000, \"Time\": 300},\n",
      "        {\"Median Income\": 4000, \"Time\": 1000},\n",
      "        {\"Median Income\": 5000, \"Time\": 400},\n",
      "        {\"Median Income\": 6000, \"Time\": 300},\n",
      "        {\"Median Income\": 7000, \"Time\": 1500}\n",
      "      ]\n",
      "    }\n",
      "  ],\n",
      "  \"mark\": \"circle\",\n",
      "  \"encoding\": {\n",
      "    \"x\": {\"field\": \"Median Income\", \"type\": \"quantitative\"},\n",
      "    \"y\": {\"field\": \"Time\", \"type\": \"quantitative\"}\n",
      "  }\n",
      "}\n",
      "```\n",
      "\n",
      "This description specifies a scatter plot with circles as markers, where the x-axis represents \"Median Income\" and the y-axis represents \"Time\". The data points are explicitly listed in the \"values\" array.\n"
     ]
    }
   ],
   "source": [
    "messages = [\n",
    "    {\n",
    "        \"role\": \"user\",\n",
    "        \"content\": [\n",
    "            {\n",
    "                \"type\": \"text\",\n",
    "                \"text\": \"Extract vega lite description from this chart, including data values\"\n",
    "            },\n",
    "            {\n",
    "                \"type\": \"image_url\",\n",
    "                \"image_url\": f\"data:image/jpeg;base64,{base64_image}\" \n",
    "            }\n",
    "        ]\n",
    "    }\n",
    "]\n",
    "\n",
    "chat_response = client.chat.complete(\n",
    "    model=model,\n",
    "    messages=messages\n",
    ")\n",
    "\n",
    "# Print the content of the response\n",
    "print(chat_response.choices[0].message.content)"
   ]
  },
  {
   "cell_type": "markdown",
   "metadata": {},
   "source": [
    "**Structured output**"
   ]
  },
  {
   "cell_type": "code",
   "execution_count": 7,
   "metadata": {},
   "outputs": [
    {
     "name": "stdout",
     "output_type": "stream",
     "text": [
      "{\n",
      "  \"chart_type\": \"Scatter Plot\",\n",
      "  \"x_axis_label\": \"Median Income\",\n",
      "  \"y_axis_label\": \"Time\",\n",
      "  \"title\": \"Time vs Median Income\",\n",
      "  \"data_values\": [\n",
      "    {\"Median Income\": 2000, \"Time\": 100},\n",
      "    {\"Median Income\": 3000, \"Time\": 200},\n",
      "    {\"Median Income\": 4000, \"Time\": 1000},\n",
      "    {\"Median Income\": 5000, \"Time\": 300},\n",
      "    {\"Median Income\": 6000, \"Time\": 400},\n",
      "    {\"Median Income\": 7000, \"Time\": 1500},\n",
      "    {\"Median Income\": 8000, \"Time\": 1000}\n",
      "  ]\n",
      "}\n"
     ]
    }
   ],
   "source": [
    "api_key = \"wZvsLgdJGNstGJVVSJLZPNT91Zcuvk10\"\n",
    "client = Mistral(api_key = api_key)\n",
    "\n",
    "model = \"pixtral-12b-2409\"\n",
    "\n",
    "messages = [\n",
    "            {\n",
    "                \"role\": \"system\",\n",
    "                \"content\": [\n",
    "                    {\"type\": \"text\",\n",
    "                     \"text\" : \"Extract the text and data elements described by the user from the picture, and return the result formatted as a json in the following format : {name_of_element : [value]}\"\n",
    "                    }\n",
    "                ]\n",
    "            },\n",
    "            {\n",
    "                \"role\": \"user\",\n",
    "                \"content\": [\n",
    "                    {\n",
    "                        \"type\": \"text\",\n",
    "                        \"text\": \"From this chart, extract the chart type, axis labels, title, and data values and return it as a string in a Json object\"\n",
    "                    },\n",
    "                    {\n",
    "                        \"type\": \"image_url\",\n",
    "                        \"image_url\": f\"data:image/jpeg;base64,{base64_image}\" \n",
    "                    }\n",
    "                ]\n",
    "            }\n",
    "        ]\n",
    "\n",
    "chat_response = client.chat.complete(\n",
    "    model=model,\n",
    "    messages=messages,\n",
    "    response_format={\"type\": \"json_object\"}\n",
    ")\n",
    "\n",
    "# Print the content of the response\n",
    "print(chat_response.choices[0].message.content)"
   ]
  }
 ],
 "metadata": {
  "kernelspec": {
   "display_name": "pytorch",
   "language": "python",
   "name": "python3"
  },
  "language_info": {
   "codemirror_mode": {
    "name": "ipython",
    "version": 3
   },
   "file_extension": ".py",
   "mimetype": "text/x-python",
   "name": "python",
   "nbconvert_exporter": "python",
   "pygments_lexer": "ipython3",
   "version": "3.11.11"
  }
 },
 "nbformat": 4,
 "nbformat_minor": 2
}
