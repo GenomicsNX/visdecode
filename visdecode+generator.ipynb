{
 "cells": [
  {
   "cell_type": "code",
   "execution_count": 207,
   "metadata": {},
   "outputs": [],
   "source": [
    "import pandas as pd\n",
    "import os\n",
    "import ast\n",
    "import shutil"
   ]
  },
  {
   "cell_type": "code",
   "execution_count": 208,
   "metadata": {},
   "outputs": [],
   "source": [
    "def erase_files(path):\n",
    "\n",
    "    for filename in os.listdir(path):\n",
    "\n",
    "        file_path = os.path.join(path, filename)\n",
    "\n",
    "        try:\n",
    "            if os.path.isfile(file_path): os.remove(file_path)\n",
    "        except Exception as e:\n",
    "            print(f\"Error deleting {file_path}: {e}\")"
   ]
  },
  {
   "cell_type": "markdown",
   "metadata": {},
   "source": [
    "**Grouping csv files in one annotations.csv for each dataset**"
   ]
  },
  {
   "cell_type": "code",
   "execution_count": 209,
   "metadata": {},
   "outputs": [],
   "source": [
    "path = \"/home/martin/Desktop/visdecode+\"\n",
    "folders = os.listdir(path)\n",
    "\n",
    "for folder in folders:\n",
    "\n",
    "    csv_folder_path = os.path.join(path, folder + \"/csv\")\n",
    "    if os.path.exists(csv_folder_path):\n",
    "\n",
    "        csv_files = os.listdir(csv_folder_path)\n",
    "        df = None\n",
    "\n",
    "        for file in csv_files:\n",
    "\n",
    "            df2 = pd.read_csv(os.path.join(csv_folder_path, file))\n",
    "\n",
    "            if type(df) == type(None): \n",
    "                df = df2\n",
    "            else:\n",
    "                df = pd.concat([df, df2], ignore_index=True)\n",
    "\n",
    "        df.to_csv(os.path.join(path, folder + \"/annotations.csv\"))"
   ]
  },
  {
   "cell_type": "markdown",
   "metadata": {},
   "source": [
    "**Grouping all annotations.csv in one file**"
   ]
  },
  {
   "cell_type": "code",
   "execution_count": 210,
   "metadata": {},
   "outputs": [
    {
     "data": {
      "text/plain": [
       "mark_type\n",
       "vbar     6916\n",
       "hbar     6720\n",
       "pie      4078\n",
       "line     1693\n",
       "point    1139\n",
       "Name: count, dtype: int64"
      ]
     },
     "execution_count": 210,
     "metadata": {},
     "output_type": "execute_result"
    }
   ],
   "source": [
    "folders = os.listdir(path)\n",
    "df = None\n",
    "\n",
    "for folder in folders:\n",
    "\n",
    "    folder_path = os.path.join(path, folder)\n",
    "    if folder != \"output\" and folder != \"png\" and os.path.isdir(folder_path):\n",
    "\n",
    "        df2 = pd.read_csv(folder_path + \"/annotations.csv\", index_col = 0)\n",
    "\n",
    "        if type(df) == type(None):\n",
    "            df = df2\n",
    "        else:\n",
    "            df = pd.concat([df, df2], ignore_index=True)\n",
    "\n",
    "df[\"x_name\"] = df[\"x_name\"].astype(object).fillna(\" \")\n",
    "df[\"y_name\"] = df[\"y_name\"].astype(object).fillna(\" \")\n",
    "\n",
    "colors = [colors_str[1:-1].replace(\",\",\"\").replace(\"'\",\"\") for colors_str in df[\"colors\"]]\n",
    "df[\"colors\"] = colors\n",
    "\n",
    "df.to_csv(path + \"/all_annotations.csv\")\n",
    "df[\"mark_type\"].value_counts()"
   ]
  },
  {
   "cell_type": "markdown",
   "metadata": {},
   "source": [
    "**Sampling super dataset**"
   ]
  },
  {
   "cell_type": "code",
   "execution_count": 211,
   "metadata": {},
   "outputs": [
    {
     "data": {
      "text/plain": [
       "mark_type\n",
       "vbar     325\n",
       "hbar     322\n",
       "pie      211\n",
       "line      76\n",
       "point     66\n",
       "Name: count, dtype: int64"
      ]
     },
     "execution_count": 211,
     "metadata": {},
     "output_type": "execute_result"
    }
   ],
   "source": [
    "df = pd.read_csv(path + \"/all_annotations.csv\", index_col = 0)\n",
    "sampled_df = df.sample(1000, random_state = 42)\n",
    "\n",
    "erase_files(f\"{path}/png\")\n",
    "\n",
    "for idx, row in sampled_df.iterrows():\n",
    "        \n",
    "    original_image = row[\"original_image\"]\n",
    "    dataset = row[\"dataset_name\"]\n",
    "\n",
    "    src_path = os.path.join(f\"{path}/{dataset}/png\", original_image)\n",
    "    dest_path = os.path.join(f\"{path}/png\", original_image)\n",
    "\n",
    "    try:\n",
    "        shutil.copy(src_path, dest_path)\n",
    "    except IOError as e:\n",
    "        print(f\"Failed to copy {original_image}: {e}\")\n",
    "\n",
    "sampled_df.to_csv(path + \"/annotations.csv\")\n",
    "sampled_df[\"mark_type\"].value_counts()"
   ]
  }
 ],
 "metadata": {
  "kernelspec": {
   "display_name": "pytorch",
   "language": "python",
   "name": "python3"
  },
  "language_info": {
   "codemirror_mode": {
    "name": "ipython",
    "version": 3
   },
   "file_extension": ".py",
   "mimetype": "text/x-python",
   "name": "python",
   "nbconvert_exporter": "python",
   "pygments_lexer": "ipython3",
   "version": "3.11.11"
  }
 },
 "nbformat": 4,
 "nbformat_minor": 2
}
