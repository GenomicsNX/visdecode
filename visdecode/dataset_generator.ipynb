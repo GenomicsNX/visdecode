{
 "cells": [
  {
   "cell_type": "code",
   "execution_count": 1,
   "metadata": {},
   "outputs": [],
   "source": [
    "import random\n",
    "import copy\n",
    "import numpy as np\n",
    "import json\n",
    "import vl_convert as vlc\n",
    "import os\n",
    "from IPython.display import Image"
   ]
  },
  {
   "cell_type": "code",
   "execution_count": 2,
   "metadata": {},
   "outputs": [],
   "source": [
    "def erase_files(path):\n",
    "\n",
    "    for filename in os.listdir(path):\n",
    "\n",
    "        file_path = os.path.join(path, filename)\n",
    "\n",
    "        try:\n",
    "            if os.path.isfile(file_path): os.remove(file_path)\n",
    "        except Exception as e:\n",
    "            print(f\"Error deleting {file_path}: {e}\")"
   ]
  },
  {
   "cell_type": "code",
   "execution_count": 3,
   "metadata": {},
   "outputs": [],
   "source": [
    "def load_list(path):\n",
    "\n",
    "    with open(path, 'r') as file:\n",
    "        list = [line.strip() for line in file]\n",
    "\n",
    "    return list"
   ]
  },
  {
   "cell_type": "code",
   "execution_count": 4,
   "metadata": {},
   "outputs": [],
   "source": [
    "def render_vega(vega_dict, scale = 1):\n",
    "\n",
    "    spec = json.dumps(vega_dict, indent = 4)\n",
    "\n",
    "    try:\n",
    "        return vlc.vegalite_to_png(vl_spec = spec, scale = scale)\n",
    "    except:\n",
    "        print(spec)\n",
    "\n",
    "def text_to_vega(texts):\n",
    "\n",
    "    vegas = []\n",
    "    for text in texts:\n",
    "\n",
    "        try: vegas.append(json.loads(text.replace(\"'\",'\"')))\n",
    "        except: print(\"Error in text to vega conversion\")\n",
    "\n",
    "    return vegas"
   ]
  },
  {
   "cell_type": "code",
   "execution_count": 5,
   "metadata": {},
   "outputs": [],
   "source": [
    "def theme():\n",
    "\n",
    "    return  {\n",
    "\n",
    "        \"background\": \"white\",\n",
    "        \"axis\": {\n",
    "            \"labelFont\": random.choice([\"serif\", \"monospace\", \"sans-serif\"]),\n",
    "            \"labelFontSize\": 8,\n",
    "\n",
    "            \"titleFontSize\": 8,\n",
    "            \"titleFontWeight\": \"normal\",\n",
    "\n",
    "            \"grid\": random.choice([True, False]),\n",
    "        },\n",
    "        \"style\": {\n",
    "            \"cell\": {\n",
    "                \"stroke\": \"transparent\"\n",
    "            }\n",
    "        }\n",
    "    }\n",
    "\n",
    "def generate_dataset(n_samples, path, vega_structure = True):\n",
    "\n",
    "    erase_files(path)\n",
    "\n",
    "    metadata = [['file_name','text']]\n",
    "\n",
    "    plots = [{\"mark\": \"bar\", \"x_type\": \"nominal\"}, \n",
    "             {\"mark\": \"line\", \"x_type\": \"temporal\"},\n",
    "             {\"mark\": \"circle\", \"x_type\": \"quantitative\"}]\n",
    "\n",
    "    var_names = load_list(\"data/var_names.txt\")\n",
    "    nominals = load_list(\"data/nominals.txt\")\n",
    "\n",
    "    for i in range(n_samples):\n",
    "\n",
    "        plot = random.choice(plots)\n",
    "\n",
    "        x_name = var_names.pop(random.randint(0, len(var_names) - 1))\n",
    "        y_name = var_names.pop(random.randint(0, len(var_names) - 1))\n",
    "\n",
    "        var_names.append(x_name)\n",
    "        var_names.append(y_name)\n",
    "\n",
    "        p = 2.0\n",
    "\n",
    "        x_title = x_name if random.random() < p else \"\"\n",
    "        y_title = y_name if random.random() < p else \"\"\n",
    "\n",
    "        # generation of y values\n",
    "\n",
    "        y_scale = random.randint(1,1000)\n",
    "        y_discrete = random.choice([True, False])\n",
    "        y_values = [np.round(random.random() * y_scale, 2) if not y_discrete else random.randint(1,10) * y_scale for i in range(10)]\n",
    "\n",
    "        # generation of x values \n",
    "\n",
    "        x_values = None\n",
    "\n",
    "        if plot[\"x_type\"] == \"nominal\":\n",
    "            x_values = nominals.copy()\n",
    "        elif plot[\"x_type\"] == \"temporal\":\n",
    "            x_values = [int(x) for x in list(np.arange(1900,2000,random.randint(1,10)) + random.randint(-100,24))]\n",
    "        elif plot[\"x_type\"] == \"quantitative\":\n",
    "            x_scale = random.randint(1,1000)\n",
    "            x_discrete = random.choice([True, False])\n",
    "            x_values = [np.round(random.random() * x_scale, 2) if not x_discrete else random.randint(1,10) * x_scale for i in range(10)]\n",
    "\n",
    "        vega_dict = {\n",
    "            \n",
    "            \"mark\": plot[\"mark\"],\n",
    "            \"encoding\": {\n",
    "                \"x\": {\"field\": x_name, \"type\": plot[\"x_type\"], \"title\": x_title},\n",
    "                \"y\": {\"field\": y_name, \"type\": \"quantitative\", \"title\": y_title}\n",
    "            },\n",
    "            \"data\": {\n",
    "                \"values\": [\n",
    "                    {x_name: x_values.pop(0), y_name: random.choice(y_values)} for j in range(random.randint(2,10)) \n",
    "                ]\n",
    "            },\n",
    "        }\n",
    "\n",
    "        vega_dict_copy = copy.deepcopy(vega_dict)\n",
    "\n",
    "        if vega_dict[\"encoding\"][\"x\"][\"type\"] == \"temporal\": vega_dict[\"encoding\"][\"x\"][\"type\"] = \"quantitative\"\n",
    "        vega_dict[\"config\"] = theme()\n",
    "\n",
    "        # Image rendering <-----------------------------------------\n",
    "\n",
    "        image_data = render_vega(vega_dict, scale = 2)\n",
    "\n",
    "        with open(path + \"/\" +  str(i) + \".png\", \"wb\") as f: \n",
    "            f.write(image_data)\n",
    "        \n",
    "        # ----------------------------------------------------------\n",
    "\n",
    "        if vega_dict_copy[\"encoding\"][\"x\"][\"title\"] == \"\": vega_dict_copy[\"encoding\"][\"x\"][\"field\"] = \"\"\n",
    "        if vega_dict_copy[\"encoding\"][\"y\"][\"title\"] == \"\": vega_dict_copy[\"encoding\"][\"y\"][\"field\"] = \"\"\n",
    "\n",
    "        vega_dict_copy[\"encoding\"][\"x\"].pop(\"title\")\n",
    "        vega_dict_copy[\"encoding\"][\"y\"].pop(\"title\")\n",
    "\n",
    "        for value_dict in vega_dict_copy[\"data\"][\"values\"]:\n",
    "            \n",
    "            try:\n",
    "                value_dict[\"x\"] = value_dict.pop(x_name)\n",
    "                value_dict[\"y\"] = value_dict.pop(y_name)\n",
    "            except:\n",
    "                print(\"Error en value dict\")\n",
    "\n",
    "        vega = None\n",
    "\n",
    "        if vega_structure:\n",
    "            vega = '\"' + str(vega_dict_copy) + '\"'\n",
    "        else:\n",
    "            vega =  plot[\"mark\"] + \"|\" + plot[\"x_type\"] + \"|\" + x_title + \"|\" + \"quantitative\" + \"|\" + y_title\n",
    "\n",
    "        metadata.append([str(i) + \".png\", vega])\n",
    "\n",
    "    np.savetxt(path + \"/metadata.csv\", metadata, delimiter = ',', fmt = '% s')"
   ]
  },
  {
   "cell_type": "code",
   "execution_count": 6,
   "metadata": {},
   "outputs": [],
   "source": [
    "random.seed(42)\n",
    "np.random.seed(42)\n",
    "\n",
    "dataset_name = \"visdecode_simple\"\n",
    "\n",
    "generate_dataset(n_samples = 1000, path = \"datasets/\" + dataset_name + \"/train\", vega_structure = False)\n",
    "generate_dataset(n_samples = 100, path = \"datasets/\" + dataset_name + \"/test\", vega_structure = False)\n",
    "generate_dataset(n_samples = 20, path = \"datasets/\" + dataset_name + \"/val\", vega_structure = False)"
   ]
  },
  {
   "cell_type": "code",
   "execution_count": 7,
   "metadata": {},
   "outputs": [
    {
     "data": {
      "application/vnd.jupyter.widget-view+json": {
       "model_id": "25c8ee08fb584930889ff6b697e94483",
       "version_major": 2,
       "version_minor": 0
      },
      "text/plain": [
       "Resolving data files:   0%|          | 0/1001 [00:00<?, ?it/s]"
      ]
     },
     "metadata": {},
     "output_type": "display_data"
    },
    {
     "data": {
      "application/vnd.jupyter.widget-view+json": {
       "model_id": "3ae8878822014d3dbc6bf5cca04ce5f3",
       "version_major": 2,
       "version_minor": 0
      },
      "text/plain": [
       "Resolving data files:   0%|          | 0/21 [00:00<?, ?it/s]"
      ]
     },
     "metadata": {},
     "output_type": "display_data"
    },
    {
     "data": {
      "application/vnd.jupyter.widget-view+json": {
       "model_id": "2323c9c9a2fd44b98f8f80041017dbad",
       "version_major": 2,
       "version_minor": 0
      },
      "text/plain": [
       "Resolving data files:   0%|          | 0/101 [00:00<?, ?it/s]"
      ]
     },
     "metadata": {},
     "output_type": "display_data"
    },
    {
     "data": {
      "application/vnd.jupyter.widget-view+json": {
       "model_id": "d97ea5c4724e4bda8ce2fd79e3a5842e",
       "version_major": 2,
       "version_minor": 0
      },
      "text/plain": [
       "Generating train split: 0 examples [00:00, ? examples/s]"
      ]
     },
     "metadata": {},
     "output_type": "display_data"
    },
    {
     "data": {
      "application/vnd.jupyter.widget-view+json": {
       "model_id": "6b814452e70748c684f4b14689d26bb7",
       "version_major": 2,
       "version_minor": 0
      },
      "text/plain": [
       "Generating validation split: 0 examples [00:00, ? examples/s]"
      ]
     },
     "metadata": {},
     "output_type": "display_data"
    },
    {
     "data": {
      "application/vnd.jupyter.widget-view+json": {
       "model_id": "c49d761f7dd642d5806b1effe4f625dc",
       "version_major": 2,
       "version_minor": 0
      },
      "text/plain": [
       "Generating test split: 0 examples [00:00, ? examples/s]"
      ]
     },
     "metadata": {},
     "output_type": "display_data"
    },
    {
     "data": {
      "application/vnd.jupyter.widget-view+json": {
       "model_id": "a66f5804dc634464b65d9e2de40c9dbb",
       "version_major": 2,
       "version_minor": 0
      },
      "text/plain": [
       "Uploading the dataset shards:   0%|          | 0/1 [00:00<?, ?it/s]"
      ]
     },
     "metadata": {},
     "output_type": "display_data"
    },
    {
     "data": {
      "application/vnd.jupyter.widget-view+json": {
       "model_id": "99ae8a630d6e4fd6b8a869dfe13b6012",
       "version_major": 2,
       "version_minor": 0
      },
      "text/plain": [
       "Map:   0%|          | 0/1000 [00:00<?, ? examples/s]"
      ]
     },
     "metadata": {},
     "output_type": "display_data"
    },
    {
     "data": {
      "application/vnd.jupyter.widget-view+json": {
       "model_id": "7f3045337d3b42b2bdff6f590b74097f",
       "version_major": 2,
       "version_minor": 0
      },
      "text/plain": [
       "Creating parquet from Arrow format:   0%|          | 0/10 [00:00<?, ?ba/s]"
      ]
     },
     "metadata": {},
     "output_type": "display_data"
    },
    {
     "data": {
      "application/vnd.jupyter.widget-view+json": {
       "model_id": "31735d55838b4701830965628f32606b",
       "version_major": 2,
       "version_minor": 0
      },
      "text/plain": [
       "Uploading the dataset shards:   0%|          | 0/1 [00:00<?, ?it/s]"
      ]
     },
     "metadata": {},
     "output_type": "display_data"
    },
    {
     "data": {
      "application/vnd.jupyter.widget-view+json": {
       "model_id": "d0f870d4fe434b25a7a109c4d77e7379",
       "version_major": 2,
       "version_minor": 0
      },
      "text/plain": [
       "Map:   0%|          | 0/20 [00:00<?, ? examples/s]"
      ]
     },
     "metadata": {},
     "output_type": "display_data"
    },
    {
     "data": {
      "application/vnd.jupyter.widget-view+json": {
       "model_id": "f2fb5ad880eb4c15be15dc7586002ba1",
       "version_major": 2,
       "version_minor": 0
      },
      "text/plain": [
       "Creating parquet from Arrow format:   0%|          | 0/1 [00:00<?, ?ba/s]"
      ]
     },
     "metadata": {},
     "output_type": "display_data"
    },
    {
     "data": {
      "application/vnd.jupyter.widget-view+json": {
       "model_id": "fbc6afe99cca43e68060e0143866a584",
       "version_major": 2,
       "version_minor": 0
      },
      "text/plain": [
       "Uploading the dataset shards:   0%|          | 0/1 [00:00<?, ?it/s]"
      ]
     },
     "metadata": {},
     "output_type": "display_data"
    },
    {
     "data": {
      "application/vnd.jupyter.widget-view+json": {
       "model_id": "e0242c6340b44d2ab5dbef617562cb04",
       "version_major": 2,
       "version_minor": 0
      },
      "text/plain": [
       "Map:   0%|          | 0/100 [00:00<?, ? examples/s]"
      ]
     },
     "metadata": {},
     "output_type": "display_data"
    },
    {
     "data": {
      "application/vnd.jupyter.widget-view+json": {
       "model_id": "04c097e89c184fcda0f74a4d878b2cff",
       "version_major": 2,
       "version_minor": 0
      },
      "text/plain": [
       "Creating parquet from Arrow format:   0%|          | 0/1 [00:00<?, ?ba/s]"
      ]
     },
     "metadata": {},
     "output_type": "display_data"
    },
    {
     "data": {
      "application/vnd.jupyter.widget-view+json": {
       "model_id": "b62f89180ae844b28ad3a9c8eef8d2fd",
       "version_major": 2,
       "version_minor": 0
      },
      "text/plain": [
       "README.md:   0%|          | 0.00/531 [00:00<?, ?B/s]"
      ]
     },
     "metadata": {},
     "output_type": "display_data"
    },
    {
     "data": {
      "text/plain": [
       "CommitInfo(commit_url='https://huggingface.co/datasets/martinsinnona/visdecode_simple/commit/92a2a2241f9bf20191b4c98cfe0b209f5c78b191', commit_message='Upload dataset', commit_description='', oid='92a2a2241f9bf20191b4c98cfe0b209f5c78b191', pr_url=None, pr_revision=None, pr_num=None)"
      ]
     },
     "execution_count": 7,
     "metadata": {},
     "output_type": "execute_result"
    }
   ],
   "source": [
    "from datasets import load_dataset\n",
    "\n",
    "dataset = load_dataset(\"imagefolder\", data_dir = \"datasets/\" + dataset_name)\n",
    "dataset.push_to_hub(\"martinsinnona/\" + dataset_name)"
   ]
  },
  {
   "cell_type": "code",
   "execution_count": 8,
   "metadata": {},
   "outputs": [
    {
     "data": {
      "image/png": "[encoded data removed]",
      "text/plain": [
       "<IPython.core.display.Image object>"
      ]
     },
     "execution_count": 8,
     "metadata": {
      "image/png": {
       "height": 494,
       "width": 492
      }
     },
     "output_type": "execute_result"
    }
   ],
   "source": [
    "vega = {\n",
    "            \n",
    "    \"mark\": \"line\",\n",
    "    \"encoding\": {\n",
    "        \"x\": {\"field\": \"x\", \"type\": \"quantitative\"},\n",
    "        \"y\": {\"field\": \"y\", \"type\": \"quantitative\"}\n",
    "    },\n",
    "    \"data\": {\n",
    "        \"values\": [\n",
    "            {\"x\":3, \"y\":5}, {\"x\":4, \"y\":10}\n",
    "        ]\n",
    "    },\n",
    "    \"config\": {\n",
    "        \"axis\": {\n",
    "            \"grid\": False\n",
    "        },\n",
    "        \"style\": {\n",
    "            \"cell\": {\n",
    "            \"stroke\": \"transparent\"\n",
    "            }\n",
    "        }\n",
    "    }\n",
    "}\n",
    "\n",
    "png_data = vlc.vegalite_to_png(vl_spec = vega, scale = 4)\n",
    "Image(png_data, retina = True)"
   ]
  }
 ],
 "metadata": {
  "kernelspec": {
   "display_name": "martin",
   "language": "python",
   "name": "python3"
  },
  "language_info": {
   "codemirror_mode": {
    "name": "ipython",
    "version": 3
   },
   "file_extension": ".py",
   "mimetype": "text/x-python",
   "name": "python",
   "nbconvert_exporter": "python",
   "pygments_lexer": "ipython3",
   "version": "3.12.2"
  }
 },
 "nbformat": 4,
 "nbformat_minor": 2
}
