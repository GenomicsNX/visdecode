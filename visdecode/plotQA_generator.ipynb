{
 "cells": [
  {
   "cell_type": "code",
   "execution_count": 2,
   "metadata": {},
   "outputs": [],
   "source": [
    "import pandas as pd\n",
    "import numpy as np\n",
    "import shutil\n",
    "import os\n",
    "import random\n",
    "from PIL import Image\n",
    "from datasets import load_dataset\n",
    "import matplotlib.pyplot as plt"
   ]
  },
  {
   "cell_type": "code",
   "execution_count": 106,
   "metadata": {},
   "outputs": [
    {
     "name": "stdout",
     "output_type": "stream",
     "text": [
      "Plots Dataset size : 33657\n"
     ]
    },
    {
     "data": {
      "text/html": [
       "<div>\n",
       "<style scoped>\n",
       "    .dataframe tbody tr th:only-of-type {\n",
       "        vertical-align: middle;\n",
       "    }\n",
       "\n",
       "    .dataframe tbody tr th {\n",
       "        vertical-align: top;\n",
       "    }\n",
       "\n",
       "    .dataframe thead th {\n",
       "        text-align: right;\n",
       "    }\n",
       "</style>\n",
       "<table border=\"1\" class=\"dataframe\">\n",
       "  <thead>\n",
       "    <tr style=\"text-align: right;\">\n",
       "      <th></th>\n",
       "      <th>models</th>\n",
       "      <th>type</th>\n",
       "      <th>general_figure_info</th>\n",
       "      <th>image_index</th>\n",
       "    </tr>\n",
       "  </thead>\n",
       "  <tbody>\n",
       "    <tr>\n",
       "      <th>0</th>\n",
       "      <td>[{'name': 'Goods and services', 'color': '#F0E...</td>\n",
       "      <td>dot_line</td>\n",
       "      <td>{'title': {'text': 'Payments made towards prim...</td>\n",
       "      <td>0</td>\n",
       "    </tr>\n",
       "    <tr>\n",
       "      <th>1</th>\n",
       "      <td>[{'name': 'Arms exports', 'color': '#FFFF00', ...</td>\n",
       "      <td>dot_line</td>\n",
       "      <td>{'title': {'text': 'Arm exports and imports in...</td>\n",
       "      <td>1</td>\n",
       "    </tr>\n",
       "    <tr>\n",
       "      <th>2</th>\n",
       "      <td>[{'name': 'Infant', 'color': '#191970', 'label...</td>\n",
       "      <td>dot_line</td>\n",
       "      <td>{'title': {'text': 'Mortality rates in Marshal...</td>\n",
       "      <td>2</td>\n",
       "    </tr>\n",
       "    <tr>\n",
       "      <th>3</th>\n",
       "      <td>[{'name': 'Female', 'color': '#D2B48C', 'label...</td>\n",
       "      <td>dot_line</td>\n",
       "      <td>{'title': {'text': 'Percentage of repeaters in...</td>\n",
       "      <td>3</td>\n",
       "    </tr>\n",
       "    <tr>\n",
       "      <th>4</th>\n",
       "      <td>[{'name': 'US$', 'color': '#B8860B', 'label': ...</td>\n",
       "      <td>dot_line</td>\n",
       "      <td>{'title': {'text': 'Total resource balance of ...</td>\n",
       "      <td>4</td>\n",
       "    </tr>\n",
       "  </tbody>\n",
       "</table>\n",
       "</div>"
      ],
      "text/plain": [
       "                                              models      type  \\\n",
       "0  [{'name': 'Goods and services', 'color': '#F0E...  dot_line   \n",
       "1  [{'name': 'Arms exports', 'color': '#FFFF00', ...  dot_line   \n",
       "2  [{'name': 'Infant', 'color': '#191970', 'label...  dot_line   \n",
       "3  [{'name': 'Female', 'color': '#D2B48C', 'label...  dot_line   \n",
       "4  [{'name': 'US$', 'color': '#B8860B', 'label': ...  dot_line   \n",
       "\n",
       "                                 general_figure_info  image_index  \n",
       "0  {'title': {'text': 'Payments made towards prim...            0  \n",
       "1  {'title': {'text': 'Arm exports and imports in...            1  \n",
       "2  {'title': {'text': 'Mortality rates in Marshal...            2  \n",
       "3  {'title': {'text': 'Percentage of repeaters in...            3  \n",
       "4  {'title': {'text': 'Total resource balance of ...            4  "
      ]
     },
     "execution_count": 106,
     "metadata": {},
     "output_type": "execute_result"
    }
   ],
   "source": [
    "data = pd.read_json(\"../data/annotations.json\")\n",
    "\n",
    "print(\"Plots Dataset size :\", len(data))\n",
    "data.head()"
   ]
  },
  {
   "cell_type": "code",
   "execution_count": 107,
   "metadata": {},
   "outputs": [
    {
     "data": {
      "text/plain": [
       "type\n",
       "hbar_categorical    11292\n",
       "vbar_categorical    11242\n",
       "dot_line             5574\n",
       "line                 5549\n",
       "Name: count, dtype: int64"
      ]
     },
     "execution_count": 107,
     "metadata": {},
     "output_type": "execute_result"
    }
   ],
   "source": [
    "data[\"type\"].value_counts()"
   ]
  },
  {
   "cell_type": "markdown",
   "metadata": {},
   "source": [
    "**Filtro el dataset para quedarme con las visualizaciones single-plot, elimino los hbar plots y renombro los tipos**"
   ]
  },
  {
   "cell_type": "code",
   "execution_count": 108,
   "metadata": {},
   "outputs": [
    {
     "name": "stdout",
     "output_type": "stream",
     "text": [
      "Single-plots Dataset size : 6070\n"
     ]
    },
    {
     "data": {
      "text/html": [
       "<div>\n",
       "<style scoped>\n",
       "    .dataframe tbody tr th:only-of-type {\n",
       "        vertical-align: middle;\n",
       "    }\n",
       "\n",
       "    .dataframe tbody tr th {\n",
       "        vertical-align: top;\n",
       "    }\n",
       "\n",
       "    .dataframe thead th {\n",
       "        text-align: right;\n",
       "    }\n",
       "</style>\n",
       "<table border=\"1\" class=\"dataframe\">\n",
       "  <thead>\n",
       "    <tr style=\"text-align: right;\">\n",
       "      <th></th>\n",
       "      <th>models</th>\n",
       "      <th>type</th>\n",
       "      <th>general_figure_info</th>\n",
       "      <th>image_index</th>\n",
       "    </tr>\n",
       "  </thead>\n",
       "  <tbody>\n",
       "    <tr>\n",
       "      <th>4435</th>\n",
       "      <td>[{'name': 'Secure Internet servers', 'color': ...</td>\n",
       "      <td>dot_line</td>\n",
       "      <td>{'title': {'text': 'Number of secure servers i...</td>\n",
       "      <td>4435</td>\n",
       "    </tr>\n",
       "    <tr>\n",
       "      <th>4436</th>\n",
       "      <td>[{'name': 'Communications', 'color': '#FFA07A'...</td>\n",
       "      <td>dot_line</td>\n",
       "      <td>{'y_axis': {'minor_ticks': {'values': [0, 1, 2...</td>\n",
       "      <td>4436</td>\n",
       "    </tr>\n",
       "    <tr>\n",
       "      <th>4437</th>\n",
       "      <td>[{'name': 'Armed forces personnel', 'color': '...</td>\n",
       "      <td>dot_line</td>\n",
       "      <td>{'title': {'text': 'Total onduty military pers...</td>\n",
       "      <td>4437</td>\n",
       "    </tr>\n",
       "    <tr>\n",
       "      <th>4438</th>\n",
       "      <td>[{'name': 'Government expenditure per tertiary...</td>\n",
       "      <td>dot_line</td>\n",
       "      <td>{'title': {'text': 'Government expenditure per...</td>\n",
       "      <td>4438</td>\n",
       "    </tr>\n",
       "    <tr>\n",
       "      <th>4439</th>\n",
       "      <td>[{'name': 'Tax payments', 'color': '#6B8E23', ...</td>\n",
       "      <td>dot_line</td>\n",
       "      <td>{'y_axis': {'minor_ticks': {'values': [0, 1, 2...</td>\n",
       "      <td>4439</td>\n",
       "    </tr>\n",
       "  </tbody>\n",
       "</table>\n",
       "</div>"
      ],
      "text/plain": [
       "                                                 models      type  \\\n",
       "4435  [{'name': 'Secure Internet servers', 'color': ...  dot_line   \n",
       "4436  [{'name': 'Communications', 'color': '#FFA07A'...  dot_line   \n",
       "4437  [{'name': 'Armed forces personnel', 'color': '...  dot_line   \n",
       "4438  [{'name': 'Government expenditure per tertiary...  dot_line   \n",
       "4439  [{'name': 'Tax payments', 'color': '#6B8E23', ...  dot_line   \n",
       "\n",
       "                                    general_figure_info  image_index  \n",
       "4435  {'title': {'text': 'Number of secure servers i...         4435  \n",
       "4436  {'y_axis': {'minor_ticks': {'values': [0, 1, 2...         4436  \n",
       "4437  {'title': {'text': 'Total onduty military pers...         4437  \n",
       "4438  {'title': {'text': 'Government expenditure per...         4438  \n",
       "4439  {'y_axis': {'minor_ticks': {'values': [0, 1, 2...         4439  "
      ]
     },
     "execution_count": 108,
     "metadata": {},
     "output_type": "execute_result"
    }
   ],
   "source": [
    "single_plots = data[data['models'].apply(lambda x: len(x) == 1)].copy()\n",
    "single_plots = single_plots.dropna(subset=[\"type\"])\n",
    "\n",
    "print(\"Single-plots Dataset size :\", len(single_plots))\n",
    "single_plots.head()"
   ]
  },
  {
   "cell_type": "code",
   "execution_count": 109,
   "metadata": {},
   "outputs": [],
   "source": [
    "def check_for_quotes(values):\n",
    "\n",
    "    values_new = []\n",
    "    \n",
    "    for val in values:\n",
    "        if isinstance(val, str):\n",
    "            if val.find(\"'\") != -1: val = val.replace(\"'\",\"\")\n",
    "\n",
    "        values_new.append(val)\n",
    "\n",
    "    return values_new\n",
    "\n",
    "def var_type(var):\n",
    "\n",
    "    try:\n",
    "        float(var)\n",
    "        return \"temporal\"\n",
    "    except:\n",
    "        return \"nominal\""
   ]
  },
  {
   "cell_type": "code",
   "execution_count": 110,
   "metadata": {},
   "outputs": [],
   "source": [
    "new_df_data = []\n",
    "indices = []\n",
    "\n",
    "for idx, row in single_plots.iterrows():\n",
    "\n",
    "    mark_type, x_type, y_type, x_name, y_name, x_values, y_values = None, None, None, None, None, None, None\n",
    "\n",
    "    x_name = row[\"general_figure_info\"][\"x_axis\"][\"label\"][\"text\"]\n",
    "    y_name = row[\"general_figure_info\"][\"y_axis\"][\"label\"][\"text\"]\n",
    "\n",
    "    x_values = check_for_quotes(row[\"models\"][0][\"x\"])\n",
    "    y_values = check_for_quotes(row[\"models\"][0][\"y\"])\n",
    "\n",
    "    if row[\"type\"] == \"dot_line\":\n",
    "        \n",
    "        mark_type = \"circle\"\n",
    "        \n",
    "        if x_name == \"Year\":\n",
    "            x_values = row[\"general_figure_info\"][\"x_axis\"][\"major_labels\"][\"values\"]\n",
    "            x_type = \"temporal\" \n",
    "        else:\n",
    "            x_type = \"quantitative\"\n",
    "\n",
    "        y_type = \"quantitative\"\n",
    "\n",
    "    elif row[\"type\"] == \"vbar_categorical\":\n",
    "        \n",
    "        mark_type = \"bar\"\n",
    "\n",
    "        x_type = var_type(x_values[0])\n",
    "        y_type = \"quantitative\"\n",
    "\n",
    "    elif row[\"type\"] == \"hbar_categorical\":\n",
    "\n",
    "        mark_type = \"bar\"\n",
    "\n",
    "        x_type = \"quantitative\"\n",
    "        y_type = var_type(y_values[0])\n",
    "        \n",
    "    elif row[\"type\"] == \"line\":\n",
    "        \n",
    "        mark_type = \"line\"\n",
    "\n",
    "        if x_name == \"Year\":\n",
    "            x_values = row[\"general_figure_info\"][\"x_axis\"][\"major_labels\"][\"values\"]\n",
    "\n",
    "        x_type = \"temporal\"\n",
    "        y_type = \"quantitative\"\n",
    "\n",
    "    new_df_data.append({\"mark_type\": mark_type,\n",
    "                        \"x_type\": x_type,\n",
    "                        \"y_type\": y_type,\n",
    "                        \"x_name\": x_name,\n",
    "                        \"y_name\": y_name,\n",
    "                        \"x_values\": x_values,\n",
    "                        \"y_values\": y_values})\n",
    "    \n",
    "    indices.append(idx)\n",
    "    \n",
    "plots = pd.DataFrame(new_df_data, index = indices)"
   ]
  },
  {
   "cell_type": "code",
   "execution_count": 111,
   "metadata": {},
   "outputs": [],
   "source": [
    "def get_vega(df, index, vega_structure = True):\n",
    "    \n",
    "    ''' Get vega code from a PlotQA DataFrame entry at index '''\n",
    "\n",
    "    mark_type = df[\"type\"][index]\n",
    "\n",
    "    x_name = df[\"general_figure_info\"][index][\"x_axis\"][\"label\"][\"text\"]\n",
    "    y_name = df[\"general_figure_info\"][index][\"y_axis\"][\"label\"][\"text\"]\n",
    "\n",
    "    y_values = [np.round(y, 2) for y in df[\"models\"][index][0][\"y\"]]\n",
    "    \n",
    "    x_values = single_plots[\"general_figure_info\"][index][\"x_axis\"][\"major_labels\"][\"values\"]\n",
    "    x_values_new = []\n",
    "    \n",
    "    for x_val in x_values:\n",
    "        if isinstance(x_val, str):\n",
    "            if x_val.find(\"'\") != -1: x_val = x_val.replace(\"'\",\"\")\n",
    "\n",
    "        x_values_new.append(x_val)\n",
    "\n",
    "    x_values = x_values_new    \n",
    "\n",
    "    midpoint = len(x_values) // 2\n",
    "    x_values = x_values[:midpoint]\n",
    "\n",
    "    x_type = var_type(x_values[0])\n",
    "    y_type = var_type(y_values[0])\n",
    "\n",
    "    vega = None\n",
    "\n",
    "    if vega_structure:\n",
    "\n",
    "        vega = {\"mark\": mark_type,\n",
    "                \"encoding\": {\n",
    "                    \"x\": {\"field\": x_name, \"type\": x_type},\n",
    "                    \"y\": {\"field\": y_name, \"type\": \"quantitative\"}\n",
    "                },\n",
    "                \"data\": {\n",
    "                    \"values\": [\n",
    "                        {\"x\": x, \"y\": y} for x,y in zip(x_values, y_values)\n",
    "                    ]\n",
    "                }\n",
    "            }\n",
    "    else:\n",
    "        vega = mark_type + \"|\" + x_type + \"|\" + x_name + \"|\" + y_type + \"|\" + y_name\n",
    "\n",
    "    return vega"
   ]
  },
  {
   "cell_type": "code",
   "execution_count": 112,
   "metadata": {},
   "outputs": [],
   "source": [
    "def get_vega2(df, index, vega_structure = True):\n",
    "\n",
    "    mark_type = df[\"mark_type\"][index]\n",
    "\n",
    "    x_type = df[\"x_type\"][index]\n",
    "    y_type = df[\"y_type\"][index]\n",
    "\n",
    "    x_name = df[\"x_name\"][index]\n",
    "    y_name = df[\"y_name\"][index]\n",
    "\n",
    "    x_values = df[\"x_values\"][index]\n",
    "    y_values = df[\"y_values\"][index]\n",
    "\n",
    "    vega = None\n",
    "\n",
    "    if vega_structure:\n",
    "\n",
    "        vega = {\"mark\": mark_type,\n",
    "                \"encoding\": {\n",
    "                    \"x\": {\"field\": x_name, \"type\": x_type},\n",
    "                    \"y\": {\"field\": y_name, \"type\": y_type}\n",
    "                },\n",
    "                \"data\": {\n",
    "                    \"values\": [\n",
    "                        {\"x\": x, \"y\": y} for x,y in zip(x_values, y_values)\n",
    "                    ]\n",
    "                }\n",
    "            }\n",
    "    else:\n",
    "        vega = mark_type + \"|\" + x_type + \"|\" + x_name + \"|\" + y_type + \"|\" + y_name\n",
    "\n",
    "    return vega"
   ]
  },
  {
   "cell_type": "code",
   "execution_count": 113,
   "metadata": {},
   "outputs": [
    {
     "data": {
      "text/plain": [
       "{'mark': 'line',\n",
       " 'encoding': {'x': {'field': 'Year', 'type': 'temporal'},\n",
       "  'y': {'field': 'Time spent(% of senior management time)',\n",
       "   'type': 'quantitative'}},\n",
       " 'data': {'values': [{'x': '2010', 'y': 11.8}, {'x': '2013', 'y': 1.9}]}}"
      ]
     },
     "execution_count": 113,
     "metadata": {},
     "output_type": "execute_result"
    }
   ],
   "source": [
    "index = plots.sample().index[0]\n",
    "get_vega2(plots, index)"
   ]
  },
  {
   "cell_type": "code",
   "execution_count": 114,
   "metadata": {},
   "outputs": [
    {
     "data": {
      "image/png": "[encoded data removed]",
      "text/plain": [
       "<PIL.PngImagePlugin.PngImageFile image mode=RGBA size=1138x650>"
      ]
     },
     "execution_count": 114,
     "metadata": {},
     "output_type": "execute_result"
    }
   ],
   "source": [
    "Image.open(\"../plotqa/png/\"+ str(index) +\".png\")"
   ]
  },
  {
   "cell_type": "code",
   "execution_count": 115,
   "metadata": {},
   "outputs": [],
   "source": [
    "def erase_files(path):\n",
    "\n",
    "    for filename in os.listdir(path):\n",
    "\n",
    "        file_path = os.path.join(path, filename)\n",
    "\n",
    "        try:\n",
    "            if os.path.isfile(file_path): os.remove(file_path)\n",
    "        except Exception as e:\n",
    "            print(f\"Error deleting {file_path}: {e}\")\n",
    "\n",
    "def copy_file(filename, src_dir, dest_dir):\n",
    "    \n",
    "    source_path = os.path.join(src_dir, filename)\n",
    "    destination_path = os.path.join(dest_dir,filename)\n",
    "\n",
    "    if os.path.exists(source_path):\n",
    "        try:\n",
    "            shutil.copy(source_path, destination_path)\n",
    "        except IOError as e:\n",
    "            print(f\"Failed to copy {filename}: {e}\")\n",
    "    else:\n",
    "        print(f\"File {filename} does not exist in the source directory.\")\n",
    "\n",
    "def generate_split(path, df, indexes):\n",
    "    \n",
    "    print(\"generating slice of size \", len(indexes))\n",
    "    erase_files(path)\n",
    "\n",
    "    metadata = [['file_name','text']]\n",
    "\n",
    "    for i in indexes:\n",
    "        \n",
    "        copy_file(str(i) + \".png\", \"../plotqa/png\", path)\n",
    "\n",
    "        vega_str = '\"' + str(get_vega2(df, i, vega_structure = False)) + '\"'\n",
    "        metadata.append([str(i) + \".png\", vega_str])\n",
    "\n",
    "    np.savetxt(path + \"/metadata.csv\", metadata, delimiter = ',', fmt = '% s')\n",
    "\n",
    "def generate_dataset(path, df, n_samples):\n",
    "    \n",
    "    np.random.seed(42)\n",
    "    random.seed(42)\n",
    "\n",
    "    n_train = n_samples\n",
    "    n_val = int(n_samples * 0.02)\n",
    "    n_test = int(n_samples)\n",
    "\n",
    "    indexes = list(df.sample(n_train + n_val + n_test).index)\n",
    "\n",
    "    generate_split(path + \"/train\", df, indexes[:n_train])\n",
    "    generate_split(path + \"/val\", df, indexes[n_train:n_train+n_val])\n",
    "    generate_split(path + \"/test\", df, indexes[n_train+n_val:])\n",
    "\n",
    "    return indexes"
   ]
  },
  {
   "cell_type": "markdown",
   "metadata": {},
   "source": [
    "**Dataset Generation**"
   ]
  },
  {
   "cell_type": "code",
   "execution_count": 116,
   "metadata": {},
   "outputs": [
    {
     "name": "stdout",
     "output_type": "stream",
     "text": [
      "generating slice of size  1000\n",
      "generating slice of size  20\n",
      "generating slice of size  1000\n"
     ]
    }
   ],
   "source": [
    "dataset_name = \"plotqa_simple_2\"\n",
    "indexes = generate_dataset(\"datasets/\" + dataset_name, plots, n_samples = 1000)"
   ]
  },
  {
   "cell_type": "markdown",
   "metadata": {},
   "source": [
    "**Upload to Huggingface**"
   ]
  },
  {
   "cell_type": "code",
   "execution_count": 117,
   "metadata": {},
   "outputs": [
    {
     "data": {
      "application/vnd.jupyter.widget-view+json": {
       "model_id": "f8a73764719740f48e23b3023581564b",
       "version_major": 2,
       "version_minor": 0
      },
      "text/plain": [
       "Resolving data files:   0%|          | 0/1001 [00:00<?, ?it/s]"
      ]
     },
     "metadata": {},
     "output_type": "display_data"
    },
    {
     "data": {
      "application/vnd.jupyter.widget-view+json": {
       "model_id": "996b9fb0589a452fb14a3dfb7dcd96c3",
       "version_major": 2,
       "version_minor": 0
      },
      "text/plain": [
       "Resolving data files:   0%|          | 0/21 [00:00<?, ?it/s]"
      ]
     },
     "metadata": {},
     "output_type": "display_data"
    },
    {
     "data": {
      "application/vnd.jupyter.widget-view+json": {
       "model_id": "ca78640074494ec9877428f8f2017c98",
       "version_major": 2,
       "version_minor": 0
      },
      "text/plain": [
       "Resolving data files:   0%|          | 0/1001 [00:00<?, ?it/s]"
      ]
     },
     "metadata": {},
     "output_type": "display_data"
    },
    {
     "data": {
      "application/vnd.jupyter.widget-view+json": {
       "model_id": "088b93c0ce0a44058771bd106896be3d",
       "version_major": 2,
       "version_minor": 0
      },
      "text/plain": [
       "Generating train split: 0 examples [00:00, ? examples/s]"
      ]
     },
     "metadata": {},
     "output_type": "display_data"
    },
    {
     "data": {
      "application/vnd.jupyter.widget-view+json": {
       "model_id": "1d547a906b324ef8842cf5996c7a8e1a",
       "version_major": 2,
       "version_minor": 0
      },
      "text/plain": [
       "Generating validation split: 0 examples [00:00, ? examples/s]"
      ]
     },
     "metadata": {},
     "output_type": "display_data"
    },
    {
     "data": {
      "application/vnd.jupyter.widget-view+json": {
       "model_id": "fb87b243c8be4d48ba6354fddc91ef0b",
       "version_major": 2,
       "version_minor": 0
      },
      "text/plain": [
       "Generating test split: 0 examples [00:00, ? examples/s]"
      ]
     },
     "metadata": {},
     "output_type": "display_data"
    },
    {
     "data": {
      "application/vnd.jupyter.widget-view+json": {
       "model_id": "2d3ba75e7f6643e59bdd9ef0f2c6065f",
       "version_major": 2,
       "version_minor": 0
      },
      "text/plain": [
       "Uploading the dataset shards:   0%|          | 0/1 [00:00<?, ?it/s]"
      ]
     },
     "metadata": {},
     "output_type": "display_data"
    },
    {
     "data": {
      "application/vnd.jupyter.widget-view+json": {
       "model_id": "0bff8362056a475b84a02e99e532ac18",
       "version_major": 2,
       "version_minor": 0
      },
      "text/plain": [
       "Map:   0%|          | 0/1000 [00:00<?, ? examples/s]"
      ]
     },
     "metadata": {},
     "output_type": "display_data"
    },
    {
     "data": {
      "application/vnd.jupyter.widget-view+json": {
       "model_id": "62b90de78cf7402f9e6c4fc8791fb3d6",
       "version_major": 2,
       "version_minor": 0
      },
      "text/plain": [
       "Creating parquet from Arrow format:   0%|          | 0/10 [00:00<?, ?ba/s]"
      ]
     },
     "metadata": {},
     "output_type": "display_data"
    },
    {
     "data": {
      "application/vnd.jupyter.widget-view+json": {
       "model_id": "b0bcb47955824fa9837264e2826075e1",
       "version_major": 2,
       "version_minor": 0
      },
      "text/plain": [
       "Uploading the dataset shards:   0%|          | 0/1 [00:00<?, ?it/s]"
      ]
     },
     "metadata": {},
     "output_type": "display_data"
    },
    {
     "data": {
      "application/vnd.jupyter.widget-view+json": {
       "model_id": "ad9fc120647e464da778b0c7d5831882",
       "version_major": 2,
       "version_minor": 0
      },
      "text/plain": [
       "Map:   0%|          | 0/20 [00:00<?, ? examples/s]"
      ]
     },
     "metadata": {},
     "output_type": "display_data"
    },
    {
     "data": {
      "application/vnd.jupyter.widget-view+json": {
       "model_id": "cededbcea7b0484da22dbc5019262669",
       "version_major": 2,
       "version_minor": 0
      },
      "text/plain": [
       "Creating parquet from Arrow format:   0%|          | 0/1 [00:00<?, ?ba/s]"
      ]
     },
     "metadata": {},
     "output_type": "display_data"
    },
    {
     "data": {
      "application/vnd.jupyter.widget-view+json": {
       "model_id": "416364f17fe0417cb0ddf121e5ac6a0f",
       "version_major": 2,
       "version_minor": 0
      },
      "text/plain": [
       "Uploading the dataset shards:   0%|          | 0/1 [00:00<?, ?it/s]"
      ]
     },
     "metadata": {},
     "output_type": "display_data"
    },
    {
     "data": {
      "application/vnd.jupyter.widget-view+json": {
       "model_id": "cb098525dd2842fa8260e3583f94f664",
       "version_major": 2,
       "version_minor": 0
      },
      "text/plain": [
       "Map:   0%|          | 0/1000 [00:00<?, ? examples/s]"
      ]
     },
     "metadata": {},
     "output_type": "display_data"
    },
    {
     "data": {
      "application/vnd.jupyter.widget-view+json": {
       "model_id": "bcd65723e94d4d7b87662f09864a9763",
       "version_major": 2,
       "version_minor": 0
      },
      "text/plain": [
       "Creating parquet from Arrow format:   0%|          | 0/10 [00:00<?, ?ba/s]"
      ]
     },
     "metadata": {},
     "output_type": "display_data"
    },
    {
     "data": {
      "text/plain": [
       "CommitInfo(commit_url='https://huggingface.co/datasets/martinsinnona/plotqa_simple_2/commit/40f284409eebb201497c8573ee84c98653d40449', commit_message='Upload dataset', commit_description='', oid='40f284409eebb201497c8573ee84c98653d40449', pr_url=None, pr_revision=None, pr_num=None)"
      ]
     },
     "execution_count": 117,
     "metadata": {},
     "output_type": "execute_result"
    }
   ],
   "source": [
    "dataset = load_dataset(\"imagefolder\", data_dir = \"datasets/\" + dataset_name)\n",
    "dataset.push_to_hub(\"martinsinnona/\" + dataset_name)"
   ]
  },
  {
   "cell_type": "markdown",
   "metadata": {},
   "source": [
    "**Análisis de las combinaciones de variables en PlotQA**"
   ]
  },
  {
   "cell_type": "code",
   "execution_count": 118,
   "metadata": {},
   "outputs": [
    {
     "data": {
      "text/plain": [
       "<matplotlib.colorbar.Colorbar at 0x7f151cbfb4a0>"
      ]
     },
     "execution_count": 118,
     "metadata": {},
     "output_type": "execute_result"
    },
    {
     "data": {
      "image/png": "[encoded data removed]",
      "text/plain": [
       "<Figure size 480x480 with 2 Axes>"
      ]
     },
     "metadata": {},
     "output_type": "display_data"
    }
   ],
   "source": [
    "var_types = np.zeros((4,4))\n",
    "types_map = {\"quantitative\" : 0, \"temporal\" : 1, \"nominal\" : 2, \"ordinal\" : 3}\n",
    "\n",
    "for i in indexes:\n",
    "\n",
    "    vega = get_vega2(plots, i)\n",
    "\n",
    "    x_type = vega[\"encoding\"][\"x\"][\"type\"]\n",
    "    y_type = vega[\"encoding\"][\"y\"][\"type\"]\n",
    "\n",
    "    var_types[types_map[x_type]][types_map[y_type]] += 1\n",
    "\n",
    "plt.matshow(var_types)\n",
    "\n",
    "for x in range(4):\n",
    "    for y in range(4):\n",
    "        plt.text(x - 0.15, y, f\"{var_types[y,x]:0.00f}\", fontsize = 8, c=\"black\", bbox=dict(facecolor='white'))\n",
    "\n",
    "plt.title(\"PlotQA var type combinations\\n\")\n",
    "plt.xticks([0,1,2,3],[\"Q\",\"T\",\"N\",\"O\"])\n",
    "plt.yticks([0,1,2,3],[\"Q\",\"T\",\"N\",\"O\"])\n",
    "plt.ylabel(\"x-axis type\\n\")\n",
    "plt.gca().xaxis.set_label_position('top')  \n",
    "plt.gca().xaxis.tick_top() \n",
    "plt.xlabel(\"y-axis type\\n\")\n",
    "plt.colorbar()"
   ]
  },
  {
   "cell_type": "code",
   "execution_count": 8,
   "metadata": {},
   "outputs": [
    {
     "data": {
      "text/plain": [
       "<matplotlib.colorbar.Colorbar at 0x7fa19d2fdd30>"
      ]
     },
     "execution_count": 8,
     "metadata": {},
     "output_type": "execute_result"
    },
    {
     "data": {
      "image/png": "[encoded data removed]",
      "text/plain": [
       "<Figure size 480x480 with 2 Axes>"
      ]
     },
     "metadata": {},
     "output_type": "display_data"
    }
   ],
   "source": [
    "plotQA_confusion = np.array([[323,0,0],\n",
    "                      [0,546,0],\n",
    "                      [0,0,131]])\n",
    "\n",
    "plt.matshow(plotQA_confusion, cmap = \"hot\")\n",
    "\n",
    "for x in range(3):\n",
    "    for y in range(3):\n",
    "        plt.text(x - 0.15, y, f\"{plotQA_confusion[y,x]:0.00f}\", fontsize = 8, c=\"black\", bbox=dict(facecolor='white'))\n",
    "\n",
    "plt.title(\"PlotQA confusion matrix\\n\")\n",
    "plt.xticks([0,1,2],[\"Q\",\"T\",\"N\"])\n",
    "plt.yticks([0,1,2],[\"Q\",\"T\",\"N\"])\n",
    "plt.ylabel(\"gt var types\\n\")\n",
    "plt.gca().xaxis.set_label_position('top')  \n",
    "plt.gca().xaxis.tick_top() \n",
    "plt.xlabel(\"predicted var types\\n\")\n",
    "plt.colorbar()"
   ]
  },
  {
   "cell_type": "code",
   "execution_count": 9,
   "metadata": {},
   "outputs": [
    {
     "data": {
      "text/plain": [
       "<matplotlib.colorbar.Colorbar at 0x7fa19bec9010>"
      ]
     },
     "execution_count": 9,
     "metadata": {},
     "output_type": "execute_result"
    },
    {
     "data": {
      "image/png": "[encoded data removed]",
      "text/plain": [
       "<Figure size 480x480 with 2 Axes>"
      ]
     },
     "metadata": {},
     "output_type": "display_data"
    }
   ],
   "source": [
    "visdecode_confusion = np.array([[150,41,17],\n",
    "                             [137,19,25],\n",
    "                             [258,9,25]])\n",
    "\n",
    "\n",
    "\n",
    "plt.matshow(visdecode_confusion, cmap = \"hot\")\n",
    "\n",
    "for x in range(3):\n",
    "    for y in range(3):\n",
    "        plt.text(x - 0.15, y, f\"{visdecode_confusion[y,x]:0.00f}\", fontsize = 8, c=\"black\", bbox=dict(facecolor='white'))\n",
    "\n",
    "plt.title(\"PlotQA confusion matrix\\n\")\n",
    "plt.xticks([0,1,2],[\"Q\",\"T\",\"N\"])\n",
    "plt.yticks([0,1,2],[\"Q\",\"T\",\"N\"])\n",
    "plt.ylabel(\"gt var types\\n\")\n",
    "plt.gca().xaxis.set_label_position('top')  \n",
    "plt.gca().xaxis.tick_top() \n",
    "plt.xlabel(\"predicted var types\\n\")\n",
    "plt.colorbar()"
   ]
  }
 ],
 "metadata": {
  "kernelspec": {
   "display_name": "martin",
   "language": "python",
   "name": "python3"
  },
  "language_info": {
   "codemirror_mode": {
    "name": "ipython",
    "version": 3
   },
   "file_extension": ".py",
   "mimetype": "text/x-python",
   "name": "python",
   "nbconvert_exporter": "python",
   "pygments_lexer": "ipython3",
   "version": "3.12.2"
  }
 },
 "nbformat": 4,
 "nbformat_minor": 2
}
