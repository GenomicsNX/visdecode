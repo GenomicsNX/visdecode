{
 "cells": [
  {
   "cell_type": "code",
   "execution_count": 1,
   "metadata": {},
   "outputs": [],
   "source": [
    "import pandas as pd\n",
    "import numpy as np\n",
    "import shutil\n",
    "import os\n",
    "import random\n",
    "from PIL import Image\n",
    "from datasets import load_dataset"
   ]
  },
  {
   "cell_type": "code",
   "execution_count": 2,
   "metadata": {},
   "outputs": [
    {
     "name": "stdout",
     "output_type": "stream",
     "text": [
      "Plots Dataset size : 33657\n"
     ]
    },
    {
     "data": {
      "text/html": [
       "<div>\n",
       "<style scoped>\n",
       "    .dataframe tbody tr th:only-of-type {\n",
       "        vertical-align: middle;\n",
       "    }\n",
       "\n",
       "    .dataframe tbody tr th {\n",
       "        vertical-align: top;\n",
       "    }\n",
       "\n",
       "    .dataframe thead th {\n",
       "        text-align: right;\n",
       "    }\n",
       "</style>\n",
       "<table border=\"1\" class=\"dataframe\">\n",
       "  <thead>\n",
       "    <tr style=\"text-align: right;\">\n",
       "      <th></th>\n",
       "      <th>models</th>\n",
       "      <th>type</th>\n",
       "      <th>general_figure_info</th>\n",
       "      <th>image_index</th>\n",
       "    </tr>\n",
       "  </thead>\n",
       "  <tbody>\n",
       "    <tr>\n",
       "      <th>0</th>\n",
       "      <td>[{'name': 'Goods and services', 'color': '#F0E...</td>\n",
       "      <td>dot_line</td>\n",
       "      <td>{'title': {'text': 'Payments made towards prim...</td>\n",
       "      <td>0</td>\n",
       "    </tr>\n",
       "    <tr>\n",
       "      <th>1</th>\n",
       "      <td>[{'name': 'Arms exports', 'color': '#FFFF00', ...</td>\n",
       "      <td>dot_line</td>\n",
       "      <td>{'title': {'text': 'Arm exports and imports in...</td>\n",
       "      <td>1</td>\n",
       "    </tr>\n",
       "    <tr>\n",
       "      <th>2</th>\n",
       "      <td>[{'name': 'Infant', 'color': '#191970', 'label...</td>\n",
       "      <td>dot_line</td>\n",
       "      <td>{'title': {'text': 'Mortality rates in Marshal...</td>\n",
       "      <td>2</td>\n",
       "    </tr>\n",
       "    <tr>\n",
       "      <th>3</th>\n",
       "      <td>[{'name': 'Female', 'color': '#D2B48C', 'label...</td>\n",
       "      <td>dot_line</td>\n",
       "      <td>{'title': {'text': 'Percentage of repeaters in...</td>\n",
       "      <td>3</td>\n",
       "    </tr>\n",
       "    <tr>\n",
       "      <th>4</th>\n",
       "      <td>[{'name': 'US$', 'color': '#B8860B', 'label': ...</td>\n",
       "      <td>dot_line</td>\n",
       "      <td>{'title': {'text': 'Total resource balance of ...</td>\n",
       "      <td>4</td>\n",
       "    </tr>\n",
       "  </tbody>\n",
       "</table>\n",
       "</div>"
      ],
      "text/plain": [
       "                                              models      type  \\\n",
       "0  [{'name': 'Goods and services', 'color': '#F0E...  dot_line   \n",
       "1  [{'name': 'Arms exports', 'color': '#FFFF00', ...  dot_line   \n",
       "2  [{'name': 'Infant', 'color': '#191970', 'label...  dot_line   \n",
       "3  [{'name': 'Female', 'color': '#D2B48C', 'label...  dot_line   \n",
       "4  [{'name': 'US$', 'color': '#B8860B', 'label': ...  dot_line   \n",
       "\n",
       "                                 general_figure_info  image_index  \n",
       "0  {'title': {'text': 'Payments made towards prim...            0  \n",
       "1  {'title': {'text': 'Arm exports and imports in...            1  \n",
       "2  {'title': {'text': 'Mortality rates in Marshal...            2  \n",
       "3  {'title': {'text': 'Percentage of repeaters in...            3  \n",
       "4  {'title': {'text': 'Total resource balance of ...            4  "
      ]
     },
     "execution_count": 2,
     "metadata": {},
     "output_type": "execute_result"
    }
   ],
   "source": [
    "plots = pd.read_json(\"../data/annotations.json\")\n",
    "\n",
    "print(\"Plots Dataset size :\", len(plots))\n",
    "plots.head()"
   ]
  },
  {
   "cell_type": "code",
   "execution_count": 6,
   "metadata": {},
   "outputs": [
    {
     "data": {
      "text/plain": [
       "type\n",
       "hbar_categorical    11292\n",
       "vbar_categorical    11242\n",
       "dot_line             5574\n",
       "line                 5549\n",
       "Name: count, dtype: int64"
      ]
     },
     "execution_count": 6,
     "metadata": {},
     "output_type": "execute_result"
    }
   ],
   "source": [
    "plots[\"type\"].value_counts()\n"
   ]
  },
  {
   "cell_type": "markdown",
   "metadata": {},
   "source": [
    "**Filtro el dataset para quedarme con las visualizaciones single-plot, elimino los hbar plots y renombro los tipos**"
   ]
  },
  {
   "cell_type": "code",
   "execution_count": 9,
   "metadata": {},
   "outputs": [
    {
     "name": "stdout",
     "output_type": "stream",
     "text": [
      "Single-plots Dataset size : 6070\n"
     ]
    },
    {
     "data": {
      "text/html": [
       "<div>\n",
       "<style scoped>\n",
       "    .dataframe tbody tr th:only-of-type {\n",
       "        vertical-align: middle;\n",
       "    }\n",
       "\n",
       "    .dataframe tbody tr th {\n",
       "        vertical-align: top;\n",
       "    }\n",
       "\n",
       "    .dataframe thead th {\n",
       "        text-align: right;\n",
       "    }\n",
       "</style>\n",
       "<table border=\"1\" class=\"dataframe\">\n",
       "  <thead>\n",
       "    <tr style=\"text-align: right;\">\n",
       "      <th></th>\n",
       "      <th>models</th>\n",
       "      <th>type</th>\n",
       "      <th>general_figure_info</th>\n",
       "      <th>image_index</th>\n",
       "    </tr>\n",
       "  </thead>\n",
       "  <tbody>\n",
       "    <tr>\n",
       "      <th>4435</th>\n",
       "      <td>[{'name': 'Secure Internet servers', 'color': ...</td>\n",
       "      <td>circle</td>\n",
       "      <td>{'title': {'text': 'Number of secure servers i...</td>\n",
       "      <td>4435</td>\n",
       "    </tr>\n",
       "    <tr>\n",
       "      <th>4436</th>\n",
       "      <td>[{'name': 'Communications', 'color': '#FFA07A'...</td>\n",
       "      <td>circle</td>\n",
       "      <td>{'y_axis': {'minor_ticks': {'values': [0, 1, 2...</td>\n",
       "      <td>4436</td>\n",
       "    </tr>\n",
       "    <tr>\n",
       "      <th>4437</th>\n",
       "      <td>[{'name': 'Armed forces personnel', 'color': '...</td>\n",
       "      <td>circle</td>\n",
       "      <td>{'title': {'text': 'Total onduty military pers...</td>\n",
       "      <td>4437</td>\n",
       "    </tr>\n",
       "    <tr>\n",
       "      <th>4438</th>\n",
       "      <td>[{'name': 'Government expenditure per tertiary...</td>\n",
       "      <td>circle</td>\n",
       "      <td>{'title': {'text': 'Government expenditure per...</td>\n",
       "      <td>4438</td>\n",
       "    </tr>\n",
       "    <tr>\n",
       "      <th>4439</th>\n",
       "      <td>[{'name': 'Tax payments', 'color': '#6B8E23', ...</td>\n",
       "      <td>circle</td>\n",
       "      <td>{'y_axis': {'minor_ticks': {'values': [0, 1, 2...</td>\n",
       "      <td>4439</td>\n",
       "    </tr>\n",
       "  </tbody>\n",
       "</table>\n",
       "</div>"
      ],
      "text/plain": [
       "                                                 models    type  \\\n",
       "4435  [{'name': 'Secure Internet servers', 'color': ...  circle   \n",
       "4436  [{'name': 'Communications', 'color': '#FFA07A'...  circle   \n",
       "4437  [{'name': 'Armed forces personnel', 'color': '...  circle   \n",
       "4438  [{'name': 'Government expenditure per tertiary...  circle   \n",
       "4439  [{'name': 'Tax payments', 'color': '#6B8E23', ...  circle   \n",
       "\n",
       "                                    general_figure_info  image_index  \n",
       "4435  {'title': {'text': 'Number of secure servers i...         4435  \n",
       "4436  {'y_axis': {'minor_ticks': {'values': [0, 1, 2...         4436  \n",
       "4437  {'title': {'text': 'Total onduty military pers...         4437  \n",
       "4438  {'title': {'text': 'Government expenditure per...         4438  \n",
       "4439  {'y_axis': {'minor_ticks': {'values': [0, 1, 2...         4439  "
      ]
     },
     "execution_count": 9,
     "metadata": {},
     "output_type": "execute_result"
    }
   ],
   "source": [
    "single_plots = plots[plots['models'].apply(lambda x: len(x) == 1)].copy()\n",
    "single_plots.loc[:, \"type\"] = single_plots[\"type\"].map({\"dot_line\": \"circle\", \"vbar_categorical\": \"bar\", \"line\": \"line\", \"hbar_categorical\": \"hbar\"})\n",
    "single_plots = single_plots.dropna(subset=[\"type\"])\n",
    "\n",
    "print(\"Single-plots Dataset size :\", len(single_plots))\n",
    "single_plots.head()"
   ]
  },
  {
   "cell_type": "code",
   "execution_count": null,
   "metadata": {},
   "outputs": [],
   "source": [
    "def var_type(var):\n",
    "\n",
    "    try:\n",
    "        int(var)\n",
    "        return \"temporal\"\n",
    "    except:\n",
    "        return \"nominal\"\n",
    "\n",
    "def get_vega(df, index, vega_structure = True):\n",
    "    \n",
    "    ''' Get vega code from a PlotQA DataFrame entry at index '''\n",
    "\n",
    "    mark_type = df[\"type\"][index]\n",
    "\n",
    "    x_name = df[\"general_figure_info\"][index][\"x_axis\"][\"label\"][\"text\"]\n",
    "    y_name = df[\"general_figure_info\"][index][\"y_axis\"][\"label\"][\"text\"]\n",
    "\n",
    "    y_values = [np.round(y, 2) for y in df[\"models\"][index][0][\"y\"]]\n",
    "    \n",
    "    x_values = single_plots[\"general_figure_info\"][index][\"x_axis\"][\"major_labels\"][\"values\"]\n",
    "    x_values_new = []\n",
    "    \n",
    "    for x_val in x_values:\n",
    "        if isinstance(x_val, str):\n",
    "            if x_val.find(\"'\") != -1: x_val = x_val.replace(\"'\",\"\")\n",
    "\n",
    "        x_values_new.append(x_val)\n",
    "\n",
    "    x_values = x_values_new    \n",
    "\n",
    "    midpoint = len(x_values) // 2\n",
    "    x_values = x_values[:midpoint]\n",
    "\n",
    "    x_type = var_type(x_values[0])\n",
    "\n",
    "    vega = None\n",
    "\n",
    "    if vega_structure:\n",
    "\n",
    "        vega = {\"mark\": mark_type,\n",
    "                \"encoding\": {\n",
    "                    \"x\": {\"field\": x_name, \"type\": x_type},\n",
    "                    \"y\": {\"field\": y_name, \"type\": \"quantitative\"}\n",
    "                },\n",
    "                \"data\": {\n",
    "                    \"values\": [\n",
    "                        {\"x\": x, \"y\": y} for x,y in zip(x_values, y_values)\n",
    "                    ]\n",
    "                }\n",
    "            }\n",
    "    else:\n",
    "        vega = mark_type + \"|\" + x_type + \"|\" + x_name + \"|\" + \"quantitative\" + \"|\" + y_name\n",
    "\n",
    "    return vega"
   ]
  },
  {
   "cell_type": "code",
   "execution_count": 28,
   "metadata": {},
   "outputs": [
    {
     "data": {
      "text/plain": [
       "{'mark': 'bar',\n",
       " 'encoding': {'x': {'field': 'Country', 'type': 'nominal'},\n",
       "  'y': {'field': '% of women ages 15-49', 'type': 'quantitative'}},\n",
       " 'data': {'values': [{'x': 'Japan', 'y': 64.5},\n",
       "   {'x': 'Kuwait', 'y': 34.6},\n",
       "   {'x': 'Mali', 'y': 4.7},\n",
       "   {'x': 'Mexico', 'y': 52.7},\n",
       "   {'x': 'Morocco', 'y': 35.9},\n",
       "   {'x': 'Paraguay', 'y': 44.8}]}}"
      ]
     },
     "execution_count": 28,
     "metadata": {},
     "output_type": "execute_result"
    }
   ],
   "source": [
    "index = single_plots.sample().index[0]\n",
    "get_vega(single_plots, index)"
   ]
  },
  {
   "cell_type": "code",
   "execution_count": 29,
   "metadata": {},
   "outputs": [
    {
     "data": {
      "image/png": "[encoded data removed]",
      "text/plain": [
       "<PIL.PngImagePlugin.PngImageFile image mode=RGBA size=1272x650>"
      ]
     },
     "execution_count": 29,
     "metadata": {},
     "output_type": "execute_result"
    }
   ],
   "source": [
    "Image.open(\"../plotqa/png/\"+ str(index) +\".png\")"
   ]
  },
  {
   "cell_type": "code",
   "execution_count": 30,
   "metadata": {},
   "outputs": [],
   "source": [
    "def erase_files(path):\n",
    "\n",
    "    for filename in os.listdir(path):\n",
    "\n",
    "        file_path = os.path.join(path, filename)\n",
    "\n",
    "        try:\n",
    "            if os.path.isfile(file_path): os.remove(file_path)\n",
    "        except Exception as e:\n",
    "            print(f\"Error deleting {file_path}: {e}\")\n",
    "\n",
    "def copy_file(filename, src_dir, dest_dir):\n",
    "    \n",
    "    source_path = os.path.join(src_dir, filename)\n",
    "    destination_path = os.path.join(dest_dir,filename)\n",
    "\n",
    "    if os.path.exists(source_path):\n",
    "        try:\n",
    "            shutil.copy(source_path, destination_path)\n",
    "        except IOError as e:\n",
    "            print(f\"Failed to copy {filename}: {e}\")\n",
    "    else:\n",
    "        print(f\"File {filename} does not exist in the source directory.\")\n",
    "\n",
    "def generate_split(path, df, indexes):\n",
    "    \n",
    "    print(\"generating slice of size \", len(indexes))\n",
    "    erase_files(path)\n",
    "\n",
    "    metadata = [['file_name','text']]\n",
    "\n",
    "    for i in indexes:\n",
    "        \n",
    "        copy_file(str(i) + \".png\", \"../plotqa/png\", path)\n",
    "\n",
    "        vega_str = '\"' + str(get_vega(df, i, False)) + '\"'\n",
    "        metadata.append([str(i) + \".png\", vega_str])\n",
    "\n",
    "    np.savetxt(path + \"/metadata.csv\", metadata, delimiter = ',', fmt = '% s')\n",
    "\n",
    "def generate_dataset(path, df, n_samples):\n",
    "    \n",
    "    np.random.seed(42)\n",
    "    random.seed(42)\n",
    "\n",
    "    n_train = n_samples\n",
    "    n_val = int(n_samples * 0.02)\n",
    "    n_test = int(n_samples * 0.1)\n",
    "\n",
    "    indexes = list(df.sample(n_train + n_val + n_test).index)\n",
    "\n",
    "    generate_split(path + \"/train\", df, indexes[:n_train])\n",
    "    generate_split(path + \"/val\", df, indexes[n_train:n_train+n_val])\n",
    "    generate_split(path + \"/test\", df, indexes[n_train+n_val:])"
   ]
  },
  {
   "cell_type": "markdown",
   "metadata": {},
   "source": [
    "**Dataset Generation**"
   ]
  },
  {
   "cell_type": "code",
   "execution_count": 31,
   "metadata": {},
   "outputs": [
    {
     "name": "stdout",
     "output_type": "stream",
     "text": [
      "generating slice of size  1000\n",
      "generating slice of size  20\n",
      "generating slice of size  100\n"
     ]
    }
   ],
   "source": [
    "dataset_name = \"plotqa_simple\"\n",
    "generate_dataset(\"datasets/\" + dataset_name, single_plots, n_samples = 1000)"
   ]
  },
  {
   "cell_type": "markdown",
   "metadata": {},
   "source": [
    "**Upload to Huggingface**"
   ]
  },
  {
   "cell_type": "code",
   "execution_count": 32,
   "metadata": {},
   "outputs": [
    {
     "data": {
      "application/vnd.jupyter.widget-view+json": {
       "model_id": "8ea63bcb2d21480f902b831c85a82b64",
       "version_major": 2,
       "version_minor": 0
      },
      "text/plain": [
       "Resolving data files:   0%|          | 0/1001 [00:00<?, ?it/s]"
      ]
     },
     "metadata": {},
     "output_type": "display_data"
    },
    {
     "data": {
      "application/vnd.jupyter.widget-view+json": {
       "model_id": "5fe46c48ae444bc0bf6472742f79a953",
       "version_major": 2,
       "version_minor": 0
      },
      "text/plain": [
       "Resolving data files:   0%|          | 0/21 [00:00<?, ?it/s]"
      ]
     },
     "metadata": {},
     "output_type": "display_data"
    },
    {
     "data": {
      "application/vnd.jupyter.widget-view+json": {
       "model_id": "a0f247aa0c0b4bf1861b91d8a17e639e",
       "version_major": 2,
       "version_minor": 0
      },
      "text/plain": [
       "Resolving data files:   0%|          | 0/101 [00:00<?, ?it/s]"
      ]
     },
     "metadata": {},
     "output_type": "display_data"
    },
    {
     "data": {
      "application/vnd.jupyter.widget-view+json": {
       "model_id": "695416f3e1654594b6177ee3e53aac8a",
       "version_major": 2,
       "version_minor": 0
      },
      "text/plain": [
       "Generating train split: 0 examples [00:00, ? examples/s]"
      ]
     },
     "metadata": {},
     "output_type": "display_data"
    },
    {
     "data": {
      "application/vnd.jupyter.widget-view+json": {
       "model_id": "891741d72d1445c4a50f8a554130613d",
       "version_major": 2,
       "version_minor": 0
      },
      "text/plain": [
       "Generating validation split: 0 examples [00:00, ? examples/s]"
      ]
     },
     "metadata": {},
     "output_type": "display_data"
    },
    {
     "data": {
      "application/vnd.jupyter.widget-view+json": {
       "model_id": "98152ec43860432794689c175e68cb6d",
       "version_major": 2,
       "version_minor": 0
      },
      "text/plain": [
       "Generating test split: 0 examples [00:00, ? examples/s]"
      ]
     },
     "metadata": {},
     "output_type": "display_data"
    },
    {
     "data": {
      "application/vnd.jupyter.widget-view+json": {
       "model_id": "132f9761776b4e2a9e009ac4bbea5c3e",
       "version_major": 2,
       "version_minor": 0
      },
      "text/plain": [
       "Uploading the dataset shards:   0%|          | 0/1 [00:00<?, ?it/s]"
      ]
     },
     "metadata": {},
     "output_type": "display_data"
    },
    {
     "data": {
      "application/vnd.jupyter.widget-view+json": {
       "model_id": "9339e67155874212af8fb076014b703a",
       "version_major": 2,
       "version_minor": 0
      },
      "text/plain": [
       "Map:   0%|          | 0/1000 [00:00<?, ? examples/s]"
      ]
     },
     "metadata": {},
     "output_type": "display_data"
    },
    {
     "data": {
      "application/vnd.jupyter.widget-view+json": {
       "model_id": "1b564bf4bff0470fb967ddbcf6094672",
       "version_major": 2,
       "version_minor": 0
      },
      "text/plain": [
       "Creating parquet from Arrow format:   0%|          | 0/10 [00:00<?, ?ba/s]"
      ]
     },
     "metadata": {},
     "output_type": "display_data"
    },
    {
     "data": {
      "application/vnd.jupyter.widget-view+json": {
       "model_id": "8efa9d0515904b77984669ee006ff803",
       "version_major": 2,
       "version_minor": 0
      },
      "text/plain": [
       "Uploading the dataset shards:   0%|          | 0/1 [00:00<?, ?it/s]"
      ]
     },
     "metadata": {},
     "output_type": "display_data"
    },
    {
     "data": {
      "application/vnd.jupyter.widget-view+json": {
       "model_id": "edab6db6e47d4ddeb3e7c1f4f714abe1",
       "version_major": 2,
       "version_minor": 0
      },
      "text/plain": [
       "Map:   0%|          | 0/20 [00:00<?, ? examples/s]"
      ]
     },
     "metadata": {},
     "output_type": "display_data"
    },
    {
     "data": {
      "application/vnd.jupyter.widget-view+json": {
       "model_id": "edae68861fa64206943e54bc4b3d46a0",
       "version_major": 2,
       "version_minor": 0
      },
      "text/plain": [
       "Creating parquet from Arrow format:   0%|          | 0/1 [00:00<?, ?ba/s]"
      ]
     },
     "metadata": {},
     "output_type": "display_data"
    },
    {
     "data": {
      "application/vnd.jupyter.widget-view+json": {
       "model_id": "492127d364e7402dbc864c2be60d5083",
       "version_major": 2,
       "version_minor": 0
      },
      "text/plain": [
       "Uploading the dataset shards:   0%|          | 0/1 [00:00<?, ?it/s]"
      ]
     },
     "metadata": {},
     "output_type": "display_data"
    },
    {
     "data": {
      "application/vnd.jupyter.widget-view+json": {
       "model_id": "bc389f02ce954c3a9fc172c81ecf60ef",
       "version_major": 2,
       "version_minor": 0
      },
      "text/plain": [
       "Map:   0%|          | 0/100 [00:00<?, ? examples/s]"
      ]
     },
     "metadata": {},
     "output_type": "display_data"
    },
    {
     "data": {
      "application/vnd.jupyter.widget-view+json": {
       "model_id": "e0976dae50da42d08f4b64144988b04f",
       "version_major": 2,
       "version_minor": 0
      },
      "text/plain": [
       "Creating parquet from Arrow format:   0%|          | 0/1 [00:00<?, ?ba/s]"
      ]
     },
     "metadata": {},
     "output_type": "display_data"
    },
    {
     "data": {
      "text/plain": [
       "CommitInfo(commit_url='https://huggingface.co/datasets/martinsinnona/plotqa_simple/commit/3aad204aef1712a5e21498ec7d5bde0693c55e9a', commit_message='Upload dataset', commit_description='', oid='3aad204aef1712a5e21498ec7d5bde0693c55e9a', pr_url=None, pr_revision=None, pr_num=None)"
      ]
     },
     "execution_count": 32,
     "metadata": {},
     "output_type": "execute_result"
    }
   ],
   "source": [
    "dataset = load_dataset(\"imagefolder\", data_dir = \"datasets/\" + dataset_name)\n",
    "dataset.push_to_hub(\"martinsinnona/\" + dataset_name)"
   ]
  },
  {
   "cell_type": "code",
   "execution_count": 33,
   "metadata": {},
   "outputs": [
    {
     "name": "stdout",
     "output_type": "stream",
     "text": [
      "{'quantitative': 0, 'temporal': 3392, 'nominal': 787, 'ordinal': 0}\n",
      "{'quantitative': 4179, 'temporal': 0, 'nominal': 0, 'ordinal': 0}\n"
     ]
    }
   ],
   "source": [
    "x_types = {\"quantitative\":0, \"temporal\":0, \"nominal\":0, \"ordinal\":0}\n",
    "y_types = {\"quantitative\":0, \"temporal\":0, \"nominal\":0, \"ordinal\":0}\n",
    "\n",
    "for i in single_plots.index:\n",
    "\n",
    "    vega = get_vega(single_plots, i)\n",
    "\n",
    "    x_types[ vega[\"encoding\"][\"x\"][\"type\"] ] += 1\n",
    "    y_types[ vega[\"encoding\"][\"y\"][\"type\"] ] += 1\n",
    "\n",
    "print(x_types)\n",
    "print(y_types)"
   ]
  }
 ],
 "metadata": {
  "kernelspec": {
   "display_name": "martin",
   "language": "python",
   "name": "python3"
  },
  "language_info": {
   "codemirror_mode": {
    "name": "ipython",
    "version": 3
   },
   "file_extension": ".py",
   "mimetype": "text/x-python",
   "name": "python",
   "nbconvert_exporter": "python",
   "pygments_lexer": "ipython3",
   "version": "3.12.2"
  }
 },
 "nbformat": 4,
 "nbformat_minor": 2
}
