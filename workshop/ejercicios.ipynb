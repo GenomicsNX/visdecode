{
 "cells": [
  {
   "cell_type": "code",
   "execution_count": 31,
   "metadata": {},
   "outputs": [],
   "source": [
    "import torch\n",
    "import matplotlib.pyplot as plt\n",
    "from PIL import Image\n",
    "import torch.nn.functional as F"
   ]
  },
  {
   "cell_type": "markdown",
   "metadata": {},
   "source": [
    "<font color='cyan'>**Ejercicio #1**</font> <br><br>\n",
    "Usando **smooth_if** implementar **smooth_max(x,y)** de forma diferenciable. \n",
    "***"
   ]
  },
  {
   "cell_type": "code",
   "execution_count": 32,
   "metadata": {},
   "outputs": [],
   "source": [
    "def smooth_if(cond, a, b, alpha = 100):\n",
    "\n",
    "    '''retorna a si cond > 0, sino retorna b'''\n",
    "    \n",
    "    sigmoid = torch.sigmoid(alpha * cond)\n",
    "    return sigmoid * a + (1 - sigmoid) * b"
   ]
  },
  {
   "cell_type": "code",
   "execution_count": 33,
   "metadata": {},
   "outputs": [],
   "source": [
    "def smooth_max(x, y):\n",
    "    return smooth_if( ... ) # <---- COMPLETAR"
   ]
  },
  {
   "cell_type": "code",
   "execution_count": 34,
   "metadata": {},
   "outputs": [
    {
     "ename": "TypeError",
     "evalue": "smooth_if() missing 2 required positional arguments: 'a' and 'b'",
     "output_type": "error",
     "traceback": [
      "\u001b[0;31m---------------------------------------------------------------------------\u001b[0m",
      "\u001b[0;31mTypeError\u001b[0m                                 Traceback (most recent call last)",
      "Cell \u001b[0;32mIn[34], line 4\u001b[0m\n\u001b[1;32m      1\u001b[0m x \u001b[38;5;241m=\u001b[39m torch\u001b[38;5;241m.\u001b[39mtensor(\u001b[38;5;241m3.\u001b[39m, requires_grad \u001b[38;5;241m=\u001b[39m \u001b[38;5;28;01mTrue\u001b[39;00m)\n\u001b[1;32m      2\u001b[0m y \u001b[38;5;241m=\u001b[39m torch\u001b[38;5;241m.\u001b[39mtensor(\u001b[38;5;241m2.\u001b[39m, requires_grad \u001b[38;5;241m=\u001b[39m \u001b[38;5;28;01mTrue\u001b[39;00m)\n\u001b[0;32m----> 4\u001b[0m \u001b[43msmooth_max\u001b[49m\u001b[43m(\u001b[49m\u001b[43mx\u001b[49m\u001b[43m,\u001b[49m\u001b[43m \u001b[49m\u001b[43my\u001b[49m\u001b[43m)\u001b[49m\n",
      "Cell \u001b[0;32mIn[33], line 2\u001b[0m, in \u001b[0;36msmooth_max\u001b[0;34m(x, y)\u001b[0m\n\u001b[1;32m      1\u001b[0m \u001b[38;5;28;01mdef\u001b[39;00m \u001b[38;5;21msmooth_max\u001b[39m(x, y):\n\u001b[0;32m----> 2\u001b[0m     \u001b[38;5;28;01mreturn\u001b[39;00m \u001b[43msmooth_if\u001b[49m\u001b[43m(\u001b[49m\u001b[43m \u001b[49m\u001b[38;5;241;43m.\u001b[39;49m\u001b[38;5;241;43m.\u001b[39;49m\u001b[38;5;241;43m.\u001b[39;49m\u001b[43m \u001b[49m\u001b[43m)\u001b[49m\n",
      "\u001b[0;31mTypeError\u001b[0m: smooth_if() missing 2 required positional arguments: 'a' and 'b'"
     ]
    }
   ],
   "source": [
    "x = torch.tensor(3., requires_grad = True)\n",
    "y = torch.tensor(2., requires_grad = True)\n",
    "\n",
    "smooth_max(x, y)"
   ]
  },
  {
   "cell_type": "markdown",
   "metadata": {},
   "source": [
    "<font color='cyan'>**Ejercicio #2**</font> <br><br>\n",
    "Usando las funciones que ya vimos, implementar **selection sort** diferenciable\n",
    "***"
   ]
  },
  {
   "cell_type": "code",
   "execution_count": null,
   "metadata": {},
   "outputs": [],
   "source": [
    "def smooth_max(v, alpha = 100):                      # a modo de referencia, no hay que usar max \n",
    "    weights = torch.softmax(alpha * v, dim = 0)\n",
    "    return (weights * v).sum()\n",
    "\n",
    "def smooth_min(v, alpha = 100):                                    \n",
    "    weights = torch.softmax( ... , dim = 0)     # <---- COMPLETAR\n",
    "    return (weights * v).sum()\n",
    "\n",
    "def smooth_argmin(v, alpha = 100):\n",
    "    \n",
    "    # COMPLETAR : la función debe devolver un tensor que se aproxime de forma diferenciable a [0, 0, ... , 1 , ... 0] \n",
    "    # donde el 1 indica la posición en 'v' dónde se encuentra el mínimo. PISTA: es muy parecido a smooth_min\n",
    "\n",
    "    return 0"
   ]
  },
  {
   "cell_type": "code",
   "execution_count": null,
   "metadata": {},
   "outputs": [],
   "source": [
    "def smooth_sort(u):\n",
    "\n",
    "    size = u.size(dim=0)\n",
    "\n",
    "    for i in range(size):\n",
    "        \n",
    "        min = ...                                                       # COMPLETAR : valor mínimo en u[i:]\n",
    "        argmin = torch.cat((torch.zeros(i), ... ))                      # COMPLETAR : indice del valor mínimo en u[i:]\n",
    "\n",
    "        # Smooth swap \n",
    "\n",
    "        u_temp = u.clone()  \n",
    "        u_temp = u_temp - argmin * u_temp \n",
    "\n",
    "        u0 = u_temp[i].clone()\n",
    "        u_temp[i] = min  \n",
    "\n",
    "        u = u_temp + argmin * u0 \n",
    "\n",
    "    return u"
   ]
  },
  {
   "cell_type": "code",
   "execution_count": null,
   "metadata": {},
   "outputs": [],
   "source": [
    "# OJO, no puede haber repetidos en s\n",
    "\n",
    "s = torch.tensor([10,5,2,3,98,100,0], dtype = torch.float, requires_grad = True)\n",
    "smooth_sort(s)"
   ]
  },
  {
   "cell_type": "markdown",
   "metadata": {},
   "source": [
    "**Aplicación: optimizar la diferencia entre el primer y último elemento luego de ser ordenado el tensor**"
   ]
  },
  {
   "cell_type": "code",
   "execution_count": null,
   "metadata": {},
   "outputs": [],
   "source": [
    "s = torch.tensor([4,3,2,1], dtype = torch.float, requires_grad = True)\n",
    "\n",
    "optimizer = torch.optim.Adam([s], lr = 0.1)\n",
    "\n",
    "for epoch in range(41):\n",
    "\n",
    "    optimizer.zero_grad()\n",
    "    sorted = smooth_sort(s)\n",
    "\n",
    "    y = (sorted[0] - sorted[-1]) ** 2\n",
    "\n",
    "    y.backward()\n",
    "    optimizer.step()\n",
    "\n",
    "    if epoch % 5 == 0: print(\"epoch\", epoch, y, s)"
   ]
  },
  {
   "cell_type": "code",
   "execution_count": null,
   "metadata": {},
   "outputs": [],
   "source": [
    "t = s.clone()\n",
    "print(\"Antes del Sorting: \", (t[0] - t[-1]) ** 2)\n",
    "\n",
    "t_sort = smooth_sort(t)\n",
    "print(\"Despues del Sorting: \", (t_sort[0] - t_sort[-1]) ** 2)"
   ]
  },
  {
   "cell_type": "markdown",
   "metadata": {},
   "source": [
    "<font color='cyan'>**Ejercicio #3 : Círculo Diferenciable**</font> <br><br>\n",
    "Completar la función **circle**\n",
    "***"
   ]
  },
  {
   "cell_type": "code",
   "execution_count": null,
   "metadata": {},
   "outputs": [],
   "source": [
    "def distance(x, y, center):\n",
    "    \n",
    "    '''computa la distancia euclidea (diferenciable) de (x,y) al centro'''\n",
    "\n",
    "    distance = torch.sqrt((x - center[0]) ** 2 + (y - center[1]) ** 2)\n",
    "    return distance"
   ]
  },
  {
   "cell_type": "code",
   "execution_count": null,
   "metadata": {},
   "outputs": [],
   "source": [
    "def circle(x, y, center, radius, alpha = 100):                                  \n",
    "\n",
    "    '''devuelve 1.0 si (x,y) está dentro del círculo y 0.0 si está fuera'''\n",
    "\n",
    "    d = ...                         # COMPLETAR : distancia al centro \n",
    "    return ...                      # COMPLETAR "
   ]
  },
  {
   "cell_type": "code",
   "execution_count": null,
   "metadata": {},
   "outputs": [],
   "source": [
    "x, y = torch.meshgrid(torch.linspace(-1, 1, 100), torch.linspace(-1, 1, 100))\n",
    "\n",
    "center = torch.tensor([0.0, 0.0], requires_grad = True)  \n",
    "radius = torch.tensor(0.5, requires_grad = True)  \n",
    "\n",
    "image = circle(x, y, center, radius, alpha = 100)\n",
    "\n",
    "plt.imshow(image.detach().numpy(), cmap = \"hot\")\n",
    "plt.colorbar()"
   ]
  },
  {
   "cell_type": "markdown",
   "metadata": {},
   "source": [
    "**Aplicación : Optimización sobre image.sum()**"
   ]
  },
  {
   "cell_type": "code",
   "execution_count": null,
   "metadata": {},
   "outputs": [],
   "source": [
    "x, y = torch.meshgrid(torch.linspace(-1, 1, 100), torch.linspace(-1, 1, 100))\n",
    "\n",
    "center = torch.tensor([0.0, 0.0], requires_grad = True)  \n",
    "radius = torch.tensor(0.5, requires_grad = True)  \n",
    "\n",
    "optimizer = torch.optim.Adam([center, radius], lr = 0.01)\n",
    "\n",
    "for epoch in range(61):\n",
    "\n",
    "    optimizer.zero_grad()\n",
    "\n",
    "    image = circle(x, y, center, radius, alpha = 100)\n",
    "\n",
    "    image.sum().backward()\n",
    "    optimizer.step()\n",
    "\n",
    "    if epoch % 10 == 0: \n",
    "        \n",
    "        plt.figure(figsize=(3,3))\n",
    "\n",
    "        plt.imshow(image.detach().numpy(), cmap = \"hot\")\n",
    "        plt.show()\n",
    "\n",
    "        print(\"epoch\", epoch, image.sum())"
   ]
  },
  {
   "cell_type": "markdown",
   "metadata": {},
   "source": [
    "**Aplicación : Ellipse Splatting**\n",
    "***"
   ]
  },
  {
   "cell_type": "code",
   "execution_count": null,
   "metadata": {},
   "outputs": [],
   "source": [
    "def ellipse(x, y, center, radius_x, radius_y, alpha):\n",
    "\n",
    "    '''Devuelve la distancia de (x, y) al borde de la elipse centrada en `center` con radios `radius_x` y `radius_y`.'''\n",
    "    \n",
    "    # Coordenadas relativas al centro\n",
    "    rel_x = x - center[0]\n",
    "    rel_y = y - center[1]\n",
    "    \n",
    "    # Distancia elíptica ajustada\n",
    "    d = torch.sqrt((rel_x / radius_x) ** 2 + (rel_y / radius_y) ** 2)\n",
    "    \n",
    "    # Si `d` es mayor que 1, el punto está fuera de la elipse, y la distancia es proporcional al borde\n",
    "    # Si `d` es menor o igual a 1, el punto está dentro de la elipse, y la distancia es 0\n",
    "\n",
    "    return smooth_if(d - 1, 0.0, 1.0, alpha)"
   ]
  },
  {
   "cell_type": "code",
   "execution_count": null,
   "metadata": {},
   "outputs": [],
   "source": [
    "x, y = torch.meshgrid(torch.linspace(-1, 1, 100), torch.linspace(-1, 1, 100))\n",
    "\n",
    "n = 100\n",
    "\n",
    "center = torch.rand((n,2), requires_grad = True)  \n",
    "with torch.no_grad(): center = center * 2 - 1\n",
    "\n",
    "radius_x = torch.rand((n), requires_grad = True) \n",
    "radius_y = torch.rand((n), requires_grad = True) \n",
    "color = torch.rand((n), requires_grad = True)\n",
    "alpha = torch.rand((n), requires_grad= True)\n",
    "\n",
    "layers = torch.zeros((n, 100, 100))\n",
    "\n",
    "for i in range(n):\n",
    "    layers[i] = ellipse(x, y, center[i], radius_x[i], radius_y[i], alpha[i] * 10)\n",
    "\n",
    "image = layers.sum(dim=0)"
   ]
  },
  {
   "cell_type": "code",
   "execution_count": null,
   "metadata": {},
   "outputs": [],
   "source": [
    "plt.imshow(image.detach().numpy(), cmap = \"hot\")\n",
    "plt.colorbar()"
   ]
  },
  {
   "cell_type": "markdown",
   "metadata": {},
   "source": [
    "<font color='cyan'>**Ejercicio #4 : SDF's**</font> <br><br>\n",
    "Generar la siguiente figura usando operaciones entre SDF's <br><br>\n",
    "<img src = \"mickey.png\">\n",
    "***"
   ]
  },
  {
   "cell_type": "code",
   "execution_count": null,
   "metadata": {},
   "outputs": [],
   "source": [
    "def sdf_circle(x, y, center, radius):\n",
    "\n",
    "    '''Computa la distancia a la superficie del círculo'''\n",
    "\n",
    "    return distance(x, y, center) - radius"
   ]
  },
  {
   "cell_type": "code",
   "execution_count": null,
   "metadata": {},
   "outputs": [],
   "source": [
    "center = torch.tensor([0,0], dtype = torch.float, requires_grad = True)            \n",
    "\n",
    "sdf = sdf_circle(x, y, center, 0.5)\n",
    "image = smooth_if(sdf, 0.0, 1.0)\n",
    "\n",
    "plt.imshow(image.detach().numpy(), cmap = \"hot\")\n",
    "plt.xticks([])\n",
    "plt.yticks([])"
   ]
  }
 ],
 "metadata": {
  "kernelspec": {
   "display_name": "martin",
   "language": "python",
   "name": "python3"
  },
  "language_info": {
   "codemirror_mode": {
    "name": "ipython",
    "version": 3
   },
   "file_extension": ".py",
   "mimetype": "text/x-python",
   "name": "python",
   "nbconvert_exporter": "python",
   "pygments_lexer": "ipython3",
   "version": "3.12.2"
  }
 },
 "nbformat": 4,
 "nbformat_minor": 2
}
