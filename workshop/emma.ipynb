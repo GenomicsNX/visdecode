{
 "cells": [
  {
   "cell_type": "code",
   "execution_count": 2,
   "metadata": {},
   "outputs": [],
   "source": [
    "import torch\n",
    "import matplotlib.pyplot as plt\n",
    "from PIL import Image\n",
    "import torch.nn.functional as F"
   ]
  },
  {
   "cell_type": "code",
   "execution_count": 13,
   "metadata": {},
   "outputs": [],
   "source": [
    "def smooth_if(cond, a, b, alpha = 100):\n",
    "\n",
    "    '''retorna a si cond > 0, sino retorna b'''\n",
    "    \n",
    "    sigmoid = torch.sigmoid(alpha * cond)\n",
    "    return sigmoid * a + (1 - sigmoid) * b"
   ]
  },
  {
   "cell_type": "code",
   "execution_count": 14,
   "metadata": {},
   "outputs": [],
   "source": [
    "x = torch.tensor(3., requires_grad = True)\n",
    "y = torch.tensor(7., requires_grad = True)"
   ]
  },
  {
   "cell_type": "code",
   "execution_count": null,
   "metadata": {},
   "outputs": [],
   "source": [
    "def smooth_max(x, y):\n",
    "    return smooth_if(x-y,x,y) # <---- COMPLETAR"
   ]
  },
  {
   "cell_type": "code",
   "execution_count": null,
   "metadata": {},
   "outputs": [],
   "source": [
    "def smooth_min(v, alpha = 100):                                    \n",
    "    weights = torch.softmax( -1 * alpha * v , dim = 0) \n",
    "    return (weights * v).sum()"
   ]
  },
  {
   "cell_type": "code",
   "execution_count": 28,
   "metadata": {},
   "outputs": [],
   "source": [
    "def smooth_argmin(v, alpha = 100):\n",
    "    weights = torch.softmax( -1 * alpha * v , dim = 0) \n",
    "    return weights"
   ]
  },
  {
   "cell_type": "code",
   "execution_count": 26,
   "metadata": {},
   "outputs": [],
   "source": [
    "v = torch.tensor([3.,-1, 0, -13], requires_grad = True)"
   ]
  },
  {
   "cell_type": "code",
   "execution_count": 27,
   "metadata": {},
   "outputs": [
    {
     "name": "stdout",
     "output_type": "stream",
     "text": [
      "tensor([0., 0., 0., 1.], grad_fn=<SoftmaxBackward0>)\n"
     ]
    },
    {
     "data": {
      "text/plain": [
       "tensor(-13., grad_fn=<SumBackward0>)"
      ]
     },
     "execution_count": 27,
     "metadata": {},
     "output_type": "execute_result"
    }
   ],
   "source": [
    "smooth_min(v)"
   ]
  },
  {
   "cell_type": "code",
   "execution_count": 31,
   "metadata": {},
   "outputs": [],
   "source": [
    "# Smooth selection sort\n",
    "def smooth_sort(u):\n",
    "\n",
    "    size = u.size(dim=0)\n",
    "\n",
    "    for i in range(size):\n",
    "        \n",
    "        min = smooth_min(u)                                                       # COMPLETAR : valor mínimo en u[i:]\n",
    "        argmin = torch.cat((torch.zeros(i), smooth_argmin(u[i:]) ))                      # COMPLETAR : indice del valor mínimo en u[i:]\n",
    "\n",
    "        # Smooth swap \n",
    "\n",
    "        u_temp = u.clone()  \n",
    "        u_temp = u_temp - argmin * u_temp \n",
    "\n",
    "        u0 = u_temp[i].clone()\n",
    "        u_temp[i] = min  \n",
    "\n",
    "        u = u_temp + argmin * u0 \n",
    "\n",
    "    return u"
   ]
  },
  {
   "cell_type": "code",
   "execution_count": 32,
   "metadata": {},
   "outputs": [
    {
     "name": "stdout",
     "output_type": "stream",
     "text": [
      "tensor([0., 0., 0., 0., 0., 0., 1.], grad_fn=<SoftmaxBackward0>)\n",
      "tensor([1., 0., 0., 0., 0., 0., 0.], grad_fn=<SoftmaxBackward0>)\n",
      "tensor([0.5000, 0.5000, 0.0000, 0.0000, 0.0000, 0.0000, 0.0000],\n",
      "       grad_fn=<SoftmaxBackward0>)\n",
      "tensor([0.3333, 0.3333, 0.3333, 0.0000, 0.0000, 0.0000, 0.0000],\n",
      "       grad_fn=<SoftmaxBackward0>)\n",
      "tensor([0.2500, 0.2500, 0.2500, 0.2500, 0.0000, 0.0000, 0.0000],\n",
      "       grad_fn=<SoftmaxBackward0>)\n",
      "tensor([0.2000, 0.2000, 0.2000, 0.2000, 0.2000, 0.0000, 0.0000],\n",
      "       grad_fn=<SoftmaxBackward0>)\n",
      "tensor([0.1667, 0.1667, 0.1667, 0.1667, 0.1667, 0.1667, 0.0000],\n",
      "       grad_fn=<SoftmaxBackward0>)\n"
     ]
    },
    {
     "data": {
      "text/plain": [
       "tensor([0., 0., 0., 0., 0., 0., 0.], grad_fn=<AddBackward0>)"
      ]
     },
     "execution_count": 32,
     "metadata": {},
     "output_type": "execute_result"
    }
   ],
   "source": [
    "# OJO, no puede haber repetidos en s\n",
    "\n",
    "s = torch.tensor([10,5,2,3,98,100,0], dtype = torch.float, requires_grad = True)\n",
    "smooth_sort(s)"
   ]
  },
  {
   "cell_type": "code",
   "execution_count": null,
   "metadata": {},
   "outputs": [],
   "source": []
  }
 ],
 "metadata": {
  "kernelspec": {
   "display_name": "martin",
   "language": "python",
   "name": "python3"
  },
  "language_info": {
   "codemirror_mode": {
    "name": "ipython",
    "version": 3
   },
   "file_extension": ".py",
   "mimetype": "text/x-python",
   "name": "python",
   "nbconvert_exporter": "python",
   "pygments_lexer": "ipython3",
   "version": "3.12.2"
  }
 },
 "nbformat": 4,
 "nbformat_minor": 2
}
