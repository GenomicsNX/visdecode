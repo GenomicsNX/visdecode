{
 "cells": [
  {
   "cell_type": "markdown",
   "metadata": {},
   "source": [
    "<font color='cyan'>**Gradient Descent**</font>\n",
    "***"
   ]
  },
  {
   "cell_type": "code",
   "execution_count": 117,
   "metadata": {},
   "outputs": [],
   "source": [
    "import matplotlib.pyplot as plt\n",
    "import torch\n",
    "from torchviz import make_dot"
   ]
  },
  {
   "cell_type": "code",
   "execution_count": 118,
   "metadata": {},
   "outputs": [],
   "source": [
    "x = torch.tensor([1.0], requires_grad = True)\n",
    "y = x ** 2"
   ]
  },
  {
   "cell_type": "markdown",
   "metadata": {},
   "source": [
    "**backward** calcula el gradiente de **y** con respecto a **x** en el punto dado"
   ]
  },
  {
   "cell_type": "code",
   "execution_count": 119,
   "metadata": {},
   "outputs": [
    {
     "data": {
      "text/plain": [
       "tensor([2.])"
      ]
     },
     "execution_count": 119,
     "metadata": {},
     "output_type": "execute_result"
    }
   ],
   "source": [
    "y.backward()\n",
    "x.grad"
   ]
  },
  {
   "cell_type": "markdown",
   "metadata": {},
   "source": [
    "**Gradient Descent** iterativo"
   ]
  },
  {
   "cell_type": "code",
   "execution_count": 120,
   "metadata": {},
   "outputs": [
    {
     "name": "stdout",
     "output_type": "stream",
     "text": [
      "tensor([1.], grad_fn=<PowBackward0>)\n",
      "tensor([0.6400], grad_fn=<PowBackward0>)\n",
      "tensor([0.4096], grad_fn=<PowBackward0>)\n",
      "tensor([0.2621], grad_fn=<PowBackward0>)\n",
      "tensor([0.1678], grad_fn=<PowBackward0>)\n",
      "tensor([0.1074], grad_fn=<PowBackward0>)\n",
      "tensor([0.0687], grad_fn=<PowBackward0>)\n",
      "tensor([0.0440], grad_fn=<PowBackward0>)\n",
      "tensor([0.0281], grad_fn=<PowBackward0>)\n",
      "tensor([0.0180], grad_fn=<PowBackward0>)\n",
      "tensor([0.0115], grad_fn=<PowBackward0>)\n",
      "tensor([0.0074], grad_fn=<PowBackward0>)\n",
      "tensor([0.0047], grad_fn=<PowBackward0>)\n",
      "tensor([0.0030], grad_fn=<PowBackward0>)\n",
      "tensor([0.0019], grad_fn=<PowBackward0>)\n"
     ]
    }
   ],
   "source": [
    "y_values = []\n",
    "lr = 0.1\n",
    "\n",
    "for epoch in range(15):\n",
    "\n",
    "    x.grad.zero_()\n",
    "\n",
    "    y = x ** 2\n",
    "    y.backward()\n",
    "\n",
    "    with torch.no_grad():\n",
    "        x -= lr * x.grad\n",
    "\n",
    "    y_values.append(y.item())\n",
    "    print(y)"
   ]
  },
  {
   "cell_type": "code",
   "execution_count": 121,
   "metadata": {},
   "outputs": [
    {
     "data": {
      "text/plain": [
       "tensor([0.0352], requires_grad=True)"
      ]
     },
     "execution_count": 121,
     "metadata": {},
     "output_type": "execute_result"
    }
   ],
   "source": [
    "x"
   ]
  },
  {
   "cell_type": "code",
   "execution_count": 122,
   "metadata": {},
   "outputs": [
    {
     "data": {
      "text/plain": [
       "Text(0, 0.5, 'y')"
      ]
     },
     "execution_count": 122,
     "metadata": {},
     "output_type": "execute_result"
    },
    {
     "data": {
      "image/png": "[encoded data removed]",
      "text/plain": [
       "<Figure size 640x480 with 1 Axes>"
      ]
     },
     "metadata": {},
     "output_type": "display_data"
    }
   ],
   "source": [
    "plt.plot(y_values)\n",
    "\n",
    "plt.xlabel(\"epochs\")\n",
    "plt.ylabel(\"y\")"
   ]
  },
  {
   "cell_type": "markdown",
   "metadata": {},
   "source": [
    "<font color='cyan'>**Autograd**</font>\n",
    "***"
   ]
  },
  {
   "cell_type": "code",
   "execution_count": 123,
   "metadata": {},
   "outputs": [],
   "source": [
    "x = torch.tensor(2., requires_grad = True)\n",
    "y = torch.tensor(4., requires_grad = True)\n",
    "z = torch.tensor(1., requires_grad = True)\n",
    "w = torch.tensor(3., requires_grad = True)"
   ]
  },
  {
   "cell_type": "code",
   "execution_count": 124,
   "metadata": {},
   "outputs": [],
   "source": [
    "f = - (torch.max(z, x ** 2) + 2 * w * y)"
   ]
  },
  {
   "cell_type": "code",
   "execution_count": 125,
   "metadata": {},
   "outputs": [],
   "source": [
    "f.backward()"
   ]
  },
  {
   "cell_type": "code",
   "execution_count": 126,
   "metadata": {},
   "outputs": [
    {
     "name": "stdout",
     "output_type": "stream",
     "text": [
      "tensor(-4.) tensor(-6.) tensor(0.) tensor(-8.)\n"
     ]
    }
   ],
   "source": [
    "print(x.grad, y.grad, z.grad, w.grad)"
   ]
  },
  {
   "cell_type": "markdown",
   "metadata": {},
   "source": [
    "**Optimizer para minimizar**"
   ]
  },
  {
   "cell_type": "code",
   "execution_count": 127,
   "metadata": {},
   "outputs": [],
   "source": [
    "losses = []"
   ]
  },
  {
   "cell_type": "code",
   "execution_count": 128,
   "metadata": {},
   "outputs": [
    {
     "name": "stdout",
     "output_type": "stream",
     "text": [
      "epoch 0 | loss =  tensor(784., grad_fn=<PowBackward0>)\n",
      "epoch 10 | loss =  tensor(50.4492, grad_fn=<PowBackward0>)\n",
      "epoch 20 | loss =  tensor(12.4855, grad_fn=<PowBackward0>)\n",
      "epoch 30 | loss =  tensor(3.8517, grad_fn=<PowBackward0>)\n",
      "epoch 40 | loss =  tensor(1.2322, grad_fn=<PowBackward0>)\n"
     ]
    }
   ],
   "source": [
    "optimizer = torch.optim.SGD([x,y,z,w], lr = 0.001)\n",
    "\n",
    "for epoch in range(41):\n",
    "\n",
    "    optimizer.zero_grad()\n",
    "\n",
    "    f = - (torch.max(z, x ** 2) + 2 * w * y)\n",
    "    loss = f ** 2\n",
    "\n",
    "    losses.append(loss.item())\n",
    "\n",
    "    loss.backward()\n",
    "    optimizer.step()\n",
    "\n",
    "    if epoch % 10 == 0: print(\"epoch\", epoch, \"| loss = \", loss)"
   ]
  },
  {
   "cell_type": "code",
   "execution_count": 129,
   "metadata": {},
   "outputs": [],
   "source": [
    "#make_dot(f, params={\"x\": x, \"y\": y, \"z\":z, \"w\":w})"
   ]
  },
  {
   "cell_type": "code",
   "execution_count": 130,
   "metadata": {},
   "outputs": [
    {
     "data": {
      "text/plain": [
       "[<matplotlib.lines.Line2D at 0x7fcf3857d2e0>]"
      ]
     },
     "execution_count": 130,
     "metadata": {},
     "output_type": "execute_result"
    },
    {
     "data": {
      "image/png": "[encoded data removed]",
      "text/plain": [
       "<Figure size 640x480 with 1 Axes>"
      ]
     },
     "metadata": {},
     "output_type": "display_data"
    }
   ],
   "source": [
    "plt.plot(losses)"
   ]
  },
  {
   "cell_type": "markdown",
   "metadata": {},
   "source": [
    "<font color='cyan'>**TorchViz**</font>\n",
    "***"
   ]
  },
  {
   "cell_type": "code",
   "execution_count": 131,
   "metadata": {},
   "outputs": [
    {
     "data": {
      "image/svg+xml": [
       "<?xml version=\"1.0\" encoding=\"UTF-8\" standalone=\"no\"?>\n",
       "<!DOCTYPE svg PUBLIC \"-//W3C//DTD SVG 1.1//EN\"\n",
       " \"http://www.w3.org/Graphics/SVG/1.1/DTD/svg11.dtd\">\n",
       "<!-- Generated by graphviz version 2.43.0 (0)\n",
       " -->\n",
       "<!-- Title: %3 Pages: 1 -->\n",
       "<svg width=\"228pt\" height=\"215pt\"\n",
       " viewBox=\"0.00 0.00 228.00 215.00\" xmlns=\"http://www.w3.org/2000/svg\" xmlns:xlink=\"http://www.w3.org/1999/xlink\">\n",
       "<g id=\"graph0\" class=\"graph\" transform=\"scale(1 1) rotate(0) translate(4 211)\">\n",
       "<title>%3</title>\n",
       "<polygon fill=\"white\" stroke=\"transparent\" points=\"-4,4 -4,-211 224,-211 224,4 -4,4\"/>\n",
       "<!-- 140528178195072 -->\n",
       "<g id=\"node1\" class=\"node\">\n",
       "<title>140528178195072</title>\n",
       "<polygon fill=\"#caff70\" stroke=\"black\" points=\"136.5,-31 82.5,-31 82.5,0 136.5,0 136.5,-31\"/>\n",
       "<text text-anchor=\"middle\" x=\"109.5\" y=\"-7\" font-family=\"monospace\" font-size=\"10.00\"> ()</text>\n",
       "</g>\n",
       "<!-- 140528180156480 -->\n",
       "<g id=\"node2\" class=\"node\">\n",
       "<title>140528180156480</title>\n",
       "<polygon fill=\"lightgrey\" stroke=\"black\" points=\"154,-86 65,-86 65,-67 154,-67 154,-86\"/>\n",
       "<text text-anchor=\"middle\" x=\"109.5\" y=\"-74\" font-family=\"monospace\" font-size=\"10.00\">AddBackward0</text>\n",
       "</g>\n",
       "<!-- 140528180156480&#45;&gt;140528178195072 -->\n",
       "<g id=\"edge5\" class=\"edge\">\n",
       "<title>140528180156480&#45;&gt;140528178195072</title>\n",
       "<path fill=\"none\" stroke=\"black\" d=\"M109.5,-66.79C109.5,-60.07 109.5,-50.4 109.5,-41.34\"/>\n",
       "<polygon fill=\"black\" stroke=\"black\" points=\"113,-41.19 109.5,-31.19 106,-41.19 113,-41.19\"/>\n",
       "</g>\n",
       "<!-- 140528468416672 -->\n",
       "<g id=\"node3\" class=\"node\">\n",
       "<title>140528468416672</title>\n",
       "<polygon fill=\"lightgrey\" stroke=\"black\" points=\"101,-141 0,-141 0,-122 101,-122 101,-141\"/>\n",
       "<text text-anchor=\"middle\" x=\"50.5\" y=\"-129\" font-family=\"monospace\" font-size=\"10.00\">AccumulateGrad</text>\n",
       "</g>\n",
       "<!-- 140528468416672&#45;&gt;140528180156480 -->\n",
       "<g id=\"edge1\" class=\"edge\">\n",
       "<title>140528468416672&#45;&gt;140528180156480</title>\n",
       "<path fill=\"none\" stroke=\"black\" d=\"M59.98,-121.98C68.7,-114.15 81.84,-102.34 92.4,-92.86\"/>\n",
       "<polygon fill=\"black\" stroke=\"black\" points=\"94.75,-95.46 99.85,-86.17 90.07,-90.25 94.75,-95.46\"/>\n",
       "</g>\n",
       "<!-- 140528467675408 -->\n",
       "<g id=\"node4\" class=\"node\">\n",
       "<title>140528467675408</title>\n",
       "<polygon fill=\"lightblue\" stroke=\"black\" points=\"77.5,-207 23.5,-207 23.5,-177 77.5,-177 77.5,-207\"/>\n",
       "<text text-anchor=\"middle\" x=\"50.5\" y=\"-195\" font-family=\"monospace\" font-size=\"10.00\">x</text>\n",
       "<text text-anchor=\"middle\" x=\"50.5\" y=\"-184\" font-family=\"monospace\" font-size=\"10.00\"> ()</text>\n",
       "</g>\n",
       "<!-- 140528467675408&#45;&gt;140528468416672 -->\n",
       "<g id=\"edge2\" class=\"edge\">\n",
       "<title>140528467675408&#45;&gt;140528468416672</title>\n",
       "<path fill=\"none\" stroke=\"black\" d=\"M50.5,-176.84C50.5,-169.21 50.5,-159.7 50.5,-151.45\"/>\n",
       "<polygon fill=\"black\" stroke=\"black\" points=\"54,-151.27 50.5,-141.27 47,-151.27 54,-151.27\"/>\n",
       "</g>\n",
       "<!-- 140527980091552 -->\n",
       "<g id=\"node5\" class=\"node\">\n",
       "<title>140527980091552</title>\n",
       "<polygon fill=\"lightgrey\" stroke=\"black\" points=\"220,-141 119,-141 119,-122 220,-122 220,-141\"/>\n",
       "<text text-anchor=\"middle\" x=\"169.5\" y=\"-129\" font-family=\"monospace\" font-size=\"10.00\">AccumulateGrad</text>\n",
       "</g>\n",
       "<!-- 140527980091552&#45;&gt;140528180156480 -->\n",
       "<g id=\"edge3\" class=\"edge\">\n",
       "<title>140527980091552&#45;&gt;140528180156480</title>\n",
       "<path fill=\"none\" stroke=\"black\" d=\"M159.86,-121.98C150.99,-114.15 137.63,-102.34 126.89,-92.86\"/>\n",
       "<polygon fill=\"black\" stroke=\"black\" points=\"129.13,-90.17 119.32,-86.17 124.49,-95.41 129.13,-90.17\"/>\n",
       "</g>\n",
       "<!-- 140528481192848 -->\n",
       "<g id=\"node6\" class=\"node\">\n",
       "<title>140528481192848</title>\n",
       "<polygon fill=\"lightblue\" stroke=\"black\" points=\"196.5,-207 142.5,-207 142.5,-177 196.5,-177 196.5,-207\"/>\n",
       "<text text-anchor=\"middle\" x=\"169.5\" y=\"-195\" font-family=\"monospace\" font-size=\"10.00\">y</text>\n",
       "<text text-anchor=\"middle\" x=\"169.5\" y=\"-184\" font-family=\"monospace\" font-size=\"10.00\"> ()</text>\n",
       "</g>\n",
       "<!-- 140528481192848&#45;&gt;140527980091552 -->\n",
       "<g id=\"edge4\" class=\"edge\">\n",
       "<title>140528481192848&#45;&gt;140527980091552</title>\n",
       "<path fill=\"none\" stroke=\"black\" d=\"M169.5,-176.84C169.5,-169.21 169.5,-159.7 169.5,-151.45\"/>\n",
       "<polygon fill=\"black\" stroke=\"black\" points=\"173,-151.27 169.5,-141.27 166,-151.27 173,-151.27\"/>\n",
       "</g>\n",
       "</g>\n",
       "</svg>\n"
      ],
      "text/plain": [
       "<graphviz.graphs.Digraph at 0x7fcf44474920>"
      ]
     },
     "execution_count": 131,
     "metadata": {},
     "output_type": "execute_result"
    }
   ],
   "source": [
    "x = torch.tensor(2.0, requires_grad = True)\n",
    "y = torch.tensor(3.0, requires_grad = True)\n",
    "\n",
    "if x < 1:\n",
    "    z = x * y\n",
    "else:\n",
    "    z = x + y\n",
    "\n",
    "# Visualización del grafo de cómputo\n",
    "make_dot(z, params={\"x\": x, \"y\": y})"
   ]
  },
  {
   "cell_type": "markdown",
   "metadata": {},
   "source": [
    "<font color='cyan'>**IF Clásico**</font>\n",
    "***"
   ]
  },
  {
   "cell_type": "code",
   "execution_count": 132,
   "metadata": {},
   "outputs": [],
   "source": [
    "x = torch.tensor(3., requires_grad = True)\n",
    "y = torch.tensor(1., requires_grad = True)"
   ]
  },
  {
   "cell_type": "code",
   "execution_count": 133,
   "metadata": {},
   "outputs": [],
   "source": [
    "z = 0\n",
    "\n",
    "if x > 0:\n",
    "    z = y ** 2\n",
    "else:\n",
    "    z = x ** 2\n",
    "\n",
    "z.backward()"
   ]
  },
  {
   "cell_type": "code",
   "execution_count": 134,
   "metadata": {},
   "outputs": [
    {
     "data": {
      "text/plain": [
       "tensor(1., grad_fn=<PowBackward0>)"
      ]
     },
     "execution_count": 134,
     "metadata": {},
     "output_type": "execute_result"
    }
   ],
   "source": [
    "z"
   ]
  },
  {
   "cell_type": "code",
   "execution_count": 135,
   "metadata": {},
   "outputs": [
    {
     "data": {
      "text/plain": [
       "(None, tensor(2.))"
      ]
     },
     "execution_count": 135,
     "metadata": {},
     "output_type": "execute_result"
    }
   ],
   "source": [
    "x.grad, y.grad"
   ]
  },
  {
   "cell_type": "markdown",
   "metadata": {},
   "source": [
    "<font color='cyan'>**Smooth IF**</font>\n",
    "***"
   ]
  },
  {
   "cell_type": "code",
   "execution_count": 136,
   "metadata": {},
   "outputs": [],
   "source": [
    "x = torch.tensor(3., requires_grad = True)\n",
    "y = torch.tensor(1., requires_grad = True)"
   ]
  },
  {
   "cell_type": "code",
   "execution_count": 137,
   "metadata": {},
   "outputs": [],
   "source": [
    "condicion = x\n",
    "sigmoid = torch.sigmoid(100 * condicion)    # 1 si cond > 0, sino 0"
   ]
  },
  {
   "cell_type": "code",
   "execution_count": 138,
   "metadata": {},
   "outputs": [],
   "source": [
    "z = sigmoid * (y ** 2) + (1 - sigmoid) * (x ** 2)\n",
    "z.backward()"
   ]
  },
  {
   "cell_type": "code",
   "execution_count": 139,
   "metadata": {},
   "outputs": [
    {
     "data": {
      "text/plain": [
       "tensor(1., grad_fn=<AddBackward0>)"
      ]
     },
     "execution_count": 139,
     "metadata": {},
     "output_type": "execute_result"
    }
   ],
   "source": [
    "z"
   ]
  },
  {
   "cell_type": "code",
   "execution_count": 140,
   "metadata": {},
   "outputs": [
    {
     "data": {
      "text/plain": [
       "(tensor(0.), tensor(2.))"
      ]
     },
     "execution_count": 140,
     "metadata": {},
     "output_type": "execute_result"
    }
   ],
   "source": [
    "x.grad, y.grad"
   ]
  },
  {
   "cell_type": "code",
   "execution_count": 141,
   "metadata": {},
   "outputs": [],
   "source": [
    "def smooth_if(cond, a, b):\n",
    "\n",
    "    '''retorna a si cond > 0, sino retorna b'''\n",
    "    \n",
    "    sigmoid = torch.sigmoid(100 * cond)\n",
    "    return sigmoid * a + (1 - sigmoid) * b"
   ]
  },
  {
   "cell_type": "markdown",
   "metadata": {},
   "source": [
    "\n",
    "<font color='cyan'>**Smooth Max**</font>\n",
    "***"
   ]
  },
  {
   "cell_type": "code",
   "execution_count": 142,
   "metadata": {},
   "outputs": [
    {
     "data": {
      "text/plain": [
       "tensor([1., 3., 2., 1.], requires_grad=True)"
      ]
     },
     "execution_count": 142,
     "metadata": {},
     "output_type": "execute_result"
    }
   ],
   "source": [
    "v = torch.tensor([1., 3., 2., 1.], requires_grad = True)\n",
    "v"
   ]
  },
  {
   "cell_type": "code",
   "execution_count": 143,
   "metadata": {},
   "outputs": [
    {
     "data": {
      "text/plain": [
       "tensor([0.0826, 0.6103, 0.2245, 0.0826], grad_fn=<SoftmaxBackward0>)"
      ]
     },
     "execution_count": 143,
     "metadata": {},
     "output_type": "execute_result"
    }
   ],
   "source": [
    "alpha = 1\n",
    "weights = torch.softmax(alpha * v, dim = 0)\n",
    "weights"
   ]
  },
  {
   "cell_type": "code",
   "execution_count": 144,
   "metadata": {},
   "outputs": [
    {
     "data": {
      "text/plain": [
       "<matplotlib.legend.Legend at 0x7fcf385e22d0>"
      ]
     },
     "execution_count": 144,
     "metadata": {},
     "output_type": "execute_result"
    },
    {
     "data": {
      "image/png": "[encoded data removed]",
      "text/plain": [
       "<Figure size 640x480 with 1 Axes>"
      ]
     },
     "metadata": {},
     "output_type": "display_data"
    }
   ],
   "source": [
    "plt.bar([0,3,6,9], v.detach().numpy(), width = 0.8, label = \"v\")\n",
    "plt.bar([1,4,7,10], weights.detach().numpy(), width = 0.8, label = \"softmax(v)\")\n",
    "\n",
    "plt.xticks([])\n",
    "plt.legend()"
   ]
  },
  {
   "cell_type": "code",
   "execution_count": 145,
   "metadata": {},
   "outputs": [],
   "source": [
    "def smooth_max(v, alpha = 10):\n",
    "    weights = torch.softmax(alpha * v, dim = 0)\n",
    "    return (weights * v).sum()"
   ]
  },
  {
   "cell_type": "code",
   "execution_count": 146,
   "metadata": {},
   "outputs": [
    {
     "data": {
      "text/plain": [
       "tensor(3.0000, grad_fn=<SumBackward0>)"
      ]
     },
     "execution_count": 146,
     "metadata": {},
     "output_type": "execute_result"
    }
   ],
   "source": [
    "smooth_max(v)"
   ]
  }
 ],
 "metadata": {
  "kernelspec": {
   "display_name": "martin",
   "language": "python",
   "name": "python3"
  },
  "language_info": {
   "codemirror_mode": {
    "name": "ipython",
    "version": 3
   },
   "file_extension": ".py",
   "mimetype": "text/x-python",
   "name": "python",
   "nbconvert_exporter": "python",
   "pygments_lexer": "ipython3",
   "version": "3.12.2"
  }
 },
 "nbformat": 4,
 "nbformat_minor": 2
}
